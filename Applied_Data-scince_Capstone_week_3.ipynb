{
 "cells": [
  {
   "cell_type": "markdown",
   "metadata": {},
   "source": [
    "# <span style=\"color:blue\">Question 1</span>\n",
    "### <span style=\"color:blue\">Use the BeautifulSoup package or any other way you are comfortable with to transform the data in the table on the Wikipedia page into the above pandas dataframe</span>"
   ]
  },
  {
   "cell_type": "code",
   "execution_count": 61,
   "metadata": {},
   "outputs": [],
   "source": [
    "import pandas as pd\n",
    "import matplotlib.pyplot as plt\n",
    "%matplotlib inline"
   ]
  },
  {
   "cell_type": "code",
   "execution_count": 62,
   "metadata": {},
   "outputs": [],
   "source": [
    "import requests\n",
    "webseitdata=requests.get('https://en.wikipedia.org/wiki/List_of_postal_codes_of_Canada:_M').text"
   ]
  },
  {
   "cell_type": "code",
   "execution_count": 63,
   "metadata": {},
   "outputs": [],
   "source": [
    "# parse data from the html into a beautifulsoup object\n",
    "from bs4 import BeautifulSoup\n",
    "soup = BeautifulSoup(webseitdata,'html.parser')\n",
    "#print(soup.prettify())"
   ]
  },
  {
   "cell_type": "code",
   "execution_count": 64,
   "metadata": {},
   "outputs": [],
   "source": [
    "# create three lists to store table data\n",
    "postalCodeList = []\n",
    "boroughList = []\n",
    "neighborhoodList = []"
   ]
  },
  {
   "cell_type": "code",
   "execution_count": 65,
   "metadata": {},
   "outputs": [],
   "source": [
    "#The table is available at class\n",
    "for row in soup.find('table').find_all('tr'):\n",
    "    cells = row.find_all('td')\n",
    "    if (len(cells)>0):\n",
    "        postalCodeList.append(cells[0].text)\n",
    "        boroughList.append(cells[1].text)\n",
    "        neighborhoodList.append(cells[2].text)"
   ]
  },
  {
   "cell_type": "code",
   "execution_count": 66,
   "metadata": {},
   "outputs": [],
   "source": [
    "postalCodeList=list(map(lambda x:x.rstrip(\"\\n\"),postalCodeList))\n",
    "boroughList=list(map(lambda x:x.rstrip(\"\\n\"),boroughList))\n",
    "neighborhoodList=list(map(lambda x:x.rstrip(\"\\n\"),neighborhoodList))"
   ]
  },
  {
   "cell_type": "code",
   "execution_count": 67,
   "metadata": {},
   "outputs": [],
   "source": [
    "df=pd.DataFrame({\"PostalCode\":postalCodeList, \"Borough\":boroughList,\"Neighborhood\":neighborhoodList})"
   ]
  },
  {
   "cell_type": "code",
   "execution_count": 68,
   "metadata": {},
   "outputs": [
    {
     "data": {
      "text/html": [
       "<div>\n",
       "<style scoped>\n",
       "    .dataframe tbody tr th:only-of-type {\n",
       "        vertical-align: middle;\n",
       "    }\n",
       "\n",
       "    .dataframe tbody tr th {\n",
       "        vertical-align: top;\n",
       "    }\n",
       "\n",
       "    .dataframe thead th {\n",
       "        text-align: right;\n",
       "    }\n",
       "</style>\n",
       "<table border=\"1\" class=\"dataframe\">\n",
       "  <thead>\n",
       "    <tr style=\"text-align: right;\">\n",
       "      <th></th>\n",
       "      <th>PostalCode</th>\n",
       "      <th>Borough</th>\n",
       "      <th>Neighborhood</th>\n",
       "    </tr>\n",
       "  </thead>\n",
       "  <tbody>\n",
       "    <tr>\n",
       "      <th>0</th>\n",
       "      <td>M1A</td>\n",
       "      <td>Not assigned</td>\n",
       "      <td>Not assigned</td>\n",
       "    </tr>\n",
       "    <tr>\n",
       "      <th>1</th>\n",
       "      <td>M2A</td>\n",
       "      <td>Not assigned</td>\n",
       "      <td>Not assigned</td>\n",
       "    </tr>\n",
       "    <tr>\n",
       "      <th>2</th>\n",
       "      <td>M3A</td>\n",
       "      <td>North York</td>\n",
       "      <td>Parkwoods</td>\n",
       "    </tr>\n",
       "    <tr>\n",
       "      <th>3</th>\n",
       "      <td>M4A</td>\n",
       "      <td>North York</td>\n",
       "      <td>Victoria Village</td>\n",
       "    </tr>\n",
       "    <tr>\n",
       "      <th>4</th>\n",
       "      <td>M5A</td>\n",
       "      <td>Downtown Toronto</td>\n",
       "      <td>Regent Park, Harbourfront</td>\n",
       "    </tr>\n",
       "  </tbody>\n",
       "</table>\n",
       "</div>"
      ],
      "text/plain": [
       "  PostalCode           Borough               Neighborhood\n",
       "0        M1A      Not assigned               Not assigned\n",
       "1        M2A      Not assigned               Not assigned\n",
       "2        M3A        North York                  Parkwoods\n",
       "3        M4A        North York           Victoria Village\n",
       "4        M5A  Downtown Toronto  Regent Park, Harbourfront"
      ]
     },
     "execution_count": 68,
     "metadata": {},
     "output_type": "execute_result"
    }
   ],
   "source": [
    "df.head()"
   ]
  },
  {
   "cell_type": "markdown",
   "metadata": {},
   "source": [
    "#### Q 3. Only processing the cells that have an assigned borough. Ignoring the cells with a borough that is Not assigned. Droping row where borough is \"Not assigned\""
   ]
  },
  {
   "cell_type": "code",
   "execution_count": 69,
   "metadata": {},
   "outputs": [],
   "source": [
    "df_clean1=df[df.Borough!=\"Not assigned\"].reset_index(drop=True)"
   ]
  },
  {
   "cell_type": "code",
   "execution_count": 70,
   "metadata": {},
   "outputs": [
    {
     "data": {
      "text/html": [
       "<div>\n",
       "<style scoped>\n",
       "    .dataframe tbody tr th:only-of-type {\n",
       "        vertical-align: middle;\n",
       "    }\n",
       "\n",
       "    .dataframe tbody tr th {\n",
       "        vertical-align: top;\n",
       "    }\n",
       "\n",
       "    .dataframe thead th {\n",
       "        text-align: right;\n",
       "    }\n",
       "</style>\n",
       "<table border=\"1\" class=\"dataframe\">\n",
       "  <thead>\n",
       "    <tr style=\"text-align: right;\">\n",
       "      <th></th>\n",
       "      <th>PostalCode</th>\n",
       "      <th>Borough</th>\n",
       "      <th>Neighborhood</th>\n",
       "    </tr>\n",
       "  </thead>\n",
       "  <tbody>\n",
       "    <tr>\n",
       "      <th>0</th>\n",
       "      <td>M3A</td>\n",
       "      <td>North York</td>\n",
       "      <td>Parkwoods</td>\n",
       "    </tr>\n",
       "    <tr>\n",
       "      <th>1</th>\n",
       "      <td>M4A</td>\n",
       "      <td>North York</td>\n",
       "      <td>Victoria Village</td>\n",
       "    </tr>\n",
       "    <tr>\n",
       "      <th>2</th>\n",
       "      <td>M5A</td>\n",
       "      <td>Downtown Toronto</td>\n",
       "      <td>Regent Park, Harbourfront</td>\n",
       "    </tr>\n",
       "    <tr>\n",
       "      <th>3</th>\n",
       "      <td>M6A</td>\n",
       "      <td>North York</td>\n",
       "      <td>Lawrence Manor, Lawrence Heights</td>\n",
       "    </tr>\n",
       "    <tr>\n",
       "      <th>4</th>\n",
       "      <td>M7A</td>\n",
       "      <td>Downtown Toronto</td>\n",
       "      <td>Queen's Park, Ontario Provincial Government</td>\n",
       "    </tr>\n",
       "  </tbody>\n",
       "</table>\n",
       "</div>"
      ],
      "text/plain": [
       "  PostalCode           Borough                                 Neighborhood\n",
       "0        M3A        North York                                    Parkwoods\n",
       "1        M4A        North York                             Victoria Village\n",
       "2        M5A  Downtown Toronto                    Regent Park, Harbourfront\n",
       "3        M6A        North York             Lawrence Manor, Lawrence Heights\n",
       "4        M7A  Downtown Toronto  Queen's Park, Ontario Provincial Government"
      ]
     },
     "execution_count": 70,
     "metadata": {},
     "output_type": "execute_result"
    }
   ],
   "source": [
    "df_clean1.head()"
   ]
  },
  {
   "cell_type": "markdown",
   "metadata": {},
   "source": [
    "###  4. If a cell has a borough but a Not assigned neighborhood, then the neighborhood will be the same as the borough"
   ]
  },
  {
   "cell_type": "code",
   "execution_count": 71,
   "metadata": {},
   "outputs": [
    {
     "data": {
      "text/html": [
       "<div>\n",
       "<style scoped>\n",
       "    .dataframe tbody tr th:only-of-type {\n",
       "        vertical-align: middle;\n",
       "    }\n",
       "\n",
       "    .dataframe tbody tr th {\n",
       "        vertical-align: top;\n",
       "    }\n",
       "\n",
       "    .dataframe thead th {\n",
       "        text-align: right;\n",
       "    }\n",
       "</style>\n",
       "<table border=\"1\" class=\"dataframe\">\n",
       "  <thead>\n",
       "    <tr style=\"text-align: right;\">\n",
       "      <th></th>\n",
       "      <th>PostalCode</th>\n",
       "      <th>Borough</th>\n",
       "      <th>Neighborhood</th>\n",
       "    </tr>\n",
       "  </thead>\n",
       "  <tbody>\n",
       "    <tr>\n",
       "      <th>0</th>\n",
       "      <td>M1B</td>\n",
       "      <td>Scarborough</td>\n",
       "      <td>Malvern, Rouge</td>\n",
       "    </tr>\n",
       "    <tr>\n",
       "      <th>1</th>\n",
       "      <td>M1C</td>\n",
       "      <td>Scarborough</td>\n",
       "      <td>Rouge Hill, Port Union, Highland Creek</td>\n",
       "    </tr>\n",
       "    <tr>\n",
       "      <th>2</th>\n",
       "      <td>M1E</td>\n",
       "      <td>Scarborough</td>\n",
       "      <td>Guildwood, Morningside, West Hill</td>\n",
       "    </tr>\n",
       "    <tr>\n",
       "      <th>3</th>\n",
       "      <td>M1G</td>\n",
       "      <td>Scarborough</td>\n",
       "      <td>Woburn</td>\n",
       "    </tr>\n",
       "    <tr>\n",
       "      <th>4</th>\n",
       "      <td>M1H</td>\n",
       "      <td>Scarborough</td>\n",
       "      <td>Cedarbrae</td>\n",
       "    </tr>\n",
       "  </tbody>\n",
       "</table>\n",
       "</div>"
      ],
      "text/plain": [
       "  PostalCode      Borough                            Neighborhood\n",
       "0        M1B  Scarborough                          Malvern, Rouge\n",
       "1        M1C  Scarborough  Rouge Hill, Port Union, Highland Creek\n",
       "2        M1E  Scarborough       Guildwood, Morningside, West Hill\n",
       "3        M1G  Scarborough                                  Woburn\n",
       "4        M1H  Scarborough                               Cedarbrae"
      ]
     },
     "execution_count": 71,
     "metadata": {},
     "output_type": "execute_result"
    }
   ],
   "source": [
    "# group neighborhoods in the same borough\n",
    "toronto_df_grouped = df_clean1.groupby([\"PostalCode\", \"Borough\"], as_index=False).agg(lambda x: \", \".join(x))\n",
    "toronto_df_grouped.head()"
   ]
  },
  {
   "cell_type": "markdown",
   "metadata": {},
   "source": [
    "### 5. For Neighborhood=\"Not assigned\", make the value the same as Borough"
   ]
  },
  {
   "cell_type": "code",
   "execution_count": 72,
   "metadata": {},
   "outputs": [],
   "source": [
    "toronto_df_grouped[\"Neighborhood\"]=toronto_df_grouped[\"Neighborhood\"].replace(\"Not assigned\",toronto_df_grouped[\"Borough\"])"
   ]
  },
  {
   "cell_type": "code",
   "execution_count": 73,
   "metadata": {},
   "outputs": [
    {
     "data": {
      "text/html": [
       "<div>\n",
       "<style scoped>\n",
       "    .dataframe tbody tr th:only-of-type {\n",
       "        vertical-align: middle;\n",
       "    }\n",
       "\n",
       "    .dataframe tbody tr th {\n",
       "        vertical-align: top;\n",
       "    }\n",
       "\n",
       "    .dataframe thead th {\n",
       "        text-align: right;\n",
       "    }\n",
       "</style>\n",
       "<table border=\"1\" class=\"dataframe\">\n",
       "  <thead>\n",
       "    <tr style=\"text-align: right;\">\n",
       "      <th></th>\n",
       "      <th>PostalCode</th>\n",
       "      <th>Borough</th>\n",
       "      <th>Neighborhood</th>\n",
       "    </tr>\n",
       "  </thead>\n",
       "  <tbody>\n",
       "    <tr>\n",
       "      <th>0</th>\n",
       "      <td>M1B</td>\n",
       "      <td>Scarborough</td>\n",
       "      <td>Malvern, Rouge</td>\n",
       "    </tr>\n",
       "    <tr>\n",
       "      <th>1</th>\n",
       "      <td>M1C</td>\n",
       "      <td>Scarborough</td>\n",
       "      <td>Rouge Hill, Port Union, Highland Creek</td>\n",
       "    </tr>\n",
       "    <tr>\n",
       "      <th>2</th>\n",
       "      <td>M1E</td>\n",
       "      <td>Scarborough</td>\n",
       "      <td>Guildwood, Morningside, West Hill</td>\n",
       "    </tr>\n",
       "    <tr>\n",
       "      <th>3</th>\n",
       "      <td>M1G</td>\n",
       "      <td>Scarborough</td>\n",
       "      <td>Woburn</td>\n",
       "    </tr>\n",
       "    <tr>\n",
       "      <th>4</th>\n",
       "      <td>M1H</td>\n",
       "      <td>Scarborough</td>\n",
       "      <td>Cedarbrae</td>\n",
       "    </tr>\n",
       "  </tbody>\n",
       "</table>\n",
       "</div>"
      ],
      "text/plain": [
       "  PostalCode      Borough                            Neighborhood\n",
       "0        M1B  Scarborough                          Malvern, Rouge\n",
       "1        M1C  Scarborough  Rouge Hill, Port Union, Highland Creek\n",
       "2        M1E  Scarborough       Guildwood, Morningside, West Hill\n",
       "3        M1G  Scarborough                                  Woburn\n",
       "4        M1H  Scarborough                               Cedarbrae"
      ]
     },
     "execution_count": 73,
     "metadata": {},
     "output_type": "execute_result"
    }
   ],
   "source": [
    "toronto_df_grouped.head()"
   ]
  },
  {
   "cell_type": "code",
   "execution_count": 74,
   "metadata": {},
   "outputs": [],
   "source": [
    "### 6. Check whether the data looks same as the list reqired"
   ]
  },
  {
   "cell_type": "code",
   "execution_count": 75,
   "metadata": {},
   "outputs": [],
   "source": [
    "test_list = [\"M5G\", \"M2H\", \"M4B\", \"M1J\", \"M4G\", \"M4M\", \"M1R\", \"M9V\", \"M9L\", \"M5V\", \"M1B\", \"M5A\"]\n",
    "\n",
    "test_df=pd.DataFrame(columns=toronto_df_grouped.columns)\n",
    "\n",
    "for postalcode in test_list:\n",
    "    test_df=test_df.append(toronto_df_grouped[toronto_df_grouped[\"PostalCode\"]==postalcode],ignore_index=True)"
   ]
  },
  {
   "cell_type": "code",
   "execution_count": 76,
   "metadata": {},
   "outputs": [
    {
     "data": {
      "text/html": [
       "<div>\n",
       "<style scoped>\n",
       "    .dataframe tbody tr th:only-of-type {\n",
       "        vertical-align: middle;\n",
       "    }\n",
       "\n",
       "    .dataframe tbody tr th {\n",
       "        vertical-align: top;\n",
       "    }\n",
       "\n",
       "    .dataframe thead th {\n",
       "        text-align: right;\n",
       "    }\n",
       "</style>\n",
       "<table border=\"1\" class=\"dataframe\">\n",
       "  <thead>\n",
       "    <tr style=\"text-align: right;\">\n",
       "      <th></th>\n",
       "      <th>PostalCode</th>\n",
       "      <th>Borough</th>\n",
       "      <th>Neighborhood</th>\n",
       "    </tr>\n",
       "  </thead>\n",
       "  <tbody>\n",
       "    <tr>\n",
       "      <th>0</th>\n",
       "      <td>M5G</td>\n",
       "      <td>Downtown Toronto</td>\n",
       "      <td>Central Bay Street</td>\n",
       "    </tr>\n",
       "    <tr>\n",
       "      <th>1</th>\n",
       "      <td>M2H</td>\n",
       "      <td>North York</td>\n",
       "      <td>Hillcrest Village</td>\n",
       "    </tr>\n",
       "    <tr>\n",
       "      <th>2</th>\n",
       "      <td>M4B</td>\n",
       "      <td>East York</td>\n",
       "      <td>Parkview Hill, Woodbine Gardens</td>\n",
       "    </tr>\n",
       "    <tr>\n",
       "      <th>3</th>\n",
       "      <td>M1J</td>\n",
       "      <td>Scarborough</td>\n",
       "      <td>Scarborough Village</td>\n",
       "    </tr>\n",
       "    <tr>\n",
       "      <th>4</th>\n",
       "      <td>M4G</td>\n",
       "      <td>East York</td>\n",
       "      <td>Leaside</td>\n",
       "    </tr>\n",
       "    <tr>\n",
       "      <th>5</th>\n",
       "      <td>M4M</td>\n",
       "      <td>East Toronto</td>\n",
       "      <td>Studio District</td>\n",
       "    </tr>\n",
       "    <tr>\n",
       "      <th>6</th>\n",
       "      <td>M1R</td>\n",
       "      <td>Scarborough</td>\n",
       "      <td>Wexford, Maryvale</td>\n",
       "    </tr>\n",
       "    <tr>\n",
       "      <th>7</th>\n",
       "      <td>M9V</td>\n",
       "      <td>Etobicoke</td>\n",
       "      <td>South Steeles, Silverstone, Humbergate, Jamest...</td>\n",
       "    </tr>\n",
       "    <tr>\n",
       "      <th>8</th>\n",
       "      <td>M9L</td>\n",
       "      <td>North York</td>\n",
       "      <td>Humber Summit</td>\n",
       "    </tr>\n",
       "    <tr>\n",
       "      <th>9</th>\n",
       "      <td>M5V</td>\n",
       "      <td>Downtown Toronto</td>\n",
       "      <td>CN Tower, King and Spadina, Railway Lands, Har...</td>\n",
       "    </tr>\n",
       "    <tr>\n",
       "      <th>10</th>\n",
       "      <td>M1B</td>\n",
       "      <td>Scarborough</td>\n",
       "      <td>Malvern, Rouge</td>\n",
       "    </tr>\n",
       "    <tr>\n",
       "      <th>11</th>\n",
       "      <td>M5A</td>\n",
       "      <td>Downtown Toronto</td>\n",
       "      <td>Regent Park, Harbourfront</td>\n",
       "    </tr>\n",
       "  </tbody>\n",
       "</table>\n",
       "</div>"
      ],
      "text/plain": [
       "   PostalCode           Borough  \\\n",
       "0         M5G  Downtown Toronto   \n",
       "1         M2H        North York   \n",
       "2         M4B         East York   \n",
       "3         M1J       Scarborough   \n",
       "4         M4G         East York   \n",
       "5         M4M      East Toronto   \n",
       "6         M1R       Scarborough   \n",
       "7         M9V         Etobicoke   \n",
       "8         M9L        North York   \n",
       "9         M5V  Downtown Toronto   \n",
       "10        M1B       Scarborough   \n",
       "11        M5A  Downtown Toronto   \n",
       "\n",
       "                                         Neighborhood  \n",
       "0                                  Central Bay Street  \n",
       "1                                   Hillcrest Village  \n",
       "2                     Parkview Hill, Woodbine Gardens  \n",
       "3                                 Scarborough Village  \n",
       "4                                             Leaside  \n",
       "5                                     Studio District  \n",
       "6                                   Wexford, Maryvale  \n",
       "7   South Steeles, Silverstone, Humbergate, Jamest...  \n",
       "8                                       Humber Summit  \n",
       "9   CN Tower, King and Spadina, Railway Lands, Har...  \n",
       "10                                     Malvern, Rouge  \n",
       "11                          Regent Park, Harbourfront  "
      ]
     },
     "execution_count": 76,
     "metadata": {},
     "output_type": "execute_result"
    }
   ],
   "source": [
    "test_df"
   ]
  },
  {
   "cell_type": "markdown",
   "metadata": {},
   "source": [
    "### 7. Finally, print the number of rows of the cleaned dataframe"
   ]
  },
  {
   "cell_type": "code",
   "execution_count": 77,
   "metadata": {},
   "outputs": [
    {
     "data": {
      "text/plain": [
       "(103, 3)"
      ]
     },
     "execution_count": 77,
     "metadata": {},
     "output_type": "execute_result"
    }
   ],
   "source": [
    "toronto_df_grouped.shape"
   ]
  },
  {
   "cell_type": "markdown",
   "metadata": {},
   "source": [
    "# <span style=\"color:blue\">Question 2</span>\n",
    "### <span style=\"color:blue\">Use the Geocoder package or the csv file to create dataframe with longitude and latitude values</span> "
   ]
  },
  {
   "cell_type": "markdown",
   "metadata": {},
   "source": [
    "#### We will be using a csv file that has the geographical coordinates of each postal code: http://cocl.us/Geospatial_data"
   ]
  },
  {
   "cell_type": "code",
   "execution_count": 78,
   "metadata": {},
   "outputs": [],
   "source": [
    "geo_url=\"http://cocl.us/Geospatial_data\"\n",
    "geo_data=pd.read_csv(geo_url)"
   ]
  },
  {
   "cell_type": "code",
   "execution_count": 79,
   "metadata": {},
   "outputs": [],
   "source": [
    "#geo_data.columns\n",
    "geo_data.columns=['PostalCode', 'Latitude', 'Longitude']"
   ]
  },
  {
   "cell_type": "code",
   "execution_count": 80,
   "metadata": {},
   "outputs": [],
   "source": [
    "toronto_df2=pd.merge(toronto_df_grouped,geo_data,how='inner',on=\"PostalCode\")"
   ]
  },
  {
   "cell_type": "code",
   "execution_count": 81,
   "metadata": {},
   "outputs": [
    {
     "data": {
      "text/html": [
       "<div>\n",
       "<style scoped>\n",
       "    .dataframe tbody tr th:only-of-type {\n",
       "        vertical-align: middle;\n",
       "    }\n",
       "\n",
       "    .dataframe tbody tr th {\n",
       "        vertical-align: top;\n",
       "    }\n",
       "\n",
       "    .dataframe thead th {\n",
       "        text-align: right;\n",
       "    }\n",
       "</style>\n",
       "<table border=\"1\" class=\"dataframe\">\n",
       "  <thead>\n",
       "    <tr style=\"text-align: right;\">\n",
       "      <th></th>\n",
       "      <th>PostalCode</th>\n",
       "      <th>Borough</th>\n",
       "      <th>Neighborhood</th>\n",
       "      <th>Latitude</th>\n",
       "      <th>Longitude</th>\n",
       "    </tr>\n",
       "  </thead>\n",
       "  <tbody>\n",
       "    <tr>\n",
       "      <th>0</th>\n",
       "      <td>M1B</td>\n",
       "      <td>Scarborough</td>\n",
       "      <td>Malvern, Rouge</td>\n",
       "      <td>43.806686</td>\n",
       "      <td>-79.194353</td>\n",
       "    </tr>\n",
       "    <tr>\n",
       "      <th>1</th>\n",
       "      <td>M1C</td>\n",
       "      <td>Scarborough</td>\n",
       "      <td>Rouge Hill, Port Union, Highland Creek</td>\n",
       "      <td>43.784535</td>\n",
       "      <td>-79.160497</td>\n",
       "    </tr>\n",
       "    <tr>\n",
       "      <th>2</th>\n",
       "      <td>M1E</td>\n",
       "      <td>Scarborough</td>\n",
       "      <td>Guildwood, Morningside, West Hill</td>\n",
       "      <td>43.763573</td>\n",
       "      <td>-79.188711</td>\n",
       "    </tr>\n",
       "    <tr>\n",
       "      <th>3</th>\n",
       "      <td>M1G</td>\n",
       "      <td>Scarborough</td>\n",
       "      <td>Woburn</td>\n",
       "      <td>43.770992</td>\n",
       "      <td>-79.216917</td>\n",
       "    </tr>\n",
       "    <tr>\n",
       "      <th>4</th>\n",
       "      <td>M1H</td>\n",
       "      <td>Scarborough</td>\n",
       "      <td>Cedarbrae</td>\n",
       "      <td>43.773136</td>\n",
       "      <td>-79.239476</td>\n",
       "    </tr>\n",
       "  </tbody>\n",
       "</table>\n",
       "</div>"
      ],
      "text/plain": [
       "  PostalCode      Borough                            Neighborhood   Latitude  \\\n",
       "0        M1B  Scarborough                          Malvern, Rouge  43.806686   \n",
       "1        M1C  Scarborough  Rouge Hill, Port Union, Highland Creek  43.784535   \n",
       "2        M1E  Scarborough       Guildwood, Morningside, West Hill  43.763573   \n",
       "3        M1G  Scarborough                                  Woburn  43.770992   \n",
       "4        M1H  Scarborough                               Cedarbrae  43.773136   \n",
       "\n",
       "   Longitude  \n",
       "0 -79.194353  \n",
       "1 -79.160497  \n",
       "2 -79.188711  \n",
       "3 -79.216917  \n",
       "4 -79.239476  "
      ]
     },
     "execution_count": 81,
     "metadata": {},
     "output_type": "execute_result"
    }
   ],
   "source": [
    "toronto_df2.head()"
   ]
  },
  {
   "cell_type": "markdown",
   "metadata": {},
   "source": [
    "# <span style=\"color:blue\">Question 3</span>\n",
    "### <span style=\"color:blue\">Explore and cluster the neighborhoods in Toronto</span>"
   ]
  },
  {
   "cell_type": "code",
   "execution_count": 82,
   "metadata": {},
   "outputs": [
    {
     "name": "stdout",
     "output_type": "stream",
     "text": [
      "The dataframe has 10 boroughs and 103 neighborhoods.\n"
     ]
    }
   ],
   "source": [
    "print('The dataframe has {} boroughs and {} neighborhoods.'.format(\n",
    "        len(toronto_df2['Borough'].unique()),\n",
    "        toronto_df2.shape[0]\n",
    "    )\n",
    ")"
   ]
  },
  {
   "cell_type": "code",
   "execution_count": 83,
   "metadata": {},
   "outputs": [
    {
     "name": "stdout",
     "output_type": "stream",
     "text": [
      "Libraries imported.\n"
     ]
    }
   ],
   "source": [
    "from geopy.geocoders import Nominatim \n",
    "import geopy\n",
    "# convert an address into latitude and longitude values\n",
    "\n",
    "# Matplotlib and associated plotting modules\n",
    "import matplotlib.cm as cm\n",
    "import matplotlib.colors as colors\n",
    "\n",
    "# import k-means from clustering stage\n",
    "from sklearn.cluster import KMeans\n",
    "\n",
    "#!conda install -c conda-forge folium=0.5.0 --yes # uncomment this line if you haven't completed the Foursquare API lab\n",
    "import folium # map rendering library\n",
    "\n",
    "print('Libraries imported.')"
   ]
  },
  {
   "cell_type": "code",
   "execution_count": 84,
   "metadata": {},
   "outputs": [
    {
     "name": "stdout",
     "output_type": "stream",
     "text": [
      "The geograpical coordinate of New York City are 43.6534817, -79.3839347.\n"
     ]
    }
   ],
   "source": [
    "#get Latitute and longitude of toronto\n",
    "\n",
    "address = 'Toronto, ON'\n",
    "\n",
    "geolocator = Nominatim(user_agent=\"ON\")\n",
    "location = geolocator.geocode(address)\n",
    "latitude = location.latitude\n",
    "longitude = location.longitude\n",
    "print('The geograpical coordinate of New York City are {}, {}.'.format(latitude, longitude))"
   ]
  },
  {
   "cell_type": "code",
   "execution_count": 85,
   "metadata": {
    "scrolled": true
   },
   "outputs": [
    {
     "data": {
      "text/html": [
       "<div style=\"width:100%;\"><div style=\"position:relative;width:100%;height:0;padding-bottom:60%;\"><span style=\"color:#565656\">Make this Notebook Trusted to load map: File -> Trust Notebook</span><iframe src=\"about:blank\" style=\"position:absolute;width:100%;height:100%;left:0;top:0;border:none !important;\" data-html=PCFET0NUWVBFIGh0bWw+CjxoZWFkPiAgICAKICAgIDxtZXRhIGh0dHAtZXF1aXY9ImNvbnRlbnQtdHlwZSIgY29udGVudD0idGV4dC9odG1sOyBjaGFyc2V0PVVURi04IiAvPgogICAgCiAgICAgICAgPHNjcmlwdD4KICAgICAgICAgICAgTF9OT19UT1VDSCA9IGZhbHNlOwogICAgICAgICAgICBMX0RJU0FCTEVfM0QgPSBmYWxzZTsKICAgICAgICA8L3NjcmlwdD4KICAgIAogICAgPHNjcmlwdCBzcmM9Imh0dHBzOi8vY2RuLmpzZGVsaXZyLm5ldC9ucG0vbGVhZmxldEAxLjYuMC9kaXN0L2xlYWZsZXQuanMiPjwvc2NyaXB0PgogICAgPHNjcmlwdCBzcmM9Imh0dHBzOi8vY29kZS5qcXVlcnkuY29tL2pxdWVyeS0xLjEyLjQubWluLmpzIj48L3NjcmlwdD4KICAgIDxzY3JpcHQgc3JjPSJodHRwczovL21heGNkbi5ib290c3RyYXBjZG4uY29tL2Jvb3RzdHJhcC8zLjIuMC9qcy9ib290c3RyYXAubWluLmpzIj48L3NjcmlwdD4KICAgIDxzY3JpcHQgc3JjPSJodHRwczovL2NkbmpzLmNsb3VkZmxhcmUuY29tL2FqYXgvbGlicy9MZWFmbGV0LmF3ZXNvbWUtbWFya2Vycy8yLjAuMi9sZWFmbGV0LmF3ZXNvbWUtbWFya2Vycy5qcyI+PC9zY3JpcHQ+CiAgICA8bGluayByZWw9InN0eWxlc2hlZXQiIGhyZWY9Imh0dHBzOi8vY2RuLmpzZGVsaXZyLm5ldC9ucG0vbGVhZmxldEAxLjYuMC9kaXN0L2xlYWZsZXQuY3NzIi8+CiAgICA8bGluayByZWw9InN0eWxlc2hlZXQiIGhyZWY9Imh0dHBzOi8vbWF4Y2RuLmJvb3RzdHJhcGNkbi5jb20vYm9vdHN0cmFwLzMuMi4wL2Nzcy9ib290c3RyYXAubWluLmNzcyIvPgogICAgPGxpbmsgcmVsPSJzdHlsZXNoZWV0IiBocmVmPSJodHRwczovL21heGNkbi5ib290c3RyYXBjZG4uY29tL2Jvb3RzdHJhcC8zLjIuMC9jc3MvYm9vdHN0cmFwLXRoZW1lLm1pbi5jc3MiLz4KICAgIDxsaW5rIHJlbD0ic3R5bGVzaGVldCIgaHJlZj0iaHR0cHM6Ly9tYXhjZG4uYm9vdHN0cmFwY2RuLmNvbS9mb250LWF3ZXNvbWUvNC42LjMvY3NzL2ZvbnQtYXdlc29tZS5taW4uY3NzIi8+CiAgICA8bGluayByZWw9InN0eWxlc2hlZXQiIGhyZWY9Imh0dHBzOi8vY2RuanMuY2xvdWRmbGFyZS5jb20vYWpheC9saWJzL0xlYWZsZXQuYXdlc29tZS1tYXJrZXJzLzIuMC4yL2xlYWZsZXQuYXdlc29tZS1tYXJrZXJzLmNzcyIvPgogICAgPGxpbmsgcmVsPSJzdHlsZXNoZWV0IiBocmVmPSJodHRwczovL3Jhd2Nkbi5naXRoYWNrLmNvbS9weXRob24tdmlzdWFsaXphdGlvbi9mb2xpdW0vbWFzdGVyL2ZvbGl1bS90ZW1wbGF0ZXMvbGVhZmxldC5hd2Vzb21lLnJvdGF0ZS5jc3MiLz4KICAgIDxzdHlsZT5odG1sLCBib2R5IHt3aWR0aDogMTAwJTtoZWlnaHQ6IDEwMCU7bWFyZ2luOiAwO3BhZGRpbmc6IDA7fTwvc3R5bGU+CiAgICA8c3R5bGU+I21hcCB7cG9zaXRpb246YWJzb2x1dGU7dG9wOjA7Ym90dG9tOjA7cmlnaHQ6MDtsZWZ0OjA7fTwvc3R5bGU+CiAgICAKICAgICAgICAgICAgPG1ldGEgbmFtZT0idmlld3BvcnQiIGNvbnRlbnQ9IndpZHRoPWRldmljZS13aWR0aCwKICAgICAgICAgICAgICAgIGluaXRpYWwtc2NhbGU9MS4wLCBtYXhpbXVtLXNjYWxlPTEuMCwgdXNlci1zY2FsYWJsZT1ubyIgLz4KICAgICAgICAgICAgPHN0eWxlPgogICAgICAgICAgICAgICAgI21hcF80MjM0OGRiOTdkNDE0ZWE4YTRmNzdkMzE1ZGQ0NWMwMCB7CiAgICAgICAgICAgICAgICAgICAgcG9zaXRpb246IHJlbGF0aXZlOwogICAgICAgICAgICAgICAgICAgIHdpZHRoOiAxMDAuMCU7CiAgICAgICAgICAgICAgICAgICAgaGVpZ2h0OiAxMDAuMCU7CiAgICAgICAgICAgICAgICAgICAgbGVmdDogMC4wJTsKICAgICAgICAgICAgICAgICAgICB0b3A6IDAuMCU7CiAgICAgICAgICAgICAgICB9CiAgICAgICAgICAgIDwvc3R5bGU+CiAgICAgICAgCjwvaGVhZD4KPGJvZHk+ICAgIAogICAgCiAgICAgICAgICAgIDxkaXYgY2xhc3M9ImZvbGl1bS1tYXAiIGlkPSJtYXBfNDIzNDhkYjk3ZDQxNGVhOGE0Zjc3ZDMxNWRkNDVjMDAiID48L2Rpdj4KICAgICAgICAKPC9ib2R5Pgo8c2NyaXB0PiAgICAKICAgIAogICAgICAgICAgICB2YXIgbWFwXzQyMzQ4ZGI5N2Q0MTRlYThhNGY3N2QzMTVkZDQ1YzAwID0gTC5tYXAoCiAgICAgICAgICAgICAgICAibWFwXzQyMzQ4ZGI5N2Q0MTRlYThhNGY3N2QzMTVkZDQ1YzAwIiwKICAgICAgICAgICAgICAgIHsKICAgICAgICAgICAgICAgICAgICBjZW50ZXI6IFs0My42NTM0ODE3LCAtNzkuMzgzOTM0N10sCiAgICAgICAgICAgICAgICAgICAgY3JzOiBMLkNSUy5FUFNHMzg1NywKICAgICAgICAgICAgICAgICAgICB6b29tOiAxMCwKICAgICAgICAgICAgICAgICAgICB6b29tQ29udHJvbDogdHJ1ZSwKICAgICAgICAgICAgICAgICAgICBwcmVmZXJDYW52YXM6IGZhbHNlLAogICAgICAgICAgICAgICAgfQogICAgICAgICAgICApOwoKICAgICAgICAgICAgCgogICAgICAgIAogICAgCiAgICAgICAgICAgIHZhciB0aWxlX2xheWVyXzdjNjY1NzE1NTQ0MzQxNmM5NWQ3Y2VkMzZmOTliZWIwID0gTC50aWxlTGF5ZXIoCiAgICAgICAgICAgICAgICAiaHR0cHM6Ly97c30udGlsZS5vcGVuc3RyZWV0bWFwLm9yZy97en0ve3h9L3t5fS5wbmciLAogICAgICAgICAgICAgICAgeyJhdHRyaWJ1dGlvbiI6ICJEYXRhIGJ5IFx1MDAyNmNvcHk7IFx1MDAzY2EgaHJlZj1cImh0dHA6Ly9vcGVuc3RyZWV0bWFwLm9yZ1wiXHUwMDNlT3BlblN0cmVldE1hcFx1MDAzYy9hXHUwMDNlLCB1bmRlciBcdTAwM2NhIGhyZWY9XCJodHRwOi8vd3d3Lm9wZW5zdHJlZXRtYXAub3JnL2NvcHlyaWdodFwiXHUwMDNlT0RiTFx1MDAzYy9hXHUwMDNlLiIsICJkZXRlY3RSZXRpbmEiOiBmYWxzZSwgIm1heE5hdGl2ZVpvb20iOiAxOCwgIm1heFpvb20iOiAxOCwgIm1pblpvb20iOiAwLCAibm9XcmFwIjogZmFsc2UsICJvcGFjaXR5IjogMSwgInN1YmRvbWFpbnMiOiAiYWJjIiwgInRtcyI6IGZhbHNlfQogICAgICAgICAgICApLmFkZFRvKG1hcF80MjM0OGRiOTdkNDE0ZWE4YTRmNzdkMzE1ZGQ0NWMwMCk7CiAgICAgICAgCiAgICAKICAgICAgICAgICAgdmFyIGNpcmNsZV9tYXJrZXJfNWM3ZWM1ZDM5OWE3NDRlMGEyM2NjZTM0MjQzNzBjZWYgPSBMLmNpcmNsZU1hcmtlcigKICAgICAgICAgICAgICAgIFs0My44MDY2ODYyOTk5OTk5OTYsIC03OS4xOTQzNTM0MDAwMDAwMV0sCiAgICAgICAgICAgICAgICB7ImJ1YmJsaW5nTW91c2VFdmVudHMiOiB0cnVlLCAiY29sb3IiOiAiYmx1ZSIsICJkYXNoQXJyYXkiOiBudWxsLCAiZGFzaE9mZnNldCI6IG51bGwsICJmaWxsIjogdHJ1ZSwgImZpbGxDb2xvciI6ICIjMzE4NmNjIiwgImZpbGxPcGFjaXR5IjogMC43LCAiZmlsbFJ1bGUiOiAiZXZlbm9kZCIsICJsaW5lQ2FwIjogInJvdW5kIiwgImxpbmVKb2luIjogInJvdW5kIiwgIm9wYWNpdHkiOiAxLjAsICJyYWRpdXMiOiA1LCAic3Ryb2tlIjogdHJ1ZSwgIndlaWdodCI6IDN9CiAgICAgICAgICAgICkuYWRkVG8obWFwXzQyMzQ4ZGI5N2Q0MTRlYThhNGY3N2QzMTVkZDQ1YzAwKTsKICAgICAgICAKICAgIAogICAgICAgIHZhciBwb3B1cF8yMDZiZmVkYzBlZWU0OWI4ODJjZWM4YTIxMTQwYzFmYyA9IEwucG9wdXAoeyJtYXhXaWR0aCI6ICIxMDAlIn0pOwoKICAgICAgICAKICAgICAgICAgICAgdmFyIGh0bWxfYTcwZjhlNzAwODA0NGU2OGEyN2VkNDk4ZDA2NTNmZTMgPSAkKGA8ZGl2IGlkPSJodG1sX2E3MGY4ZTcwMDgwNDRlNjhhMjdlZDQ5OGQwNjUzZmUzIiBzdHlsZT0id2lkdGg6IDEwMC4wJTsgaGVpZ2h0OiAxMDAuMCU7Ij5NYWx2ZXJuLCBSb3VnZSwgU2NhcmJvcm91Z2g8L2Rpdj5gKVswXTsKICAgICAgICAgICAgcG9wdXBfMjA2YmZlZGMwZWVlNDliODgyY2VjOGEyMTE0MGMxZmMuc2V0Q29udGVudChodG1sX2E3MGY4ZTcwMDgwNDRlNjhhMjdlZDQ5OGQwNjUzZmUzKTsKICAgICAgICAKCiAgICAgICAgY2lyY2xlX21hcmtlcl81YzdlYzVkMzk5YTc0NGUwYTIzY2NlMzQyNDM3MGNlZi5iaW5kUG9wdXAocG9wdXBfMjA2YmZlZGMwZWVlNDliODgyY2VjOGEyMTE0MGMxZmMpCiAgICAgICAgOwoKICAgICAgICAKICAgIAogICAgCiAgICAgICAgICAgIHZhciBjaXJjbGVfbWFya2VyXzRkODBlMmRkZDUzMzQ5N2E5MjBkMGZkOTAwOTlhMGRhID0gTC5jaXJjbGVNYXJrZXIoCiAgICAgICAgICAgICAgICBbNDMuNzg0NTM1MSwgLTc5LjE2MDQ5NzA5OTk5OTk5XSwKICAgICAgICAgICAgICAgIHsiYnViYmxpbmdNb3VzZUV2ZW50cyI6IHRydWUsICJjb2xvciI6ICJibHVlIiwgImRhc2hBcnJheSI6IG51bGwsICJkYXNoT2Zmc2V0IjogbnVsbCwgImZpbGwiOiB0cnVlLCAiZmlsbENvbG9yIjogIiMzMTg2Y2MiLCAiZmlsbE9wYWNpdHkiOiAwLjcsICJmaWxsUnVsZSI6ICJldmVub2RkIiwgImxpbmVDYXAiOiAicm91bmQiLCAibGluZUpvaW4iOiAicm91bmQiLCAib3BhY2l0eSI6IDEuMCwgInJhZGl1cyI6IDUsICJzdHJva2UiOiB0cnVlLCAid2VpZ2h0IjogM30KICAgICAgICAgICAgKS5hZGRUbyhtYXBfNDIzNDhkYjk3ZDQxNGVhOGE0Zjc3ZDMxNWRkNDVjMDApOwogICAgICAgIAogICAgCiAgICAgICAgdmFyIHBvcHVwX2RhZDliODVkNGFmNzQ5MTVhMjkyYmQ4ODgxNjc3N2JjID0gTC5wb3B1cCh7Im1heFdpZHRoIjogIjEwMCUifSk7CgogICAgICAgIAogICAgICAgICAgICB2YXIgaHRtbF9lNWU3ZTg4OWIzZjI0NzUwODM1NjQ5MmMyMzY3MDgyMiA9ICQoYDxkaXYgaWQ9Imh0bWxfZTVlN2U4ODliM2YyNDc1MDgzNTY0OTJjMjM2NzA4MjIiIHN0eWxlPSJ3aWR0aDogMTAwLjAlOyBoZWlnaHQ6IDEwMC4wJTsiPlJvdWdlIEhpbGwsIFBvcnQgVW5pb24sIEhpZ2hsYW5kIENyZWVrLCBTY2FyYm9yb3VnaDwvZGl2PmApWzBdOwogICAgICAgICAgICBwb3B1cF9kYWQ5Yjg1ZDRhZjc0OTE1YTI5MmJkODg4MTY3NzdiYy5zZXRDb250ZW50KGh0bWxfZTVlN2U4ODliM2YyNDc1MDgzNTY0OTJjMjM2NzA4MjIpOwogICAgICAgIAoKICAgICAgICBjaXJjbGVfbWFya2VyXzRkODBlMmRkZDUzMzQ5N2E5MjBkMGZkOTAwOTlhMGRhLmJpbmRQb3B1cChwb3B1cF9kYWQ5Yjg1ZDRhZjc0OTE1YTI5MmJkODg4MTY3NzdiYykKICAgICAgICA7CgogICAgICAgIAogICAgCiAgICAKICAgICAgICAgICAgdmFyIGNpcmNsZV9tYXJrZXJfMzAwNzNjZmU1ZmNiNDJhY2E4YjE5OWI3M2IzZmMyNzcgPSBMLmNpcmNsZU1hcmtlcigKICAgICAgICAgICAgICAgIFs0My43NjM1NzI2LCAtNzkuMTg4NzExNV0sCiAgICAgICAgICAgICAgICB7ImJ1YmJsaW5nTW91c2VFdmVudHMiOiB0cnVlLCAiY29sb3IiOiAiYmx1ZSIsICJkYXNoQXJyYXkiOiBudWxsLCAiZGFzaE9mZnNldCI6IG51bGwsICJmaWxsIjogdHJ1ZSwgImZpbGxDb2xvciI6ICIjMzE4NmNjIiwgImZpbGxPcGFjaXR5IjogMC43LCAiZmlsbFJ1bGUiOiAiZXZlbm9kZCIsICJsaW5lQ2FwIjogInJvdW5kIiwgImxpbmVKb2luIjogInJvdW5kIiwgIm9wYWNpdHkiOiAxLjAsICJyYWRpdXMiOiA1LCAic3Ryb2tlIjogdHJ1ZSwgIndlaWdodCI6IDN9CiAgICAgICAgICAgICkuYWRkVG8obWFwXzQyMzQ4ZGI5N2Q0MTRlYThhNGY3N2QzMTVkZDQ1YzAwKTsKICAgICAgICAKICAgIAogICAgICAgIHZhciBwb3B1cF81ZTQzMjJmZmIwODE0NmViOTJjOTg4MmI4YjdkNjMwNSA9IEwucG9wdXAoeyJtYXhXaWR0aCI6ICIxMDAlIn0pOwoKICAgICAgICAKICAgICAgICAgICAgdmFyIGh0bWxfZDJiNmYwZmViMmZhNDU1NGJjYzkwNjY5N2ZjNmU0ZWMgPSAkKGA8ZGl2IGlkPSJodG1sX2QyYjZmMGZlYjJmYTQ1NTRiY2M5MDY2OTdmYzZlNGVjIiBzdHlsZT0id2lkdGg6IDEwMC4wJTsgaGVpZ2h0OiAxMDAuMCU7Ij5HdWlsZHdvb2QsIE1vcm5pbmdzaWRlLCBXZXN0IEhpbGwsIFNjYXJib3JvdWdoPC9kaXY+YClbMF07CiAgICAgICAgICAgIHBvcHVwXzVlNDMyMmZmYjA4MTQ2ZWI5MmM5ODgyYjhiN2Q2MzA1LnNldENvbnRlbnQoaHRtbF9kMmI2ZjBmZWIyZmE0NTU0YmNjOTA2Njk3ZmM2ZTRlYyk7CiAgICAgICAgCgogICAgICAgIGNpcmNsZV9tYXJrZXJfMzAwNzNjZmU1ZmNiNDJhY2E4YjE5OWI3M2IzZmMyNzcuYmluZFBvcHVwKHBvcHVwXzVlNDMyMmZmYjA4MTQ2ZWI5MmM5ODgyYjhiN2Q2MzA1KQogICAgICAgIDsKCiAgICAgICAgCiAgICAKICAgIAogICAgICAgICAgICB2YXIgY2lyY2xlX21hcmtlcl85NzRkYmZiMjYyZGI0ODBkYWJkY2QzM2M2ZjY5YmIzZCA9IEwuY2lyY2xlTWFya2VyKAogICAgICAgICAgICAgICAgWzQzLjc3MDk5MjEsIC03OS4yMTY5MTc0MDAwMDAwMV0sCiAgICAgICAgICAgICAgICB7ImJ1YmJsaW5nTW91c2VFdmVudHMiOiB0cnVlLCAiY29sb3IiOiAiYmx1ZSIsICJkYXNoQXJyYXkiOiBudWxsLCAiZGFzaE9mZnNldCI6IG51bGwsICJmaWxsIjogdHJ1ZSwgImZpbGxDb2xvciI6ICIjMzE4NmNjIiwgImZpbGxPcGFjaXR5IjogMC43LCAiZmlsbFJ1bGUiOiAiZXZlbm9kZCIsICJsaW5lQ2FwIjogInJvdW5kIiwgImxpbmVKb2luIjogInJvdW5kIiwgIm9wYWNpdHkiOiAxLjAsICJyYWRpdXMiOiA1LCAic3Ryb2tlIjogdHJ1ZSwgIndlaWdodCI6IDN9CiAgICAgICAgICAgICkuYWRkVG8obWFwXzQyMzQ4ZGI5N2Q0MTRlYThhNGY3N2QzMTVkZDQ1YzAwKTsKICAgICAgICAKICAgIAogICAgICAgIHZhciBwb3B1cF8wOTAxYzE4NDhjZmM0MzQ3ODBiNTk1MzYyYmVkNzQ5MSA9IEwucG9wdXAoeyJtYXhXaWR0aCI6ICIxMDAlIn0pOwoKICAgICAgICAKICAgICAgICAgICAgdmFyIGh0bWxfYjBlNjM3NDQzNDdmNDJmNWI5ZjdkMDE4OGRlZDU3YzcgPSAkKGA8ZGl2IGlkPSJodG1sX2IwZTYzNzQ0MzQ3ZjQyZjViOWY3ZDAxODhkZWQ1N2M3IiBzdHlsZT0id2lkdGg6IDEwMC4wJTsgaGVpZ2h0OiAxMDAuMCU7Ij5Xb2J1cm4sIFNjYXJib3JvdWdoPC9kaXY+YClbMF07CiAgICAgICAgICAgIHBvcHVwXzA5MDFjMTg0OGNmYzQzNDc4MGI1OTUzNjJiZWQ3NDkxLnNldENvbnRlbnQoaHRtbF9iMGU2Mzc0NDM0N2Y0MmY1YjlmN2QwMTg4ZGVkNTdjNyk7CiAgICAgICAgCgogICAgICAgIGNpcmNsZV9tYXJrZXJfOTc0ZGJmYjI2MmRiNDgwZGFiZGNkMzNjNmY2OWJiM2QuYmluZFBvcHVwKHBvcHVwXzA5MDFjMTg0OGNmYzQzNDc4MGI1OTUzNjJiZWQ3NDkxKQogICAgICAgIDsKCiAgICAgICAgCiAgICAKICAgIAogICAgICAgICAgICB2YXIgY2lyY2xlX21hcmtlcl83MDVjN2U3ZDYyYTM0YzA0ODJkNjM4NzY4YmRhOGRmOSA9IEwuY2lyY2xlTWFya2VyKAogICAgICAgICAgICAgICAgWzQzLjc3MzEzNiwgLTc5LjIzOTQ3NjA5OTk5OTk5XSwKICAgICAgICAgICAgICAgIHsiYnViYmxpbmdNb3VzZUV2ZW50cyI6IHRydWUsICJjb2xvciI6ICJibHVlIiwgImRhc2hBcnJheSI6IG51bGwsICJkYXNoT2Zmc2V0IjogbnVsbCwgImZpbGwiOiB0cnVlLCAiZmlsbENvbG9yIjogIiMzMTg2Y2MiLCAiZmlsbE9wYWNpdHkiOiAwLjcsICJmaWxsUnVsZSI6ICJldmVub2RkIiwgImxpbmVDYXAiOiAicm91bmQiLCAibGluZUpvaW4iOiAicm91bmQiLCAib3BhY2l0eSI6IDEuMCwgInJhZGl1cyI6IDUsICJzdHJva2UiOiB0cnVlLCAid2VpZ2h0IjogM30KICAgICAgICAgICAgKS5hZGRUbyhtYXBfNDIzNDhkYjk3ZDQxNGVhOGE0Zjc3ZDMxNWRkNDVjMDApOwogICAgICAgIAogICAgCiAgICAgICAgdmFyIHBvcHVwXzFiZTVlOTU5OGJjYTQ4NzBhNDIyNmZlZGEzYWZkMjg2ID0gTC5wb3B1cCh7Im1heFdpZHRoIjogIjEwMCUifSk7CgogICAgICAgIAogICAgICAgICAgICB2YXIgaHRtbF81MDYyY2U0MDA4MGI0MTFmYTU2YjA1ZThiNGUwNDNkYSA9ICQoYDxkaXYgaWQ9Imh0bWxfNTA2MmNlNDAwODBiNDExZmE1NmIwNWU4YjRlMDQzZGEiIHN0eWxlPSJ3aWR0aDogMTAwLjAlOyBoZWlnaHQ6IDEwMC4wJTsiPkNlZGFyYnJhZSwgU2NhcmJvcm91Z2g8L2Rpdj5gKVswXTsKICAgICAgICAgICAgcG9wdXBfMWJlNWU5NTk4YmNhNDg3MGE0MjI2ZmVkYTNhZmQyODYuc2V0Q29udGVudChodG1sXzUwNjJjZTQwMDgwYjQxMWZhNTZiMDVlOGI0ZTA0M2RhKTsKICAgICAgICAKCiAgICAgICAgY2lyY2xlX21hcmtlcl83MDVjN2U3ZDYyYTM0YzA0ODJkNjM4NzY4YmRhOGRmOS5iaW5kUG9wdXAocG9wdXBfMWJlNWU5NTk4YmNhNDg3MGE0MjI2ZmVkYTNhZmQyODYpCiAgICAgICAgOwoKICAgICAgICAKICAgIAogICAgCiAgICAgICAgICAgIHZhciBjaXJjbGVfbWFya2VyX2I1Y2U4ZGUwOTdlMTRhYmFiM2YyNDVjYTY2M2ZmZWViID0gTC5jaXJjbGVNYXJrZXIoCiAgICAgICAgICAgICAgICBbNDMuNzQ0NzM0MiwgLTc5LjIzOTQ3NjA5OTk5OTk5XSwKICAgICAgICAgICAgICAgIHsiYnViYmxpbmdNb3VzZUV2ZW50cyI6IHRydWUsICJjb2xvciI6ICJibHVlIiwgImRhc2hBcnJheSI6IG51bGwsICJkYXNoT2Zmc2V0IjogbnVsbCwgImZpbGwiOiB0cnVlLCAiZmlsbENvbG9yIjogIiMzMTg2Y2MiLCAiZmlsbE9wYWNpdHkiOiAwLjcsICJmaWxsUnVsZSI6ICJldmVub2RkIiwgImxpbmVDYXAiOiAicm91bmQiLCAibGluZUpvaW4iOiAicm91bmQiLCAib3BhY2l0eSI6IDEuMCwgInJhZGl1cyI6IDUsICJzdHJva2UiOiB0cnVlLCAid2VpZ2h0IjogM30KICAgICAgICAgICAgKS5hZGRUbyhtYXBfNDIzNDhkYjk3ZDQxNGVhOGE0Zjc3ZDMxNWRkNDVjMDApOwogICAgICAgIAogICAgCiAgICAgICAgdmFyIHBvcHVwXzA2ZWZhZTY0NWMwMDRlOGNiMjlhNjRjNDhlMWU2MWZkID0gTC5wb3B1cCh7Im1heFdpZHRoIjogIjEwMCUifSk7CgogICAgICAgIAogICAgICAgICAgICB2YXIgaHRtbF84NDFmNmE1YzA3ZGE0NzczYTVjYmY0YTA0MGU5NzEzYyA9ICQoYDxkaXYgaWQ9Imh0bWxfODQxZjZhNWMwN2RhNDc3M2E1Y2JmNGEwNDBlOTcxM2MiIHN0eWxlPSJ3aWR0aDogMTAwLjAlOyBoZWlnaHQ6IDEwMC4wJTsiPlNjYXJib3JvdWdoIFZpbGxhZ2UsIFNjYXJib3JvdWdoPC9kaXY+YClbMF07CiAgICAgICAgICAgIHBvcHVwXzA2ZWZhZTY0NWMwMDRlOGNiMjlhNjRjNDhlMWU2MWZkLnNldENvbnRlbnQoaHRtbF84NDFmNmE1YzA3ZGE0NzczYTVjYmY0YTA0MGU5NzEzYyk7CiAgICAgICAgCgogICAgICAgIGNpcmNsZV9tYXJrZXJfYjVjZThkZTA5N2UxNGFiYWIzZjI0NWNhNjYzZmZlZWIuYmluZFBvcHVwKHBvcHVwXzA2ZWZhZTY0NWMwMDRlOGNiMjlhNjRjNDhlMWU2MWZkKQogICAgICAgIDsKCiAgICAgICAgCiAgICAKICAgIAogICAgICAgICAgICB2YXIgY2lyY2xlX21hcmtlcl83ZDc0OThhMjk1YmI0OTUzODQxOTAwMzA5N2YwN2ExYyA9IEwuY2lyY2xlTWFya2VyKAogICAgICAgICAgICAgICAgWzQzLjcyNzkyOTIsIC03OS4yNjIwMjk0MDAwMDAwMl0sCiAgICAgICAgICAgICAgICB7ImJ1YmJsaW5nTW91c2VFdmVudHMiOiB0cnVlLCAiY29sb3IiOiAiYmx1ZSIsICJkYXNoQXJyYXkiOiBudWxsLCAiZGFzaE9mZnNldCI6IG51bGwsICJmaWxsIjogdHJ1ZSwgImZpbGxDb2xvciI6ICIjMzE4NmNjIiwgImZpbGxPcGFjaXR5IjogMC43LCAiZmlsbFJ1bGUiOiAiZXZlbm9kZCIsICJsaW5lQ2FwIjogInJvdW5kIiwgImxpbmVKb2luIjogInJvdW5kIiwgIm9wYWNpdHkiOiAxLjAsICJyYWRpdXMiOiA1LCAic3Ryb2tlIjogdHJ1ZSwgIndlaWdodCI6IDN9CiAgICAgICAgICAgICkuYWRkVG8obWFwXzQyMzQ4ZGI5N2Q0MTRlYThhNGY3N2QzMTVkZDQ1YzAwKTsKICAgICAgICAKICAgIAogICAgICAgIHZhciBwb3B1cF8zMDI3ZmY3OWZiNGQ0YTJlOWNmNzU1ZjA3ZGRjYzUyNyA9IEwucG9wdXAoeyJtYXhXaWR0aCI6ICIxMDAlIn0pOwoKICAgICAgICAKICAgICAgICAgICAgdmFyIGh0bWxfYjc3MTkxZGNiMDhjNDdhODk1YmY3OWQzNzA5YTMwYmMgPSAkKGA8ZGl2IGlkPSJodG1sX2I3NzE5MWRjYjA4YzQ3YTg5NWJmNzlkMzcwOWEzMGJjIiBzdHlsZT0id2lkdGg6IDEwMC4wJTsgaGVpZ2h0OiAxMDAuMCU7Ij5LZW5uZWR5IFBhcmssIElvbnZpZXcsIEVhc3QgQmlyY2htb3VudCBQYXJrLCBTY2FyYm9yb3VnaDwvZGl2PmApWzBdOwogICAgICAgICAgICBwb3B1cF8zMDI3ZmY3OWZiNGQ0YTJlOWNmNzU1ZjA3ZGRjYzUyNy5zZXRDb250ZW50KGh0bWxfYjc3MTkxZGNiMDhjNDdhODk1YmY3OWQzNzA5YTMwYmMpOwogICAgICAgIAoKICAgICAgICBjaXJjbGVfbWFya2VyXzdkNzQ5OGEyOTViYjQ5NTM4NDE5MDAzMDk3ZjA3YTFjLmJpbmRQb3B1cChwb3B1cF8zMDI3ZmY3OWZiNGQ0YTJlOWNmNzU1ZjA3ZGRjYzUyNykKICAgICAgICA7CgogICAgICAgIAogICAgCiAgICAKICAgICAgICAgICAgdmFyIGNpcmNsZV9tYXJrZXJfYWY3NGY3ZmYxYTJkNDY3YmExZDdmODA3MjY4NjJlMmYgPSBMLmNpcmNsZU1hcmtlcigKICAgICAgICAgICAgICAgIFs0My43MTExMTE3MDAwMDAwMDQsIC03OS4yODQ1NzcyXSwKICAgICAgICAgICAgICAgIHsiYnViYmxpbmdNb3VzZUV2ZW50cyI6IHRydWUsICJjb2xvciI6ICJibHVlIiwgImRhc2hBcnJheSI6IG51bGwsICJkYXNoT2Zmc2V0IjogbnVsbCwgImZpbGwiOiB0cnVlLCAiZmlsbENvbG9yIjogIiMzMTg2Y2MiLCAiZmlsbE9wYWNpdHkiOiAwLjcsICJmaWxsUnVsZSI6ICJldmVub2RkIiwgImxpbmVDYXAiOiAicm91bmQiLCAibGluZUpvaW4iOiAicm91bmQiLCAib3BhY2l0eSI6IDEuMCwgInJhZGl1cyI6IDUsICJzdHJva2UiOiB0cnVlLCAid2VpZ2h0IjogM30KICAgICAgICAgICAgKS5hZGRUbyhtYXBfNDIzNDhkYjk3ZDQxNGVhOGE0Zjc3ZDMxNWRkNDVjMDApOwogICAgICAgIAogICAgCiAgICAgICAgdmFyIHBvcHVwX2QxZTZlNTUwOGM2MjQxNmU4MTBkNTIxYjg3MGYxYjM1ID0gTC5wb3B1cCh7Im1heFdpZHRoIjogIjEwMCUifSk7CgogICAgICAgIAogICAgICAgICAgICB2YXIgaHRtbF8xZTA4Mjc5ZTZhMTA0NWY1OTdiNTlmMWRjMTJlYmU2NCA9ICQoYDxkaXYgaWQ9Imh0bWxfMWUwODI3OWU2YTEwNDVmNTk3YjU5ZjFkYzEyZWJlNjQiIHN0eWxlPSJ3aWR0aDogMTAwLjAlOyBoZWlnaHQ6IDEwMC4wJTsiPkdvbGRlbiBNaWxlLCBDbGFpcmxlYSwgT2FrcmlkZ2UsIFNjYXJib3JvdWdoPC9kaXY+YClbMF07CiAgICAgICAgICAgIHBvcHVwX2QxZTZlNTUwOGM2MjQxNmU4MTBkNTIxYjg3MGYxYjM1LnNldENvbnRlbnQoaHRtbF8xZTA4Mjc5ZTZhMTA0NWY1OTdiNTlmMWRjMTJlYmU2NCk7CiAgICAgICAgCgogICAgICAgIGNpcmNsZV9tYXJrZXJfYWY3NGY3ZmYxYTJkNDY3YmExZDdmODA3MjY4NjJlMmYuYmluZFBvcHVwKHBvcHVwX2QxZTZlNTUwOGM2MjQxNmU4MTBkNTIxYjg3MGYxYjM1KQogICAgICAgIDsKCiAgICAgICAgCiAgICAKICAgIAogICAgICAgICAgICB2YXIgY2lyY2xlX21hcmtlcl9mZjc0ZmUyYjJmNzA0YThhYTNhYzJmYTYzZmQ0YTlhMCA9IEwuY2lyY2xlTWFya2VyKAogICAgICAgICAgICAgICAgWzQzLjcxNjMxNiwgLTc5LjIzOTQ3NjA5OTk5OTk5XSwKICAgICAgICAgICAgICAgIHsiYnViYmxpbmdNb3VzZUV2ZW50cyI6IHRydWUsICJjb2xvciI6ICJibHVlIiwgImRhc2hBcnJheSI6IG51bGwsICJkYXNoT2Zmc2V0IjogbnVsbCwgImZpbGwiOiB0cnVlLCAiZmlsbENvbG9yIjogIiMzMTg2Y2MiLCAiZmlsbE9wYWNpdHkiOiAwLjcsICJmaWxsUnVsZSI6ICJldmVub2RkIiwgImxpbmVDYXAiOiAicm91bmQiLCAibGluZUpvaW4iOiAicm91bmQiLCAib3BhY2l0eSI6IDEuMCwgInJhZGl1cyI6IDUsICJzdHJva2UiOiB0cnVlLCAid2VpZ2h0IjogM30KICAgICAgICAgICAgKS5hZGRUbyhtYXBfNDIzNDhkYjk3ZDQxNGVhOGE0Zjc3ZDMxNWRkNDVjMDApOwogICAgICAgIAogICAgCiAgICAgICAgdmFyIHBvcHVwX2RlOTBjOWFmOGYwNzRjMDM5MjcyZWRhYjVkZmZjYzhiID0gTC5wb3B1cCh7Im1heFdpZHRoIjogIjEwMCUifSk7CgogICAgICAgIAogICAgICAgICAgICB2YXIgaHRtbF9jNTllMzU1NDIzYzE0NjM2OWRhMmNlMGEyYzA3YjY4ZCA9ICQoYDxkaXYgaWQ9Imh0bWxfYzU5ZTM1NTQyM2MxNDYzNjlkYTJjZTBhMmMwN2I2OGQiIHN0eWxlPSJ3aWR0aDogMTAwLjAlOyBoZWlnaHQ6IDEwMC4wJTsiPkNsaWZmc2lkZSwgQ2xpZmZjcmVzdCwgU2NhcmJvcm91Z2ggVmlsbGFnZSBXZXN0LCBTY2FyYm9yb3VnaDwvZGl2PmApWzBdOwogICAgICAgICAgICBwb3B1cF9kZTkwYzlhZjhmMDc0YzAzOTI3MmVkYWI1ZGZmY2M4Yi5zZXRDb250ZW50KGh0bWxfYzU5ZTM1NTQyM2MxNDYzNjlkYTJjZTBhMmMwN2I2OGQpOwogICAgICAgIAoKICAgICAgICBjaXJjbGVfbWFya2VyX2ZmNzRmZTJiMmY3MDRhOGFhM2FjMmZhNjNmZDRhOWEwLmJpbmRQb3B1cChwb3B1cF9kZTkwYzlhZjhmMDc0YzAzOTI3MmVkYWI1ZGZmY2M4YikKICAgICAgICA7CgogICAgICAgIAogICAgCiAgICAKICAgICAgICAgICAgdmFyIGNpcmNsZV9tYXJrZXJfZDhiNDJhODcxNjc5NDA3NmI1ZTUzYmNiOWY0YTczYjkgPSBMLmNpcmNsZU1hcmtlcigKICAgICAgICAgICAgICAgIFs0My42OTI2NTcwMDAwMDAwMDQsIC03OS4yNjQ4NDgxXSwKICAgICAgICAgICAgICAgIHsiYnViYmxpbmdNb3VzZUV2ZW50cyI6IHRydWUsICJjb2xvciI6ICJibHVlIiwgImRhc2hBcnJheSI6IG51bGwsICJkYXNoT2Zmc2V0IjogbnVsbCwgImZpbGwiOiB0cnVlLCAiZmlsbENvbG9yIjogIiMzMTg2Y2MiLCAiZmlsbE9wYWNpdHkiOiAwLjcsICJmaWxsUnVsZSI6ICJldmVub2RkIiwgImxpbmVDYXAiOiAicm91bmQiLCAibGluZUpvaW4iOiAicm91bmQiLCAib3BhY2l0eSI6IDEuMCwgInJhZGl1cyI6IDUsICJzdHJva2UiOiB0cnVlLCAid2VpZ2h0IjogM30KICAgICAgICAgICAgKS5hZGRUbyhtYXBfNDIzNDhkYjk3ZDQxNGVhOGE0Zjc3ZDMxNWRkNDVjMDApOwogICAgICAgIAogICAgCiAgICAgICAgdmFyIHBvcHVwXzMxNDFiNmE0NTAyNjQzYzNiZWJhYzUyMWY5MDM5YzViID0gTC5wb3B1cCh7Im1heFdpZHRoIjogIjEwMCUifSk7CgogICAgICAgIAogICAgICAgICAgICB2YXIgaHRtbF85ZjU5NmZhM2YzNWU0NTg3YTg3MTEwMjVkZWFjMWVhMiA9ICQoYDxkaXYgaWQ9Imh0bWxfOWY1OTZmYTNmMzVlNDU4N2E4NzExMDI1ZGVhYzFlYTIiIHN0eWxlPSJ3aWR0aDogMTAwLjAlOyBoZWlnaHQ6IDEwMC4wJTsiPkJpcmNoIENsaWZmLCBDbGlmZnNpZGUgV2VzdCwgU2NhcmJvcm91Z2g8L2Rpdj5gKVswXTsKICAgICAgICAgICAgcG9wdXBfMzE0MWI2YTQ1MDI2NDNjM2JlYmFjNTIxZjkwMzljNWIuc2V0Q29udGVudChodG1sXzlmNTk2ZmEzZjM1ZTQ1ODdhODcxMTAyNWRlYWMxZWEyKTsKICAgICAgICAKCiAgICAgICAgY2lyY2xlX21hcmtlcl9kOGI0MmE4NzE2Nzk0MDc2YjVlNTNiY2I5ZjRhNzNiOS5iaW5kUG9wdXAocG9wdXBfMzE0MWI2YTQ1MDI2NDNjM2JlYmFjNTIxZjkwMzljNWIpCiAgICAgICAgOwoKICAgICAgICAKICAgIAogICAgCiAgICAgICAgICAgIHZhciBjaXJjbGVfbWFya2VyX2UzYmQ0NDE5MGI5NzQwN2M5YzJiNDhkMDU4OWZmNjQzID0gTC5jaXJjbGVNYXJrZXIoCiAgICAgICAgICAgICAgICBbNDMuNzU3NDA5NiwgLTc5LjI3MzMwNDAwMDAwMDAxXSwKICAgICAgICAgICAgICAgIHsiYnViYmxpbmdNb3VzZUV2ZW50cyI6IHRydWUsICJjb2xvciI6ICJibHVlIiwgImRhc2hBcnJheSI6IG51bGwsICJkYXNoT2Zmc2V0IjogbnVsbCwgImZpbGwiOiB0cnVlLCAiZmlsbENvbG9yIjogIiMzMTg2Y2MiLCAiZmlsbE9wYWNpdHkiOiAwLjcsICJmaWxsUnVsZSI6ICJldmVub2RkIiwgImxpbmVDYXAiOiAicm91bmQiLCAibGluZUpvaW4iOiAicm91bmQiLCAib3BhY2l0eSI6IDEuMCwgInJhZGl1cyI6IDUsICJzdHJva2UiOiB0cnVlLCAid2VpZ2h0IjogM30KICAgICAgICAgICAgKS5hZGRUbyhtYXBfNDIzNDhkYjk3ZDQxNGVhOGE0Zjc3ZDMxNWRkNDVjMDApOwogICAgICAgIAogICAgCiAgICAgICAgdmFyIHBvcHVwX2Q5MDI2MWNmZGFlMjRkMWRiYTc3ZGE3NDhlMDNhOTE3ID0gTC5wb3B1cCh7Im1heFdpZHRoIjogIjEwMCUifSk7CgogICAgICAgIAogICAgICAgICAgICB2YXIgaHRtbF8wM2M1NDk0OGY1ZGU0YzUzODg2ZTBmYjk5Y2NjY2JmNiA9ICQoYDxkaXYgaWQ9Imh0bWxfMDNjNTQ5NDhmNWRlNGM1Mzg4NmUwZmI5OWNjY2NiZjYiIHN0eWxlPSJ3aWR0aDogMTAwLjAlOyBoZWlnaHQ6IDEwMC4wJTsiPkRvcnNldCBQYXJrLCBXZXhmb3JkIEhlaWdodHMsIFNjYXJib3JvdWdoIFRvd24gQ2VudHJlLCBTY2FyYm9yb3VnaDwvZGl2PmApWzBdOwogICAgICAgICAgICBwb3B1cF9kOTAyNjFjZmRhZTI0ZDFkYmE3N2RhNzQ4ZTAzYTkxNy5zZXRDb250ZW50KGh0bWxfMDNjNTQ5NDhmNWRlNGM1Mzg4NmUwZmI5OWNjY2NiZjYpOwogICAgICAgIAoKICAgICAgICBjaXJjbGVfbWFya2VyX2UzYmQ0NDE5MGI5NzQwN2M5YzJiNDhkMDU4OWZmNjQzLmJpbmRQb3B1cChwb3B1cF9kOTAyNjFjZmRhZTI0ZDFkYmE3N2RhNzQ4ZTAzYTkxNykKICAgICAgICA7CgogICAgICAgIAogICAgCiAgICAKICAgICAgICAgICAgdmFyIGNpcmNsZV9tYXJrZXJfNGUyYTkwNzI2M2NhNDEwOGFjMmZlMTIxZTdkMWU0OTkgPSBMLmNpcmNsZU1hcmtlcigKICAgICAgICAgICAgICAgIFs0My43NTAwNzE1MDAwMDAwMDQsIC03OS4yOTU4NDkxXSwKICAgICAgICAgICAgICAgIHsiYnViYmxpbmdNb3VzZUV2ZW50cyI6IHRydWUsICJjb2xvciI6ICJibHVlIiwgImRhc2hBcnJheSI6IG51bGwsICJkYXNoT2Zmc2V0IjogbnVsbCwgImZpbGwiOiB0cnVlLCAiZmlsbENvbG9yIjogIiMzMTg2Y2MiLCAiZmlsbE9wYWNpdHkiOiAwLjcsICJmaWxsUnVsZSI6ICJldmVub2RkIiwgImxpbmVDYXAiOiAicm91bmQiLCAibGluZUpvaW4iOiAicm91bmQiLCAib3BhY2l0eSI6IDEuMCwgInJhZGl1cyI6IDUsICJzdHJva2UiOiB0cnVlLCAid2VpZ2h0IjogM30KICAgICAgICAgICAgKS5hZGRUbyhtYXBfNDIzNDhkYjk3ZDQxNGVhOGE0Zjc3ZDMxNWRkNDVjMDApOwogICAgICAgIAogICAgCiAgICAgICAgdmFyIHBvcHVwX2ViOGMwZTc3ZWZhMDQwYjY5ZjQ2YzdkNjJkOTg3MGMxID0gTC5wb3B1cCh7Im1heFdpZHRoIjogIjEwMCUifSk7CgogICAgICAgIAogICAgICAgICAgICB2YXIgaHRtbF83YzcxZjBkYjc2ZTA0YWJiODU1NzE4MDBiMzdjNDAyMiA9ICQoYDxkaXYgaWQ9Imh0bWxfN2M3MWYwZGI3NmUwNGFiYjg1NTcxODAwYjM3YzQwMjIiIHN0eWxlPSJ3aWR0aDogMTAwLjAlOyBoZWlnaHQ6IDEwMC4wJTsiPldleGZvcmQsIE1hcnl2YWxlLCBTY2FyYm9yb3VnaDwvZGl2PmApWzBdOwogICAgICAgICAgICBwb3B1cF9lYjhjMGU3N2VmYTA0MGI2OWY0NmM3ZDYyZDk4NzBjMS5zZXRDb250ZW50KGh0bWxfN2M3MWYwZGI3NmUwNGFiYjg1NTcxODAwYjM3YzQwMjIpOwogICAgICAgIAoKICAgICAgICBjaXJjbGVfbWFya2VyXzRlMmE5MDcyNjNjYTQxMDhhYzJmZTEyMWU3ZDFlNDk5LmJpbmRQb3B1cChwb3B1cF9lYjhjMGU3N2VmYTA0MGI2OWY0NmM3ZDYyZDk4NzBjMSkKICAgICAgICA7CgogICAgICAgIAogICAgCiAgICAKICAgICAgICAgICAgdmFyIGNpcmNsZV9tYXJrZXJfM2E5NDk5ZGU1NDU0NDdlYzg4YWRmOGYyYzU2MzhlNDQgPSBMLmNpcmNsZU1hcmtlcigKICAgICAgICAgICAgICAgIFs0My43OTQyMDAzLCAtNzkuMjYyMDI5NDAwMDAwMDJdLAogICAgICAgICAgICAgICAgeyJidWJibGluZ01vdXNlRXZlbnRzIjogdHJ1ZSwgImNvbG9yIjogImJsdWUiLCAiZGFzaEFycmF5IjogbnVsbCwgImRhc2hPZmZzZXQiOiBudWxsLCAiZmlsbCI6IHRydWUsICJmaWxsQ29sb3IiOiAiIzMxODZjYyIsICJmaWxsT3BhY2l0eSI6IDAuNywgImZpbGxSdWxlIjogImV2ZW5vZGQiLCAibGluZUNhcCI6ICJyb3VuZCIsICJsaW5lSm9pbiI6ICJyb3VuZCIsICJvcGFjaXR5IjogMS4wLCAicmFkaXVzIjogNSwgInN0cm9rZSI6IHRydWUsICJ3ZWlnaHQiOiAzfQogICAgICAgICAgICApLmFkZFRvKG1hcF80MjM0OGRiOTdkNDE0ZWE4YTRmNzdkMzE1ZGQ0NWMwMCk7CiAgICAgICAgCiAgICAKICAgICAgICB2YXIgcG9wdXBfMWIxMDgzZWU2Y2Y3NDY1MWI3ZGVkNTVjNzlmMjIyOWUgPSBMLnBvcHVwKHsibWF4V2lkdGgiOiAiMTAwJSJ9KTsKCiAgICAgICAgCiAgICAgICAgICAgIHZhciBodG1sX2E5OTVmMjU4YTJjYjQ5M2I4ZTA3Njg2MDgwOWJhMjI0ID0gJChgPGRpdiBpZD0iaHRtbF9hOTk1ZjI1OGEyY2I0OTNiOGUwNzY4NjA4MDliYTIyNCIgc3R5bGU9IndpZHRoOiAxMDAuMCU7IGhlaWdodDogMTAwLjAlOyI+QWdpbmNvdXJ0LCBTY2FyYm9yb3VnaDwvZGl2PmApWzBdOwogICAgICAgICAgICBwb3B1cF8xYjEwODNlZTZjZjc0NjUxYjdkZWQ1NWM3OWYyMjI5ZS5zZXRDb250ZW50KGh0bWxfYTk5NWYyNThhMmNiNDkzYjhlMDc2ODYwODA5YmEyMjQpOwogICAgICAgIAoKICAgICAgICBjaXJjbGVfbWFya2VyXzNhOTQ5OWRlNTQ1NDQ3ZWM4OGFkZjhmMmM1NjM4ZTQ0LmJpbmRQb3B1cChwb3B1cF8xYjEwODNlZTZjZjc0NjUxYjdkZWQ1NWM3OWYyMjI5ZSkKICAgICAgICA7CgogICAgICAgIAogICAgCiAgICAKICAgICAgICAgICAgdmFyIGNpcmNsZV9tYXJrZXJfNjg4YzlkZDdlZDA4NDNjMWEzYTAyN2IyYjBhNTFmY2EgPSBMLmNpcmNsZU1hcmtlcigKICAgICAgICAgICAgICAgIFs0My43ODE2Mzc1LCAtNzkuMzA0MzAyMV0sCiAgICAgICAgICAgICAgICB7ImJ1YmJsaW5nTW91c2VFdmVudHMiOiB0cnVlLCAiY29sb3IiOiAiYmx1ZSIsICJkYXNoQXJyYXkiOiBudWxsLCAiZGFzaE9mZnNldCI6IG51bGwsICJmaWxsIjogdHJ1ZSwgImZpbGxDb2xvciI6ICIjMzE4NmNjIiwgImZpbGxPcGFjaXR5IjogMC43LCAiZmlsbFJ1bGUiOiAiZXZlbm9kZCIsICJsaW5lQ2FwIjogInJvdW5kIiwgImxpbmVKb2luIjogInJvdW5kIiwgIm9wYWNpdHkiOiAxLjAsICJyYWRpdXMiOiA1LCAic3Ryb2tlIjogdHJ1ZSwgIndlaWdodCI6IDN9CiAgICAgICAgICAgICkuYWRkVG8obWFwXzQyMzQ4ZGI5N2Q0MTRlYThhNGY3N2QzMTVkZDQ1YzAwKTsKICAgICAgICAKICAgIAogICAgICAgIHZhciBwb3B1cF9kYzVlZDYyMWIyYjc0NThmODcxODVmZDQ4Mzg5ZDRjMyA9IEwucG9wdXAoeyJtYXhXaWR0aCI6ICIxMDAlIn0pOwoKICAgICAgICAKICAgICAgICAgICAgdmFyIGh0bWxfNGI5NWI4OWU1N2RkNGVmOGJkNmE1MWM0Njc0NTI1M2IgPSAkKGA8ZGl2IGlkPSJodG1sXzRiOTViODllNTdkZDRlZjhiZDZhNTFjNDY3NDUyNTNiIiBzdHlsZT0id2lkdGg6IDEwMC4wJTsgaGVpZ2h0OiAxMDAuMCU7Ij5DbGFya3MgQ29ybmVycywgVGFtIE8mIzM5O1NoYW50ZXIsIFN1bGxpdmFuLCBTY2FyYm9yb3VnaDwvZGl2PmApWzBdOwogICAgICAgICAgICBwb3B1cF9kYzVlZDYyMWIyYjc0NThmODcxODVmZDQ4Mzg5ZDRjMy5zZXRDb250ZW50KGh0bWxfNGI5NWI4OWU1N2RkNGVmOGJkNmE1MWM0Njc0NTI1M2IpOwogICAgICAgIAoKICAgICAgICBjaXJjbGVfbWFya2VyXzY4OGM5ZGQ3ZWQwODQzYzFhM2EwMjdiMmIwYTUxZmNhLmJpbmRQb3B1cChwb3B1cF9kYzVlZDYyMWIyYjc0NThmODcxODVmZDQ4Mzg5ZDRjMykKICAgICAgICA7CgogICAgICAgIAogICAgCiAgICAKICAgICAgICAgICAgdmFyIGNpcmNsZV9tYXJrZXJfYzUwZmM5MmFiMGNmNGM2NjliZTllMDYyMjA5YzYwNWUgPSBMLmNpcmNsZU1hcmtlcigKICAgICAgICAgICAgICAgIFs0My44MTUyNTIyLCAtNzkuMjg0NTc3Ml0sCiAgICAgICAgICAgICAgICB7ImJ1YmJsaW5nTW91c2VFdmVudHMiOiB0cnVlLCAiY29sb3IiOiAiYmx1ZSIsICJkYXNoQXJyYXkiOiBudWxsLCAiZGFzaE9mZnNldCI6IG51bGwsICJmaWxsIjogdHJ1ZSwgImZpbGxDb2xvciI6ICIjMzE4NmNjIiwgImZpbGxPcGFjaXR5IjogMC43LCAiZmlsbFJ1bGUiOiAiZXZlbm9kZCIsICJsaW5lQ2FwIjogInJvdW5kIiwgImxpbmVKb2luIjogInJvdW5kIiwgIm9wYWNpdHkiOiAxLjAsICJyYWRpdXMiOiA1LCAic3Ryb2tlIjogdHJ1ZSwgIndlaWdodCI6IDN9CiAgICAgICAgICAgICkuYWRkVG8obWFwXzQyMzQ4ZGI5N2Q0MTRlYThhNGY3N2QzMTVkZDQ1YzAwKTsKICAgICAgICAKICAgIAogICAgICAgIHZhciBwb3B1cF85ODU5MTRkZTM5N2Y0NTRkYThhYjUyYWYzNDA4NTQxZCA9IEwucG9wdXAoeyJtYXhXaWR0aCI6ICIxMDAlIn0pOwoKICAgICAgICAKICAgICAgICAgICAgdmFyIGh0bWxfMGY0ZGE2ODQwMTUyNGMzZmI0ZmQxNmIwOWNlZmRlNDAgPSAkKGA8ZGl2IGlkPSJodG1sXzBmNGRhNjg0MDE1MjRjM2ZiNGZkMTZiMDljZWZkZTQwIiBzdHlsZT0id2lkdGg6IDEwMC4wJTsgaGVpZ2h0OiAxMDAuMCU7Ij5NaWxsaWtlbiwgQWdpbmNvdXJ0IE5vcnRoLCBTdGVlbGVzIEVhc3QsIEwmIzM5O0Ftb3JlYXV4IEVhc3QsIFNjYXJib3JvdWdoPC9kaXY+YClbMF07CiAgICAgICAgICAgIHBvcHVwXzk4NTkxNGRlMzk3ZjQ1NGRhOGFiNTJhZjM0MDg1NDFkLnNldENvbnRlbnQoaHRtbF8wZjRkYTY4NDAxNTI0YzNmYjRmZDE2YjA5Y2VmZGU0MCk7CiAgICAgICAgCgogICAgICAgIGNpcmNsZV9tYXJrZXJfYzUwZmM5MmFiMGNmNGM2NjliZTllMDYyMjA5YzYwNWUuYmluZFBvcHVwKHBvcHVwXzk4NTkxNGRlMzk3ZjQ1NGRhOGFiNTJhZjM0MDg1NDFkKQogICAgICAgIDsKCiAgICAgICAgCiAgICAKICAgIAogICAgICAgICAgICB2YXIgY2lyY2xlX21hcmtlcl80YzY4NWI5NDIyYjU0MDM0YTlhMmY1MjAzODAzODcwZSA9IEwuY2lyY2xlTWFya2VyKAogICAgICAgICAgICAgICAgWzQzLjc5OTUyNTIwMDAwMDAwNSwgLTc5LjMxODM4ODddLAogICAgICAgICAgICAgICAgeyJidWJibGluZ01vdXNlRXZlbnRzIjogdHJ1ZSwgImNvbG9yIjogImJsdWUiLCAiZGFzaEFycmF5IjogbnVsbCwgImRhc2hPZmZzZXQiOiBudWxsLCAiZmlsbCI6IHRydWUsICJmaWxsQ29sb3IiOiAiIzMxODZjYyIsICJmaWxsT3BhY2l0eSI6IDAuNywgImZpbGxSdWxlIjogImV2ZW5vZGQiLCAibGluZUNhcCI6ICJyb3VuZCIsICJsaW5lSm9pbiI6ICJyb3VuZCIsICJvcGFjaXR5IjogMS4wLCAicmFkaXVzIjogNSwgInN0cm9rZSI6IHRydWUsICJ3ZWlnaHQiOiAzfQogICAgICAgICAgICApLmFkZFRvKG1hcF80MjM0OGRiOTdkNDE0ZWE4YTRmNzdkMzE1ZGQ0NWMwMCk7CiAgICAgICAgCiAgICAKICAgICAgICB2YXIgcG9wdXBfMmExNDkzNjNkMmU2NDgxNjgwMjU2ZTFlYjgxMTcxOGIgPSBMLnBvcHVwKHsibWF4V2lkdGgiOiAiMTAwJSJ9KTsKCiAgICAgICAgCiAgICAgICAgICAgIHZhciBodG1sXzhlNDUwNWU2MGU3MzQyMTZiNGZkZWQ2YTcwYWVkYTE4ID0gJChgPGRpdiBpZD0iaHRtbF84ZTQ1MDVlNjBlNzM0MjE2YjRmZGVkNmE3MGFlZGExOCIgc3R5bGU9IndpZHRoOiAxMDAuMCU7IGhlaWdodDogMTAwLjAlOyI+U3RlZWxlcyBXZXN0LCBMJiMzOTtBbW9yZWF1eCBXZXN0LCBTY2FyYm9yb3VnaDwvZGl2PmApWzBdOwogICAgICAgICAgICBwb3B1cF8yYTE0OTM2M2QyZTY0ODE2ODAyNTZlMWViODExNzE4Yi5zZXRDb250ZW50KGh0bWxfOGU0NTA1ZTYwZTczNDIxNmI0ZmRlZDZhNzBhZWRhMTgpOwogICAgICAgIAoKICAgICAgICBjaXJjbGVfbWFya2VyXzRjNjg1Yjk0MjJiNTQwMzRhOWEyZjUyMDM4MDM4NzBlLmJpbmRQb3B1cChwb3B1cF8yYTE0OTM2M2QyZTY0ODE2ODAyNTZlMWViODExNzE4YikKICAgICAgICA7CgogICAgICAgIAogICAgCiAgICAKICAgICAgICAgICAgdmFyIGNpcmNsZV9tYXJrZXJfZmIwMTU5NjQyMGFlNDA1NmI3ODI3ZTI5Yzc0YWE1YzggPSBMLmNpcmNsZU1hcmtlcigKICAgICAgICAgICAgICAgIFs0My44MzYxMjQ3MDAwMDAwMDYsIC03OS4yMDU2MzYwOTk5OTk5OV0sCiAgICAgICAgICAgICAgICB7ImJ1YmJsaW5nTW91c2VFdmVudHMiOiB0cnVlLCAiY29sb3IiOiAiYmx1ZSIsICJkYXNoQXJyYXkiOiBudWxsLCAiZGFzaE9mZnNldCI6IG51bGwsICJmaWxsIjogdHJ1ZSwgImZpbGxDb2xvciI6ICIjMzE4NmNjIiwgImZpbGxPcGFjaXR5IjogMC43LCAiZmlsbFJ1bGUiOiAiZXZlbm9kZCIsICJsaW5lQ2FwIjogInJvdW5kIiwgImxpbmVKb2luIjogInJvdW5kIiwgIm9wYWNpdHkiOiAxLjAsICJyYWRpdXMiOiA1LCAic3Ryb2tlIjogdHJ1ZSwgIndlaWdodCI6IDN9CiAgICAgICAgICAgICkuYWRkVG8obWFwXzQyMzQ4ZGI5N2Q0MTRlYThhNGY3N2QzMTVkZDQ1YzAwKTsKICAgICAgICAKICAgIAogICAgICAgIHZhciBwb3B1cF82YmZlOTdlZjY2OGQ0ZWU5YjZjZWRjZjRkNGIzNzI0ZiA9IEwucG9wdXAoeyJtYXhXaWR0aCI6ICIxMDAlIn0pOwoKICAgICAgICAKICAgICAgICAgICAgdmFyIGh0bWxfNTMyNDI0NzQxN2Y0NGJjN2I1ODZiM2VlMWIyZWFjOTQgPSAkKGA8ZGl2IGlkPSJodG1sXzUzMjQyNDc0MTdmNDRiYzdiNTg2YjNlZTFiMmVhYzk0IiBzdHlsZT0id2lkdGg6IDEwMC4wJTsgaGVpZ2h0OiAxMDAuMCU7Ij5VcHBlciBSb3VnZSwgU2NhcmJvcm91Z2g8L2Rpdj5gKVswXTsKICAgICAgICAgICAgcG9wdXBfNmJmZTk3ZWY2NjhkNGVlOWI2Y2VkY2Y0ZDRiMzcyNGYuc2V0Q29udGVudChodG1sXzUzMjQyNDc0MTdmNDRiYzdiNTg2YjNlZTFiMmVhYzk0KTsKICAgICAgICAKCiAgICAgICAgY2lyY2xlX21hcmtlcl9mYjAxNTk2NDIwYWU0MDU2Yjc4MjdlMjljNzRhYTVjOC5iaW5kUG9wdXAocG9wdXBfNmJmZTk3ZWY2NjhkNGVlOWI2Y2VkY2Y0ZDRiMzcyNGYpCiAgICAgICAgOwoKICAgICAgICAKICAgIAogICAgCiAgICAgICAgICAgIHZhciBjaXJjbGVfbWFya2VyX2FmNDg2NDk3YzFmNDRiYWFiNzA1ZDM5NWUwYjRiNTI0ID0gTC5jaXJjbGVNYXJrZXIoCiAgICAgICAgICAgICAgICBbNDMuODAzNzYyMiwgLTc5LjM2MzQ1MTddLAogICAgICAgICAgICAgICAgeyJidWJibGluZ01vdXNlRXZlbnRzIjogdHJ1ZSwgImNvbG9yIjogImJsdWUiLCAiZGFzaEFycmF5IjogbnVsbCwgImRhc2hPZmZzZXQiOiBudWxsLCAiZmlsbCI6IHRydWUsICJmaWxsQ29sb3IiOiAiIzMxODZjYyIsICJmaWxsT3BhY2l0eSI6IDAuNywgImZpbGxSdWxlIjogImV2ZW5vZGQiLCAibGluZUNhcCI6ICJyb3VuZCIsICJsaW5lSm9pbiI6ICJyb3VuZCIsICJvcGFjaXR5IjogMS4wLCAicmFkaXVzIjogNSwgInN0cm9rZSI6IHRydWUsICJ3ZWlnaHQiOiAzfQogICAgICAgICAgICApLmFkZFRvKG1hcF80MjM0OGRiOTdkNDE0ZWE4YTRmNzdkMzE1ZGQ0NWMwMCk7CiAgICAgICAgCiAgICAKICAgICAgICB2YXIgcG9wdXBfYTlhNDQ2MzAzNGJhNDdiZWE5ZWExODllYjQzNTFjNWMgPSBMLnBvcHVwKHsibWF4V2lkdGgiOiAiMTAwJSJ9KTsKCiAgICAgICAgCiAgICAgICAgICAgIHZhciBodG1sX2QyNzhkOTZjMDVlMjRjZTg4OTJjNGY0MmY5ZTYxNDA2ID0gJChgPGRpdiBpZD0iaHRtbF9kMjc4ZDk2YzA1ZTI0Y2U4ODkyYzRmNDJmOWU2MTQwNiIgc3R5bGU9IndpZHRoOiAxMDAuMCU7IGhlaWdodDogMTAwLjAlOyI+SGlsbGNyZXN0IFZpbGxhZ2UsIE5vcnRoIFlvcms8L2Rpdj5gKVswXTsKICAgICAgICAgICAgcG9wdXBfYTlhNDQ2MzAzNGJhNDdiZWE5ZWExODllYjQzNTFjNWMuc2V0Q29udGVudChodG1sX2QyNzhkOTZjMDVlMjRjZTg4OTJjNGY0MmY5ZTYxNDA2KTsKICAgICAgICAKCiAgICAgICAgY2lyY2xlX21hcmtlcl9hZjQ4NjQ5N2MxZjQ0YmFhYjcwNWQzOTVlMGI0YjUyNC5iaW5kUG9wdXAocG9wdXBfYTlhNDQ2MzAzNGJhNDdiZWE5ZWExODllYjQzNTFjNWMpCiAgICAgICAgOwoKICAgICAgICAKICAgIAogICAgCiAgICAgICAgICAgIHZhciBjaXJjbGVfbWFya2VyXzYzYzI0MDM4YmFhYTQxNzdhOWY1OGE1NzNhNjNjNWYwID0gTC5jaXJjbGVNYXJrZXIoCiAgICAgICAgICAgICAgICBbNDMuNzc4NTE3NSwgLTc5LjM0NjU1NTddLAogICAgICAgICAgICAgICAgeyJidWJibGluZ01vdXNlRXZlbnRzIjogdHJ1ZSwgImNvbG9yIjogImJsdWUiLCAiZGFzaEFycmF5IjogbnVsbCwgImRhc2hPZmZzZXQiOiBudWxsLCAiZmlsbCI6IHRydWUsICJmaWxsQ29sb3IiOiAiIzMxODZjYyIsICJmaWxsT3BhY2l0eSI6IDAuNywgImZpbGxSdWxlIjogImV2ZW5vZGQiLCAibGluZUNhcCI6ICJyb3VuZCIsICJsaW5lSm9pbiI6ICJyb3VuZCIsICJvcGFjaXR5IjogMS4wLCAicmFkaXVzIjogNSwgInN0cm9rZSI6IHRydWUsICJ3ZWlnaHQiOiAzfQogICAgICAgICAgICApLmFkZFRvKG1hcF80MjM0OGRiOTdkNDE0ZWE4YTRmNzdkMzE1ZGQ0NWMwMCk7CiAgICAgICAgCiAgICAKICAgICAgICB2YXIgcG9wdXBfNmI3Mjc0MDExNTE4NGUzMzhiMjI0OWM3OWIzY2YxMDUgPSBMLnBvcHVwKHsibWF4V2lkdGgiOiAiMTAwJSJ9KTsKCiAgICAgICAgCiAgICAgICAgICAgIHZhciBodG1sXzQ3MDdlZDA5NWNjNTQwOWRhY2RhNDNkYmQ4ZDY3MzBmID0gJChgPGRpdiBpZD0iaHRtbF80NzA3ZWQwOTVjYzU0MDlkYWNkYTQzZGJkOGQ2NzMwZiIgc3R5bGU9IndpZHRoOiAxMDAuMCU7IGhlaWdodDogMTAwLjAlOyI+RmFpcnZpZXcsIEhlbnJ5IEZhcm0sIE9yaW9sZSwgTm9ydGggWW9yazwvZGl2PmApWzBdOwogICAgICAgICAgICBwb3B1cF82YjcyNzQwMTE1MTg0ZTMzOGIyMjQ5Yzc5YjNjZjEwNS5zZXRDb250ZW50KGh0bWxfNDcwN2VkMDk1Y2M1NDA5ZGFjZGE0M2RiZDhkNjczMGYpOwogICAgICAgIAoKICAgICAgICBjaXJjbGVfbWFya2VyXzYzYzI0MDM4YmFhYTQxNzdhOWY1OGE1NzNhNjNjNWYwLmJpbmRQb3B1cChwb3B1cF82YjcyNzQwMTE1MTg0ZTMzOGIyMjQ5Yzc5YjNjZjEwNSkKICAgICAgICA7CgogICAgICAgIAogICAgCiAgICAKICAgICAgICAgICAgdmFyIGNpcmNsZV9tYXJrZXJfOWFhYmFhYWY0NGRmNDMwMWJkYTVhNmI2MDQxZDJiYWYgPSBMLmNpcmNsZU1hcmtlcigKICAgICAgICAgICAgICAgIFs0My43ODY5NDczLCAtNzkuMzg1OTc1XSwKICAgICAgICAgICAgICAgIHsiYnViYmxpbmdNb3VzZUV2ZW50cyI6IHRydWUsICJjb2xvciI6ICJibHVlIiwgImRhc2hBcnJheSI6IG51bGwsICJkYXNoT2Zmc2V0IjogbnVsbCwgImZpbGwiOiB0cnVlLCAiZmlsbENvbG9yIjogIiMzMTg2Y2MiLCAiZmlsbE9wYWNpdHkiOiAwLjcsICJmaWxsUnVsZSI6ICJldmVub2RkIiwgImxpbmVDYXAiOiAicm91bmQiLCAibGluZUpvaW4iOiAicm91bmQiLCAib3BhY2l0eSI6IDEuMCwgInJhZGl1cyI6IDUsICJzdHJva2UiOiB0cnVlLCAid2VpZ2h0IjogM30KICAgICAgICAgICAgKS5hZGRUbyhtYXBfNDIzNDhkYjk3ZDQxNGVhOGE0Zjc3ZDMxNWRkNDVjMDApOwogICAgICAgIAogICAgCiAgICAgICAgdmFyIHBvcHVwX2FmODA2MzMwZGZmZjQwNTBhYTRkZDk3ZjI4ZDZlY2NhID0gTC5wb3B1cCh7Im1heFdpZHRoIjogIjEwMCUifSk7CgogICAgICAgIAogICAgICAgICAgICB2YXIgaHRtbF9lYzJiMzk5N2U5NzQ0YTRiYTczMjBiOGQ2YTZjMWEwOSA9ICQoYDxkaXYgaWQ9Imh0bWxfZWMyYjM5OTdlOTc0NGE0YmE3MzIwYjhkNmE2YzFhMDkiIHN0eWxlPSJ3aWR0aDogMTAwLjAlOyBoZWlnaHQ6IDEwMC4wJTsiPkJheXZpZXcgVmlsbGFnZSwgTm9ydGggWW9yazwvZGl2PmApWzBdOwogICAgICAgICAgICBwb3B1cF9hZjgwNjMzMGRmZmY0MDUwYWE0ZGQ5N2YyOGQ2ZWNjYS5zZXRDb250ZW50KGh0bWxfZWMyYjM5OTdlOTc0NGE0YmE3MzIwYjhkNmE2YzFhMDkpOwogICAgICAgIAoKICAgICAgICBjaXJjbGVfbWFya2VyXzlhYWJhYWFmNDRkZjQzMDFiZGE1YTZiNjA0MWQyYmFmLmJpbmRQb3B1cChwb3B1cF9hZjgwNjMzMGRmZmY0MDUwYWE0ZGQ5N2YyOGQ2ZWNjYSkKICAgICAgICA7CgogICAgICAgIAogICAgCiAgICAKICAgICAgICAgICAgdmFyIGNpcmNsZV9tYXJrZXJfMTdiZjhkODQyNDYyNGE1Y2I1NWQ4NWQ5OWJhOTY4OTYgPSBMLmNpcmNsZU1hcmtlcigKICAgICAgICAgICAgICAgIFs0My43NTc0OTAyLCAtNzkuMzc0NzE0MDk5OTk5OTldLAogICAgICAgICAgICAgICAgeyJidWJibGluZ01vdXNlRXZlbnRzIjogdHJ1ZSwgImNvbG9yIjogImJsdWUiLCAiZGFzaEFycmF5IjogbnVsbCwgImRhc2hPZmZzZXQiOiBudWxsLCAiZmlsbCI6IHRydWUsICJmaWxsQ29sb3IiOiAiIzMxODZjYyIsICJmaWxsT3BhY2l0eSI6IDAuNywgImZpbGxSdWxlIjogImV2ZW5vZGQiLCAibGluZUNhcCI6ICJyb3VuZCIsICJsaW5lSm9pbiI6ICJyb3VuZCIsICJvcGFjaXR5IjogMS4wLCAicmFkaXVzIjogNSwgInN0cm9rZSI6IHRydWUsICJ3ZWlnaHQiOiAzfQogICAgICAgICAgICApLmFkZFRvKG1hcF80MjM0OGRiOTdkNDE0ZWE4YTRmNzdkMzE1ZGQ0NWMwMCk7CiAgICAgICAgCiAgICAKICAgICAgICB2YXIgcG9wdXBfZjljODZlMjJkY2NiNGVlYWFkYzhiODVkODE3NGIxZTggPSBMLnBvcHVwKHsibWF4V2lkdGgiOiAiMTAwJSJ9KTsKCiAgICAgICAgCiAgICAgICAgICAgIHZhciBodG1sXzM1NWU3ZWMwMDhmMjQxNGI5MmJiMmQxYWFkM2RlNDBjID0gJChgPGRpdiBpZD0iaHRtbF8zNTVlN2VjMDA4ZjI0MTRiOTJiYjJkMWFhZDNkZTQwYyIgc3R5bGU9IndpZHRoOiAxMDAuMCU7IGhlaWdodDogMTAwLjAlOyI+WW9yayBNaWxscywgU2lsdmVyIEhpbGxzLCBOb3J0aCBZb3JrPC9kaXY+YClbMF07CiAgICAgICAgICAgIHBvcHVwX2Y5Yzg2ZTIyZGNjYjRlZWFhZGM4Yjg1ZDgxNzRiMWU4LnNldENvbnRlbnQoaHRtbF8zNTVlN2VjMDA4ZjI0MTRiOTJiYjJkMWFhZDNkZTQwYyk7CiAgICAgICAgCgogICAgICAgIGNpcmNsZV9tYXJrZXJfMTdiZjhkODQyNDYyNGE1Y2I1NWQ4NWQ5OWJhOTY4OTYuYmluZFBvcHVwKHBvcHVwX2Y5Yzg2ZTIyZGNjYjRlZWFhZGM4Yjg1ZDgxNzRiMWU4KQogICAgICAgIDsKCiAgICAgICAgCiAgICAKICAgIAogICAgICAgICAgICB2YXIgY2lyY2xlX21hcmtlcl8wNGI3NmVmYWQ1NGQ0NmQyOTAzYTlkMDM2YTZlMzIwZCA9IEwuY2lyY2xlTWFya2VyKAogICAgICAgICAgICAgICAgWzQzLjc4OTA1MywgLTc5LjQwODQ5Mjc5OTk5OTk5XSwKICAgICAgICAgICAgICAgIHsiYnViYmxpbmdNb3VzZUV2ZW50cyI6IHRydWUsICJjb2xvciI6ICJibHVlIiwgImRhc2hBcnJheSI6IG51bGwsICJkYXNoT2Zmc2V0IjogbnVsbCwgImZpbGwiOiB0cnVlLCAiZmlsbENvbG9yIjogIiMzMTg2Y2MiLCAiZmlsbE9wYWNpdHkiOiAwLjcsICJmaWxsUnVsZSI6ICJldmVub2RkIiwgImxpbmVDYXAiOiAicm91bmQiLCAibGluZUpvaW4iOiAicm91bmQiLCAib3BhY2l0eSI6IDEuMCwgInJhZGl1cyI6IDUsICJzdHJva2UiOiB0cnVlLCAid2VpZ2h0IjogM30KICAgICAgICAgICAgKS5hZGRUbyhtYXBfNDIzNDhkYjk3ZDQxNGVhOGE0Zjc3ZDMxNWRkNDVjMDApOwogICAgICAgIAogICAgCiAgICAgICAgdmFyIHBvcHVwXzIxYjcwNmYyZjdmNzQ3OWJiZGM3NDRiNDM2ZGZlNTVhID0gTC5wb3B1cCh7Im1heFdpZHRoIjogIjEwMCUifSk7CgogICAgICAgIAogICAgICAgICAgICB2YXIgaHRtbF80NTgzMzliYTA4ZmQ0NDUyYjhiZDJjNDA3NGE0NDc4YiA9ICQoYDxkaXYgaWQ9Imh0bWxfNDU4MzM5YmEwOGZkNDQ1MmI4YmQyYzQwNzRhNDQ3OGIiIHN0eWxlPSJ3aWR0aDogMTAwLjAlOyBoZWlnaHQ6IDEwMC4wJTsiPldpbGxvd2RhbGUsIE5ld3RvbmJyb29rLCBOb3J0aCBZb3JrPC9kaXY+YClbMF07CiAgICAgICAgICAgIHBvcHVwXzIxYjcwNmYyZjdmNzQ3OWJiZGM3NDRiNDM2ZGZlNTVhLnNldENvbnRlbnQoaHRtbF80NTgzMzliYTA4ZmQ0NDUyYjhiZDJjNDA3NGE0NDc4Yik7CiAgICAgICAgCgogICAgICAgIGNpcmNsZV9tYXJrZXJfMDRiNzZlZmFkNTRkNDZkMjkwM2E5ZDAzNmE2ZTMyMGQuYmluZFBvcHVwKHBvcHVwXzIxYjcwNmYyZjdmNzQ3OWJiZGM3NDRiNDM2ZGZlNTVhKQogICAgICAgIDsKCiAgICAgICAgCiAgICAKICAgIAogICAgICAgICAgICB2YXIgY2lyY2xlX21hcmtlcl83MWMxNjU4NDdjZTQ0MGNmYjg4Zjg2NzVhZTgwYjg1ZSA9IEwuY2lyY2xlTWFya2VyKAogICAgICAgICAgICAgICAgWzQzLjc3MDExOTksIC03OS40MDg0OTI3OTk5OTk5OV0sCiAgICAgICAgICAgICAgICB7ImJ1YmJsaW5nTW91c2VFdmVudHMiOiB0cnVlLCAiY29sb3IiOiAiYmx1ZSIsICJkYXNoQXJyYXkiOiBudWxsLCAiZGFzaE9mZnNldCI6IG51bGwsICJmaWxsIjogdHJ1ZSwgImZpbGxDb2xvciI6ICIjMzE4NmNjIiwgImZpbGxPcGFjaXR5IjogMC43LCAiZmlsbFJ1bGUiOiAiZXZlbm9kZCIsICJsaW5lQ2FwIjogInJvdW5kIiwgImxpbmVKb2luIjogInJvdW5kIiwgIm9wYWNpdHkiOiAxLjAsICJyYWRpdXMiOiA1LCAic3Ryb2tlIjogdHJ1ZSwgIndlaWdodCI6IDN9CiAgICAgICAgICAgICkuYWRkVG8obWFwXzQyMzQ4ZGI5N2Q0MTRlYThhNGY3N2QzMTVkZDQ1YzAwKTsKICAgICAgICAKICAgIAogICAgICAgIHZhciBwb3B1cF8yOTI3OTkyMmQ3ZGQ0ZDMyOTU5Y2ZhYThjNzdkYTFhMSA9IEwucG9wdXAoeyJtYXhXaWR0aCI6ICIxMDAlIn0pOwoKICAgICAgICAKICAgICAgICAgICAgdmFyIGh0bWxfNDYwYTA2MGE0NWVkNGQ0Nzk1ZGM1YjE2NjNlZjFhNzcgPSAkKGA8ZGl2IGlkPSJodG1sXzQ2MGEwNjBhNDVlZDRkNDc5NWRjNWIxNjYzZWYxYTc3IiBzdHlsZT0id2lkdGg6IDEwMC4wJTsgaGVpZ2h0OiAxMDAuMCU7Ij5XaWxsb3dkYWxlLCBXaWxsb3dkYWxlIEVhc3QsIE5vcnRoIFlvcms8L2Rpdj5gKVswXTsKICAgICAgICAgICAgcG9wdXBfMjkyNzk5MjJkN2RkNGQzMjk1OWNmYWE4Yzc3ZGExYTEuc2V0Q29udGVudChodG1sXzQ2MGEwNjBhNDVlZDRkNDc5NWRjNWIxNjYzZWYxYTc3KTsKICAgICAgICAKCiAgICAgICAgY2lyY2xlX21hcmtlcl83MWMxNjU4NDdjZTQ0MGNmYjg4Zjg2NzVhZTgwYjg1ZS5iaW5kUG9wdXAocG9wdXBfMjkyNzk5MjJkN2RkNGQzMjk1OWNmYWE4Yzc3ZGExYTEpCiAgICAgICAgOwoKICAgICAgICAKICAgIAogICAgCiAgICAgICAgICAgIHZhciBjaXJjbGVfbWFya2VyX2MwMDA3ZmRkYzQ5YzQ1OTBhMGY0MGVhYzdmODkyYTVhID0gTC5jaXJjbGVNYXJrZXIoCiAgICAgICAgICAgICAgICBbNDMuNzUyNzU4Mjk5OTk5OTk2LCAtNzkuNDAwMDQ5M10sCiAgICAgICAgICAgICAgICB7ImJ1YmJsaW5nTW91c2VFdmVudHMiOiB0cnVlLCAiY29sb3IiOiAiYmx1ZSIsICJkYXNoQXJyYXkiOiBudWxsLCAiZGFzaE9mZnNldCI6IG51bGwsICJmaWxsIjogdHJ1ZSwgImZpbGxDb2xvciI6ICIjMzE4NmNjIiwgImZpbGxPcGFjaXR5IjogMC43LCAiZmlsbFJ1bGUiOiAiZXZlbm9kZCIsICJsaW5lQ2FwIjogInJvdW5kIiwgImxpbmVKb2luIjogInJvdW5kIiwgIm9wYWNpdHkiOiAxLjAsICJyYWRpdXMiOiA1LCAic3Ryb2tlIjogdHJ1ZSwgIndlaWdodCI6IDN9CiAgICAgICAgICAgICkuYWRkVG8obWFwXzQyMzQ4ZGI5N2Q0MTRlYThhNGY3N2QzMTVkZDQ1YzAwKTsKICAgICAgICAKICAgIAogICAgICAgIHZhciBwb3B1cF82OTZlODBlMTVkNjc0OGMwYmM2ODlmOWFiYWNlNTllNiA9IEwucG9wdXAoeyJtYXhXaWR0aCI6ICIxMDAlIn0pOwoKICAgICAgICAKICAgICAgICAgICAgdmFyIGh0bWxfYzcyNTQ5ZjFlMGRiNDY2Y2IxMTJiYmFjZjE2ZGExMDQgPSAkKGA8ZGl2IGlkPSJodG1sX2M3MjU0OWYxZTBkYjQ2NmNiMTEyYmJhY2YxNmRhMTA0IiBzdHlsZT0id2lkdGg6IDEwMC4wJTsgaGVpZ2h0OiAxMDAuMCU7Ij5Zb3JrIE1pbGxzIFdlc3QsIE5vcnRoIFlvcms8L2Rpdj5gKVswXTsKICAgICAgICAgICAgcG9wdXBfNjk2ZTgwZTE1ZDY3NDhjMGJjNjg5ZjlhYmFjZTU5ZTYuc2V0Q29udGVudChodG1sX2M3MjU0OWYxZTBkYjQ2NmNiMTEyYmJhY2YxNmRhMTA0KTsKICAgICAgICAKCiAgICAgICAgY2lyY2xlX21hcmtlcl9jMDAwN2ZkZGM0OWM0NTkwYTBmNDBlYWM3Zjg5MmE1YS5iaW5kUG9wdXAocG9wdXBfNjk2ZTgwZTE1ZDY3NDhjMGJjNjg5ZjlhYmFjZTU5ZTYpCiAgICAgICAgOwoKICAgICAgICAKICAgIAogICAgCiAgICAgICAgICAgIHZhciBjaXJjbGVfbWFya2VyXzNlNjEwN2YxYWU3ODQwMWVhMmMyYWQ0NWIxN2Q3ZTZmID0gTC5jaXJjbGVNYXJrZXIoCiAgICAgICAgICAgICAgICBbNDMuNzgyNzM2NCwgLTc5LjQ0MjI1OTNdLAogICAgICAgICAgICAgICAgeyJidWJibGluZ01vdXNlRXZlbnRzIjogdHJ1ZSwgImNvbG9yIjogImJsdWUiLCAiZGFzaEFycmF5IjogbnVsbCwgImRhc2hPZmZzZXQiOiBudWxsLCAiZmlsbCI6IHRydWUsICJmaWxsQ29sb3IiOiAiIzMxODZjYyIsICJmaWxsT3BhY2l0eSI6IDAuNywgImZpbGxSdWxlIjogImV2ZW5vZGQiLCAibGluZUNhcCI6ICJyb3VuZCIsICJsaW5lSm9pbiI6ICJyb3VuZCIsICJvcGFjaXR5IjogMS4wLCAicmFkaXVzIjogNSwgInN0cm9rZSI6IHRydWUsICJ3ZWlnaHQiOiAzfQogICAgICAgICAgICApLmFkZFRvKG1hcF80MjM0OGRiOTdkNDE0ZWE4YTRmNzdkMzE1ZGQ0NWMwMCk7CiAgICAgICAgCiAgICAKICAgICAgICB2YXIgcG9wdXBfYzY0YTQxMTNlZjBjNGJhZTk3Y2FhMzQwMjY4M2E4OGMgPSBMLnBvcHVwKHsibWF4V2lkdGgiOiAiMTAwJSJ9KTsKCiAgICAgICAgCiAgICAgICAgICAgIHZhciBodG1sXzBiYmJkODc0ZmNmYTQ3YWU5NjhiOTgwNTczYzgxYTNjID0gJChgPGRpdiBpZD0iaHRtbF8wYmJiZDg3NGZjZmE0N2FlOTY4Yjk4MDU3M2M4MWEzYyIgc3R5bGU9IndpZHRoOiAxMDAuMCU7IGhlaWdodDogMTAwLjAlOyI+V2lsbG93ZGFsZSwgV2lsbG93ZGFsZSBXZXN0LCBOb3J0aCBZb3JrPC9kaXY+YClbMF07CiAgICAgICAgICAgIHBvcHVwX2M2NGE0MTEzZWYwYzRiYWU5N2NhYTM0MDI2ODNhODhjLnNldENvbnRlbnQoaHRtbF8wYmJiZDg3NGZjZmE0N2FlOTY4Yjk4MDU3M2M4MWEzYyk7CiAgICAgICAgCgogICAgICAgIGNpcmNsZV9tYXJrZXJfM2U2MTA3ZjFhZTc4NDAxZWEyYzJhZDQ1YjE3ZDdlNmYuYmluZFBvcHVwKHBvcHVwX2M2NGE0MTEzZWYwYzRiYWU5N2NhYTM0MDI2ODNhODhjKQogICAgICAgIDsKCiAgICAgICAgCiAgICAKICAgIAogICAgICAgICAgICB2YXIgY2lyY2xlX21hcmtlcl9lNDZlMGMyZDk3ZWY0YjAxYjU0NzE1MWJiMmI1YWNhZSA9IEwuY2lyY2xlTWFya2VyKAogICAgICAgICAgICAgICAgWzQzLjc1MzI1ODYsIC03OS4zMjk2NTY1XSwKICAgICAgICAgICAgICAgIHsiYnViYmxpbmdNb3VzZUV2ZW50cyI6IHRydWUsICJjb2xvciI6ICJibHVlIiwgImRhc2hBcnJheSI6IG51bGwsICJkYXNoT2Zmc2V0IjogbnVsbCwgImZpbGwiOiB0cnVlLCAiZmlsbENvbG9yIjogIiMzMTg2Y2MiLCAiZmlsbE9wYWNpdHkiOiAwLjcsICJmaWxsUnVsZSI6ICJldmVub2RkIiwgImxpbmVDYXAiOiAicm91bmQiLCAibGluZUpvaW4iOiAicm91bmQiLCAib3BhY2l0eSI6IDEuMCwgInJhZGl1cyI6IDUsICJzdHJva2UiOiB0cnVlLCAid2VpZ2h0IjogM30KICAgICAgICAgICAgKS5hZGRUbyhtYXBfNDIzNDhkYjk3ZDQxNGVhOGE0Zjc3ZDMxNWRkNDVjMDApOwogICAgICAgIAogICAgCiAgICAgICAgdmFyIHBvcHVwXzgwZmNjNTk2ZTQ2ZjRiNjFhMTBiYzM2ZGQzMThkZjk1ID0gTC5wb3B1cCh7Im1heFdpZHRoIjogIjEwMCUifSk7CgogICAgICAgIAogICAgICAgICAgICB2YXIgaHRtbF9hNDNhOGQ1ZGU3OGQ0NzdhOTdmMzMxZjk4MTEyMTRkNSA9ICQoYDxkaXYgaWQ9Imh0bWxfYTQzYThkNWRlNzhkNDc3YTk3ZjMzMWY5ODExMjE0ZDUiIHN0eWxlPSJ3aWR0aDogMTAwLjAlOyBoZWlnaHQ6IDEwMC4wJTsiPlBhcmt3b29kcywgTm9ydGggWW9yazwvZGl2PmApWzBdOwogICAgICAgICAgICBwb3B1cF84MGZjYzU5NmU0NmY0YjYxYTEwYmMzNmRkMzE4ZGY5NS5zZXRDb250ZW50KGh0bWxfYTQzYThkNWRlNzhkNDc3YTk3ZjMzMWY5ODExMjE0ZDUpOwogICAgICAgIAoKICAgICAgICBjaXJjbGVfbWFya2VyX2U0NmUwYzJkOTdlZjRiMDFiNTQ3MTUxYmIyYjVhY2FlLmJpbmRQb3B1cChwb3B1cF84MGZjYzU5NmU0NmY0YjYxYTEwYmMzNmRkMzE4ZGY5NSkKICAgICAgICA7CgogICAgICAgIAogICAgCiAgICAKICAgICAgICAgICAgdmFyIGNpcmNsZV9tYXJrZXJfZTMyZTU5ZGUyMTE0NGUwYjlmZTk1ZmY2MmYwMTZkNjMgPSBMLmNpcmNsZU1hcmtlcigKICAgICAgICAgICAgICAgIFs0My43NDU5MDU3OTk5OTk5OTYsIC03OS4zNTIxODhdLAogICAgICAgICAgICAgICAgeyJidWJibGluZ01vdXNlRXZlbnRzIjogdHJ1ZSwgImNvbG9yIjogImJsdWUiLCAiZGFzaEFycmF5IjogbnVsbCwgImRhc2hPZmZzZXQiOiBudWxsLCAiZmlsbCI6IHRydWUsICJmaWxsQ29sb3IiOiAiIzMxODZjYyIsICJmaWxsT3BhY2l0eSI6IDAuNywgImZpbGxSdWxlIjogImV2ZW5vZGQiLCAibGluZUNhcCI6ICJyb3VuZCIsICJsaW5lSm9pbiI6ICJyb3VuZCIsICJvcGFjaXR5IjogMS4wLCAicmFkaXVzIjogNSwgInN0cm9rZSI6IHRydWUsICJ3ZWlnaHQiOiAzfQogICAgICAgICAgICApLmFkZFRvKG1hcF80MjM0OGRiOTdkNDE0ZWE4YTRmNzdkMzE1ZGQ0NWMwMCk7CiAgICAgICAgCiAgICAKICAgICAgICB2YXIgcG9wdXBfYzc3MGI5MTk2MTQ4NGQ1OTk1YjUzNzYwNDQ0YzljZjEgPSBMLnBvcHVwKHsibWF4V2lkdGgiOiAiMTAwJSJ9KTsKCiAgICAgICAgCiAgICAgICAgICAgIHZhciBodG1sX2ZkYzU1ZDZiNmNkOTQ4YTI4YWM0YjU3Mjg5ZWI0MzNhID0gJChgPGRpdiBpZD0iaHRtbF9mZGM1NWQ2YjZjZDk0OGEyOGFjNGI1NzI4OWViNDMzYSIgc3R5bGU9IndpZHRoOiAxMDAuMCU7IGhlaWdodDogMTAwLjAlOyI+RG9uIE1pbGxzLCBOb3J0aCBZb3JrPC9kaXY+YClbMF07CiAgICAgICAgICAgIHBvcHVwX2M3NzBiOTE5NjE0ODRkNTk5NWI1Mzc2MDQ0NGM5Y2YxLnNldENvbnRlbnQoaHRtbF9mZGM1NWQ2YjZjZDk0OGEyOGFjNGI1NzI4OWViNDMzYSk7CiAgICAgICAgCgogICAgICAgIGNpcmNsZV9tYXJrZXJfZTMyZTU5ZGUyMTE0NGUwYjlmZTk1ZmY2MmYwMTZkNjMuYmluZFBvcHVwKHBvcHVwX2M3NzBiOTE5NjE0ODRkNTk5NWI1Mzc2MDQ0NGM5Y2YxKQogICAgICAgIDsKCiAgICAgICAgCiAgICAKICAgIAogICAgICAgICAgICB2YXIgY2lyY2xlX21hcmtlcl8wM2Q1MzdmMTYxNTI0ZWUzOTE0MjZmNDUyZDZkOGRlYyA9IEwuY2lyY2xlTWFya2VyKAogICAgICAgICAgICAgICAgWzQzLjcyNTg5OTcwMDAwMDAxLCAtNzkuMzQwOTIzXSwKICAgICAgICAgICAgICAgIHsiYnViYmxpbmdNb3VzZUV2ZW50cyI6IHRydWUsICJjb2xvciI6ICJibHVlIiwgImRhc2hBcnJheSI6IG51bGwsICJkYXNoT2Zmc2V0IjogbnVsbCwgImZpbGwiOiB0cnVlLCAiZmlsbENvbG9yIjogIiMzMTg2Y2MiLCAiZmlsbE9wYWNpdHkiOiAwLjcsICJmaWxsUnVsZSI6ICJldmVub2RkIiwgImxpbmVDYXAiOiAicm91bmQiLCAibGluZUpvaW4iOiAicm91bmQiLCAib3BhY2l0eSI6IDEuMCwgInJhZGl1cyI6IDUsICJzdHJva2UiOiB0cnVlLCAid2VpZ2h0IjogM30KICAgICAgICAgICAgKS5hZGRUbyhtYXBfNDIzNDhkYjk3ZDQxNGVhOGE0Zjc3ZDMxNWRkNDVjMDApOwogICAgICAgIAogICAgCiAgICAgICAgdmFyIHBvcHVwXzhmYzRkYmVmYmE0MDRkYzBiOTVkMTg4ZjFhNTlhYmJmID0gTC5wb3B1cCh7Im1heFdpZHRoIjogIjEwMCUifSk7CgogICAgICAgIAogICAgICAgICAgICB2YXIgaHRtbF8yYjc3ZjJlNzM0OTI0Y2M3ODkwZmIxZWNjOTE1ZTk3MyA9ICQoYDxkaXYgaWQ9Imh0bWxfMmI3N2YyZTczNDkyNGNjNzg5MGZiMWVjYzkxNWU5NzMiIHN0eWxlPSJ3aWR0aDogMTAwLjAlOyBoZWlnaHQ6IDEwMC4wJTsiPkRvbiBNaWxscywgTm9ydGggWW9yazwvZGl2PmApWzBdOwogICAgICAgICAgICBwb3B1cF84ZmM0ZGJlZmJhNDA0ZGMwYjk1ZDE4OGYxYTU5YWJiZi5zZXRDb250ZW50KGh0bWxfMmI3N2YyZTczNDkyNGNjNzg5MGZiMWVjYzkxNWU5NzMpOwogICAgICAgIAoKICAgICAgICBjaXJjbGVfbWFya2VyXzAzZDUzN2YxNjE1MjRlZTM5MTQyNmY0NTJkNmQ4ZGVjLmJpbmRQb3B1cChwb3B1cF84ZmM0ZGJlZmJhNDA0ZGMwYjk1ZDE4OGYxYTU5YWJiZikKICAgICAgICA7CgogICAgICAgIAogICAgCiAgICAKICAgICAgICAgICAgdmFyIGNpcmNsZV9tYXJrZXJfZjE0N2EyNDg2ODg2NGM1NDk2ZDk2ZmYyMDFlNWUxNjMgPSBMLmNpcmNsZU1hcmtlcigKICAgICAgICAgICAgICAgIFs0My43NTQzMjgzLCAtNzkuNDQyMjU5M10sCiAgICAgICAgICAgICAgICB7ImJ1YmJsaW5nTW91c2VFdmVudHMiOiB0cnVlLCAiY29sb3IiOiAiYmx1ZSIsICJkYXNoQXJyYXkiOiBudWxsLCAiZGFzaE9mZnNldCI6IG51bGwsICJmaWxsIjogdHJ1ZSwgImZpbGxDb2xvciI6ICIjMzE4NmNjIiwgImZpbGxPcGFjaXR5IjogMC43LCAiZmlsbFJ1bGUiOiAiZXZlbm9kZCIsICJsaW5lQ2FwIjogInJvdW5kIiwgImxpbmVKb2luIjogInJvdW5kIiwgIm9wYWNpdHkiOiAxLjAsICJyYWRpdXMiOiA1LCAic3Ryb2tlIjogdHJ1ZSwgIndlaWdodCI6IDN9CiAgICAgICAgICAgICkuYWRkVG8obWFwXzQyMzQ4ZGI5N2Q0MTRlYThhNGY3N2QzMTVkZDQ1YzAwKTsKICAgICAgICAKICAgIAogICAgICAgIHZhciBwb3B1cF9kMmVmODAzYmI0ZTk0ZTkyYWJiZDdhYzNhOGI0MTQ5ZSA9IEwucG9wdXAoeyJtYXhXaWR0aCI6ICIxMDAlIn0pOwoKICAgICAgICAKICAgICAgICAgICAgdmFyIGh0bWxfNDEyNTM4YWIxZmQ3NDVkMGE4YzA2MWZiMzI5ZTEwZjMgPSAkKGA8ZGl2IGlkPSJodG1sXzQxMjUzOGFiMWZkNzQ1ZDBhOGMwNjFmYjMyOWUxMGYzIiBzdHlsZT0id2lkdGg6IDEwMC4wJTsgaGVpZ2h0OiAxMDAuMCU7Ij5CYXRodXJzdCBNYW5vciwgV2lsc29uIEhlaWdodHMsIERvd25zdmlldyBOb3J0aCwgTm9ydGggWW9yazwvZGl2PmApWzBdOwogICAgICAgICAgICBwb3B1cF9kMmVmODAzYmI0ZTk0ZTkyYWJiZDdhYzNhOGI0MTQ5ZS5zZXRDb250ZW50KGh0bWxfNDEyNTM4YWIxZmQ3NDVkMGE4YzA2MWZiMzI5ZTEwZjMpOwogICAgICAgIAoKICAgICAgICBjaXJjbGVfbWFya2VyX2YxNDdhMjQ4Njg4NjRjNTQ5NmQ5NmZmMjAxZTVlMTYzLmJpbmRQb3B1cChwb3B1cF9kMmVmODAzYmI0ZTk0ZTkyYWJiZDdhYzNhOGI0MTQ5ZSkKICAgICAgICA7CgogICAgICAgIAogICAgCiAgICAKICAgICAgICAgICAgdmFyIGNpcmNsZV9tYXJrZXJfZGI2YWJjYTExZjg5NGI2Mzg4OWNmYjQ1YmNhYjVkNzEgPSBMLmNpcmNsZU1hcmtlcigKICAgICAgICAgICAgICAgIFs0My43Njc5ODAzLCAtNzkuNDg3MjYxOTAwMDAwMDFdLAogICAgICAgICAgICAgICAgeyJidWJibGluZ01vdXNlRXZlbnRzIjogdHJ1ZSwgImNvbG9yIjogImJsdWUiLCAiZGFzaEFycmF5IjogbnVsbCwgImRhc2hPZmZzZXQiOiBudWxsLCAiZmlsbCI6IHRydWUsICJmaWxsQ29sb3IiOiAiIzMxODZjYyIsICJmaWxsT3BhY2l0eSI6IDAuNywgImZpbGxSdWxlIjogImV2ZW5vZGQiLCAibGluZUNhcCI6ICJyb3VuZCIsICJsaW5lSm9pbiI6ICJyb3VuZCIsICJvcGFjaXR5IjogMS4wLCAicmFkaXVzIjogNSwgInN0cm9rZSI6IHRydWUsICJ3ZWlnaHQiOiAzfQogICAgICAgICAgICApLmFkZFRvKG1hcF80MjM0OGRiOTdkNDE0ZWE4YTRmNzdkMzE1ZGQ0NWMwMCk7CiAgICAgICAgCiAgICAKICAgICAgICB2YXIgcG9wdXBfZjczODk5ZTBmZWJlNDlkYWJiNTRhNDM4NWY1MTk0NzEgPSBMLnBvcHVwKHsibWF4V2lkdGgiOiAiMTAwJSJ9KTsKCiAgICAgICAgCiAgICAgICAgICAgIHZhciBodG1sXzUyZmUxNWFjZmI2MzQ5ZDg5ZDNjZDBiNjNmYzIyMDI5ID0gJChgPGRpdiBpZD0iaHRtbF81MmZlMTVhY2ZiNjM0OWQ4OWQzY2QwYjYzZmMyMjAyOSIgc3R5bGU9IndpZHRoOiAxMDAuMCU7IGhlaWdodDogMTAwLjAlOyI+Tm9ydGh3b29kIFBhcmssIFlvcmsgVW5pdmVyc2l0eSwgTm9ydGggWW9yazwvZGl2PmApWzBdOwogICAgICAgICAgICBwb3B1cF9mNzM4OTllMGZlYmU0OWRhYmI1NGE0Mzg1ZjUxOTQ3MS5zZXRDb250ZW50KGh0bWxfNTJmZTE1YWNmYjYzNDlkODlkM2NkMGI2M2ZjMjIwMjkpOwogICAgICAgIAoKICAgICAgICBjaXJjbGVfbWFya2VyX2RiNmFiY2ExMWY4OTRiNjM4ODljZmI0NWJjYWI1ZDcxLmJpbmRQb3B1cChwb3B1cF9mNzM4OTllMGZlYmU0OWRhYmI1NGE0Mzg1ZjUxOTQ3MSkKICAgICAgICA7CgogICAgICAgIAogICAgCiAgICAKICAgICAgICAgICAgdmFyIGNpcmNsZV9tYXJrZXJfNDRkOTgyNWM2OTM2NGM3MzgyNWZlYjY2ZGRlMDAxZWQgPSBMLmNpcmNsZU1hcmtlcigKICAgICAgICAgICAgICAgIFs0My43Mzc0NzMyMDAwMDAwMDQsIC03OS40NjQ3NjMyOTk5OTk5OV0sCiAgICAgICAgICAgICAgICB7ImJ1YmJsaW5nTW91c2VFdmVudHMiOiB0cnVlLCAiY29sb3IiOiAiYmx1ZSIsICJkYXNoQXJyYXkiOiBudWxsLCAiZGFzaE9mZnNldCI6IG51bGwsICJmaWxsIjogdHJ1ZSwgImZpbGxDb2xvciI6ICIjMzE4NmNjIiwgImZpbGxPcGFjaXR5IjogMC43LCAiZmlsbFJ1bGUiOiAiZXZlbm9kZCIsICJsaW5lQ2FwIjogInJvdW5kIiwgImxpbmVKb2luIjogInJvdW5kIiwgIm9wYWNpdHkiOiAxLjAsICJyYWRpdXMiOiA1LCAic3Ryb2tlIjogdHJ1ZSwgIndlaWdodCI6IDN9CiAgICAgICAgICAgICkuYWRkVG8obWFwXzQyMzQ4ZGI5N2Q0MTRlYThhNGY3N2QzMTVkZDQ1YzAwKTsKICAgICAgICAKICAgIAogICAgICAgIHZhciBwb3B1cF9lMzI0ZDhmNDQxNjQ0NjQxYTVhNGMzMWU0NzM4MTY2ZSA9IEwucG9wdXAoeyJtYXhXaWR0aCI6ICIxMDAlIn0pOwoKICAgICAgICAKICAgICAgICAgICAgdmFyIGh0bWxfZGYwY2QyNzg1Y2M3NDM3NGJkYjUyODY2ODAxZDYxNTUgPSAkKGA8ZGl2IGlkPSJodG1sX2RmMGNkMjc4NWNjNzQzNzRiZGI1Mjg2NjgwMWQ2MTU1IiBzdHlsZT0id2lkdGg6IDEwMC4wJTsgaGVpZ2h0OiAxMDAuMCU7Ij5Eb3duc3ZpZXcsIE5vcnRoIFlvcms8L2Rpdj5gKVswXTsKICAgICAgICAgICAgcG9wdXBfZTMyNGQ4ZjQ0MTY0NDY0MWE1YTRjMzFlNDczODE2NmUuc2V0Q29udGVudChodG1sX2RmMGNkMjc4NWNjNzQzNzRiZGI1Mjg2NjgwMWQ2MTU1KTsKICAgICAgICAKCiAgICAgICAgY2lyY2xlX21hcmtlcl80NGQ5ODI1YzY5MzY0YzczODI1ZmViNjZkZGUwMDFlZC5iaW5kUG9wdXAocG9wdXBfZTMyNGQ4ZjQ0MTY0NDY0MWE1YTRjMzFlNDczODE2NmUpCiAgICAgICAgOwoKICAgICAgICAKICAgIAogICAgCiAgICAgICAgICAgIHZhciBjaXJjbGVfbWFya2VyXzJiNjE4NDQwNWYxOTQ4OTVhNGVkYjg2NDYxN2YxN2ZlID0gTC5jaXJjbGVNYXJrZXIoCiAgICAgICAgICAgICAgICBbNDMuNzM5MDE0NiwgLTc5LjUwNjk0MzZdLAogICAgICAgICAgICAgICAgeyJidWJibGluZ01vdXNlRXZlbnRzIjogdHJ1ZSwgImNvbG9yIjogImJsdWUiLCAiZGFzaEFycmF5IjogbnVsbCwgImRhc2hPZmZzZXQiOiBudWxsLCAiZmlsbCI6IHRydWUsICJmaWxsQ29sb3IiOiAiIzMxODZjYyIsICJmaWxsT3BhY2l0eSI6IDAuNywgImZpbGxSdWxlIjogImV2ZW5vZGQiLCAibGluZUNhcCI6ICJyb3VuZCIsICJsaW5lSm9pbiI6ICJyb3VuZCIsICJvcGFjaXR5IjogMS4wLCAicmFkaXVzIjogNSwgInN0cm9rZSI6IHRydWUsICJ3ZWlnaHQiOiAzfQogICAgICAgICAgICApLmFkZFRvKG1hcF80MjM0OGRiOTdkNDE0ZWE4YTRmNzdkMzE1ZGQ0NWMwMCk7CiAgICAgICAgCiAgICAKICAgICAgICB2YXIgcG9wdXBfYjMzZjdmNGIwYzUxNGZkNjhmODM1NDE0NjI4NDA0M2QgPSBMLnBvcHVwKHsibWF4V2lkdGgiOiAiMTAwJSJ9KTsKCiAgICAgICAgCiAgICAgICAgICAgIHZhciBodG1sXzlkYTVhNjk2NGY4ZDQwMjQ5ZThkMDY3OTRjNWIyNzY4ID0gJChgPGRpdiBpZD0iaHRtbF85ZGE1YTY5NjRmOGQ0MDI0OWU4ZDA2Nzk0YzViMjc2OCIgc3R5bGU9IndpZHRoOiAxMDAuMCU7IGhlaWdodDogMTAwLjAlOyI+RG93bnN2aWV3LCBOb3J0aCBZb3JrPC9kaXY+YClbMF07CiAgICAgICAgICAgIHBvcHVwX2IzM2Y3ZjRiMGM1MTRmZDY4ZjgzNTQxNDYyODQwNDNkLnNldENvbnRlbnQoaHRtbF85ZGE1YTY5NjRmOGQ0MDI0OWU4ZDA2Nzk0YzViMjc2OCk7CiAgICAgICAgCgogICAgICAgIGNpcmNsZV9tYXJrZXJfMmI2MTg0NDA1ZjE5NDg5NWE0ZWRiODY0NjE3ZjE3ZmUuYmluZFBvcHVwKHBvcHVwX2IzM2Y3ZjRiMGM1MTRmZDY4ZjgzNTQxNDYyODQwNDNkKQogICAgICAgIDsKCiAgICAgICAgCiAgICAKICAgIAogICAgICAgICAgICB2YXIgY2lyY2xlX21hcmtlcl9kZjc3NzE1MGNhYzc0MTU1ODkzNzAzNTA0OGJkYzQxYyA9IEwuY2lyY2xlTWFya2VyKAogICAgICAgICAgICAgICAgWzQzLjcyODQ5NjQsIC03OS40OTU2OTc0MDAwMDAwMV0sCiAgICAgICAgICAgICAgICB7ImJ1YmJsaW5nTW91c2VFdmVudHMiOiB0cnVlLCAiY29sb3IiOiAiYmx1ZSIsICJkYXNoQXJyYXkiOiBudWxsLCAiZGFzaE9mZnNldCI6IG51bGwsICJmaWxsIjogdHJ1ZSwgImZpbGxDb2xvciI6ICIjMzE4NmNjIiwgImZpbGxPcGFjaXR5IjogMC43LCAiZmlsbFJ1bGUiOiAiZXZlbm9kZCIsICJsaW5lQ2FwIjogInJvdW5kIiwgImxpbmVKb2luIjogInJvdW5kIiwgIm9wYWNpdHkiOiAxLjAsICJyYWRpdXMiOiA1LCAic3Ryb2tlIjogdHJ1ZSwgIndlaWdodCI6IDN9CiAgICAgICAgICAgICkuYWRkVG8obWFwXzQyMzQ4ZGI5N2Q0MTRlYThhNGY3N2QzMTVkZDQ1YzAwKTsKICAgICAgICAKICAgIAogICAgICAgIHZhciBwb3B1cF82ODI2OTAyMTUxOTA0MmUxOTAwYTAwZTI5NTYxZTJjNSA9IEwucG9wdXAoeyJtYXhXaWR0aCI6ICIxMDAlIn0pOwoKICAgICAgICAKICAgICAgICAgICAgdmFyIGh0bWxfOTJjMWNmNTllZmI1NGI3ZTlmMmY0YWMzZDg4MWYyMzEgPSAkKGA8ZGl2IGlkPSJodG1sXzkyYzFjZjU5ZWZiNTRiN2U5ZjJmNGFjM2Q4ODFmMjMxIiBzdHlsZT0id2lkdGg6IDEwMC4wJTsgaGVpZ2h0OiAxMDAuMCU7Ij5Eb3duc3ZpZXcsIE5vcnRoIFlvcms8L2Rpdj5gKVswXTsKICAgICAgICAgICAgcG9wdXBfNjgyNjkwMjE1MTkwNDJlMTkwMGEwMGUyOTU2MWUyYzUuc2V0Q29udGVudChodG1sXzkyYzFjZjU5ZWZiNTRiN2U5ZjJmNGFjM2Q4ODFmMjMxKTsKICAgICAgICAKCiAgICAgICAgY2lyY2xlX21hcmtlcl9kZjc3NzE1MGNhYzc0MTU1ODkzNzAzNTA0OGJkYzQxYy5iaW5kUG9wdXAocG9wdXBfNjgyNjkwMjE1MTkwNDJlMTkwMGEwMGUyOTU2MWUyYzUpCiAgICAgICAgOwoKICAgICAgICAKICAgIAogICAgCiAgICAgICAgICAgIHZhciBjaXJjbGVfbWFya2VyXzQwNDU3NDg5YmUzYzQxMWI4NjE2NjcyNmE5MjIzZDlkID0gTC5jaXJjbGVNYXJrZXIoCiAgICAgICAgICAgICAgICBbNDMuNzYxNjMxMywgLTc5LjUyMDk5OTQwMDAwMDAxXSwKICAgICAgICAgICAgICAgIHsiYnViYmxpbmdNb3VzZUV2ZW50cyI6IHRydWUsICJjb2xvciI6ICJibHVlIiwgImRhc2hBcnJheSI6IG51bGwsICJkYXNoT2Zmc2V0IjogbnVsbCwgImZpbGwiOiB0cnVlLCAiZmlsbENvbG9yIjogIiMzMTg2Y2MiLCAiZmlsbE9wYWNpdHkiOiAwLjcsICJmaWxsUnVsZSI6ICJldmVub2RkIiwgImxpbmVDYXAiOiAicm91bmQiLCAibGluZUpvaW4iOiAicm91bmQiLCAib3BhY2l0eSI6IDEuMCwgInJhZGl1cyI6IDUsICJzdHJva2UiOiB0cnVlLCAid2VpZ2h0IjogM30KICAgICAgICAgICAgKS5hZGRUbyhtYXBfNDIzNDhkYjk3ZDQxNGVhOGE0Zjc3ZDMxNWRkNDVjMDApOwogICAgICAgIAogICAgCiAgICAgICAgdmFyIHBvcHVwXzRiMDhmOTcwNjA2MjRhZDQ5MzQxNTQxYzhjMzMxYTkwID0gTC5wb3B1cCh7Im1heFdpZHRoIjogIjEwMCUifSk7CgogICAgICAgIAogICAgICAgICAgICB2YXIgaHRtbF9kN2Q0ODRmNDMwZGE0ZDlkYWM4NDhjNTllZGIxNWJlYyA9ICQoYDxkaXYgaWQ9Imh0bWxfZDdkNDg0ZjQzMGRhNGQ5ZGFjODQ4YzU5ZWRiMTViZWMiIHN0eWxlPSJ3aWR0aDogMTAwLjAlOyBoZWlnaHQ6IDEwMC4wJTsiPkRvd25zdmlldywgTm9ydGggWW9yazwvZGl2PmApWzBdOwogICAgICAgICAgICBwb3B1cF80YjA4Zjk3MDYwNjI0YWQ0OTM0MTU0MWM4YzMzMWE5MC5zZXRDb250ZW50KGh0bWxfZDdkNDg0ZjQzMGRhNGQ5ZGFjODQ4YzU5ZWRiMTViZWMpOwogICAgICAgIAoKICAgICAgICBjaXJjbGVfbWFya2VyXzQwNDU3NDg5YmUzYzQxMWI4NjE2NjcyNmE5MjIzZDlkLmJpbmRQb3B1cChwb3B1cF80YjA4Zjk3MDYwNjI0YWQ0OTM0MTU0MWM4YzMzMWE5MCkKICAgICAgICA7CgogICAgICAgIAogICAgCiAgICAKICAgICAgICAgICAgdmFyIGNpcmNsZV9tYXJrZXJfNDk3MzI0ZGQ5NDdmNGQ1YWEwMGI1M2Y4OGZlZjE5M2MgPSBMLmNpcmNsZU1hcmtlcigKICAgICAgICAgICAgICAgIFs0My43MjU4ODIyOTk5OTk5OTUsIC03OS4zMTU1NzE1OTk5OTk5OF0sCiAgICAgICAgICAgICAgICB7ImJ1YmJsaW5nTW91c2VFdmVudHMiOiB0cnVlLCAiY29sb3IiOiAiYmx1ZSIsICJkYXNoQXJyYXkiOiBudWxsLCAiZGFzaE9mZnNldCI6IG51bGwsICJmaWxsIjogdHJ1ZSwgImZpbGxDb2xvciI6ICIjMzE4NmNjIiwgImZpbGxPcGFjaXR5IjogMC43LCAiZmlsbFJ1bGUiOiAiZXZlbm9kZCIsICJsaW5lQ2FwIjogInJvdW5kIiwgImxpbmVKb2luIjogInJvdW5kIiwgIm9wYWNpdHkiOiAxLjAsICJyYWRpdXMiOiA1LCAic3Ryb2tlIjogdHJ1ZSwgIndlaWdodCI6IDN9CiAgICAgICAgICAgICkuYWRkVG8obWFwXzQyMzQ4ZGI5N2Q0MTRlYThhNGY3N2QzMTVkZDQ1YzAwKTsKICAgICAgICAKICAgIAogICAgICAgIHZhciBwb3B1cF9lZjYxMjU2OGJlNzM0NzA1ODc2YjdlMjE3MWNlN2Y1NiA9IEwucG9wdXAoeyJtYXhXaWR0aCI6ICIxMDAlIn0pOwoKICAgICAgICAKICAgICAgICAgICAgdmFyIGh0bWxfYjA2YjVhMWE3YTgyNDE3M2JhYmNlNTVjZmMyYWU2NmEgPSAkKGA8ZGl2IGlkPSJodG1sX2IwNmI1YTFhN2E4MjQxNzNiYWJjZTU1Y2ZjMmFlNjZhIiBzdHlsZT0id2lkdGg6IDEwMC4wJTsgaGVpZ2h0OiAxMDAuMCU7Ij5WaWN0b3JpYSBWaWxsYWdlLCBOb3J0aCBZb3JrPC9kaXY+YClbMF07CiAgICAgICAgICAgIHBvcHVwX2VmNjEyNTY4YmU3MzQ3MDU4NzZiN2UyMTcxY2U3ZjU2LnNldENvbnRlbnQoaHRtbF9iMDZiNWExYTdhODI0MTczYmFiY2U1NWNmYzJhZTY2YSk7CiAgICAgICAgCgogICAgICAgIGNpcmNsZV9tYXJrZXJfNDk3MzI0ZGQ5NDdmNGQ1YWEwMGI1M2Y4OGZlZjE5M2MuYmluZFBvcHVwKHBvcHVwX2VmNjEyNTY4YmU3MzQ3MDU4NzZiN2UyMTcxY2U3ZjU2KQogICAgICAgIDsKCiAgICAgICAgCiAgICAKICAgIAogICAgICAgICAgICB2YXIgY2lyY2xlX21hcmtlcl8yN2IwY2UyNTUyNGY0YWJhODE3NDdhMmIwMjg0ZjZiOCA9IEwuY2lyY2xlTWFya2VyKAogICAgICAgICAgICAgICAgWzQzLjcwNjM5NzIsIC03OS4zMDk5MzddLAogICAgICAgICAgICAgICAgeyJidWJibGluZ01vdXNlRXZlbnRzIjogdHJ1ZSwgImNvbG9yIjogImJsdWUiLCAiZGFzaEFycmF5IjogbnVsbCwgImRhc2hPZmZzZXQiOiBudWxsLCAiZmlsbCI6IHRydWUsICJmaWxsQ29sb3IiOiAiIzMxODZjYyIsICJmaWxsT3BhY2l0eSI6IDAuNywgImZpbGxSdWxlIjogImV2ZW5vZGQiLCAibGluZUNhcCI6ICJyb3VuZCIsICJsaW5lSm9pbiI6ICJyb3VuZCIsICJvcGFjaXR5IjogMS4wLCAicmFkaXVzIjogNSwgInN0cm9rZSI6IHRydWUsICJ3ZWlnaHQiOiAzfQogICAgICAgICAgICApLmFkZFRvKG1hcF80MjM0OGRiOTdkNDE0ZWE4YTRmNzdkMzE1ZGQ0NWMwMCk7CiAgICAgICAgCiAgICAKICAgICAgICB2YXIgcG9wdXBfODcyYTFhZDE5ODBhNDJmNmJkY2QzYTc2NjIyZjI4YjggPSBMLnBvcHVwKHsibWF4V2lkdGgiOiAiMTAwJSJ9KTsKCiAgICAgICAgCiAgICAgICAgICAgIHZhciBodG1sXzI2OTRmNjQxMjBlOTQ3ZTM5ZGJiYmJiZDNiMjVkMmExID0gJChgPGRpdiBpZD0iaHRtbF8yNjk0ZjY0MTIwZTk0N2UzOWRiYmJiYmQzYjI1ZDJhMSIgc3R5bGU9IndpZHRoOiAxMDAuMCU7IGhlaWdodDogMTAwLjAlOyI+UGFya3ZpZXcgSGlsbCwgV29vZGJpbmUgR2FyZGVucywgRWFzdCBZb3JrPC9kaXY+YClbMF07CiAgICAgICAgICAgIHBvcHVwXzg3MmExYWQxOTgwYTQyZjZiZGNkM2E3NjYyMmYyOGI4LnNldENvbnRlbnQoaHRtbF8yNjk0ZjY0MTIwZTk0N2UzOWRiYmJiYmQzYjI1ZDJhMSk7CiAgICAgICAgCgogICAgICAgIGNpcmNsZV9tYXJrZXJfMjdiMGNlMjU1MjRmNGFiYTgxNzQ3YTJiMDI4NGY2YjguYmluZFBvcHVwKHBvcHVwXzg3MmExYWQxOTgwYTQyZjZiZGNkM2E3NjYyMmYyOGI4KQogICAgICAgIDsKCiAgICAgICAgCiAgICAKICAgIAogICAgICAgICAgICB2YXIgY2lyY2xlX21hcmtlcl9jYzBiZTc2YjdmMTA0YTVkODk0M2M0MWM3ZmMyZTRjZiA9IEwuY2lyY2xlTWFya2VyKAogICAgICAgICAgICAgICAgWzQzLjY5NTM0MzkwMDAwMDAwNSwgLTc5LjMxODM4ODddLAogICAgICAgICAgICAgICAgeyJidWJibGluZ01vdXNlRXZlbnRzIjogdHJ1ZSwgImNvbG9yIjogImJsdWUiLCAiZGFzaEFycmF5IjogbnVsbCwgImRhc2hPZmZzZXQiOiBudWxsLCAiZmlsbCI6IHRydWUsICJmaWxsQ29sb3IiOiAiIzMxODZjYyIsICJmaWxsT3BhY2l0eSI6IDAuNywgImZpbGxSdWxlIjogImV2ZW5vZGQiLCAibGluZUNhcCI6ICJyb3VuZCIsICJsaW5lSm9pbiI6ICJyb3VuZCIsICJvcGFjaXR5IjogMS4wLCAicmFkaXVzIjogNSwgInN0cm9rZSI6IHRydWUsICJ3ZWlnaHQiOiAzfQogICAgICAgICAgICApLmFkZFRvKG1hcF80MjM0OGRiOTdkNDE0ZWE4YTRmNzdkMzE1ZGQ0NWMwMCk7CiAgICAgICAgCiAgICAKICAgICAgICB2YXIgcG9wdXBfNTMxNGFjMjQ4ZTQxNGNmYWI3OTlkNmZlZDdjZGRlMTUgPSBMLnBvcHVwKHsibWF4V2lkdGgiOiAiMTAwJSJ9KTsKCiAgICAgICAgCiAgICAgICAgICAgIHZhciBodG1sXzI2YjkxMzAxZjNhODRhODg4M2RjNjliYTVhNjZkNjU4ID0gJChgPGRpdiBpZD0iaHRtbF8yNmI5MTMwMWYzYTg0YTg4ODNkYzY5YmE1YTY2ZDY1OCIgc3R5bGU9IndpZHRoOiAxMDAuMCU7IGhlaWdodDogMTAwLjAlOyI+V29vZGJpbmUgSGVpZ2h0cywgRWFzdCBZb3JrPC9kaXY+YClbMF07CiAgICAgICAgICAgIHBvcHVwXzUzMTRhYzI0OGU0MTRjZmFiNzk5ZDZmZWQ3Y2RkZTE1LnNldENvbnRlbnQoaHRtbF8yNmI5MTMwMWYzYTg0YTg4ODNkYzY5YmE1YTY2ZDY1OCk7CiAgICAgICAgCgogICAgICAgIGNpcmNsZV9tYXJrZXJfY2MwYmU3NmI3ZjEwNGE1ZDg5NDNjNDFjN2ZjMmU0Y2YuYmluZFBvcHVwKHBvcHVwXzUzMTRhYzI0OGU0MTRjZmFiNzk5ZDZmZWQ3Y2RkZTE1KQogICAgICAgIDsKCiAgICAgICAgCiAgICAKICAgIAogICAgICAgICAgICB2YXIgY2lyY2xlX21hcmtlcl8xOTY1Yjc2ZDY5NzM0N2JmYjY3MmYxZTA0ZTY4OTM0NiA9IEwuY2lyY2xlTWFya2VyKAogICAgICAgICAgICAgICAgWzQzLjY3NjM1NzM5OTk5OTk5LCAtNzkuMjkzMDMxMl0sCiAgICAgICAgICAgICAgICB7ImJ1YmJsaW5nTW91c2VFdmVudHMiOiB0cnVlLCAiY29sb3IiOiAiYmx1ZSIsICJkYXNoQXJyYXkiOiBudWxsLCAiZGFzaE9mZnNldCI6IG51bGwsICJmaWxsIjogdHJ1ZSwgImZpbGxDb2xvciI6ICIjMzE4NmNjIiwgImZpbGxPcGFjaXR5IjogMC43LCAiZmlsbFJ1bGUiOiAiZXZlbm9kZCIsICJsaW5lQ2FwIjogInJvdW5kIiwgImxpbmVKb2luIjogInJvdW5kIiwgIm9wYWNpdHkiOiAxLjAsICJyYWRpdXMiOiA1LCAic3Ryb2tlIjogdHJ1ZSwgIndlaWdodCI6IDN9CiAgICAgICAgICAgICkuYWRkVG8obWFwXzQyMzQ4ZGI5N2Q0MTRlYThhNGY3N2QzMTVkZDQ1YzAwKTsKICAgICAgICAKICAgIAogICAgICAgIHZhciBwb3B1cF9mMmE1ZTg4YjJhZDc0MGJiYWNkOTE2ZWQ4NGJlZjA4ZiA9IEwucG9wdXAoeyJtYXhXaWR0aCI6ICIxMDAlIn0pOwoKICAgICAgICAKICAgICAgICAgICAgdmFyIGh0bWxfNGU2ZGI2MTdmOGNmNGZiYjk4ZjZlMzkyZTdmYjE0MGMgPSAkKGA8ZGl2IGlkPSJodG1sXzRlNmRiNjE3ZjhjZjRmYmI5OGY2ZTM5MmU3ZmIxNDBjIiBzdHlsZT0id2lkdGg6IDEwMC4wJTsgaGVpZ2h0OiAxMDAuMCU7Ij5UaGUgQmVhY2hlcywgRWFzdCBUb3JvbnRvPC9kaXY+YClbMF07CiAgICAgICAgICAgIHBvcHVwX2YyYTVlODhiMmFkNzQwYmJhY2Q5MTZlZDg0YmVmMDhmLnNldENvbnRlbnQoaHRtbF80ZTZkYjYxN2Y4Y2Y0ZmJiOThmNmUzOTJlN2ZiMTQwYyk7CiAgICAgICAgCgogICAgICAgIGNpcmNsZV9tYXJrZXJfMTk2NWI3NmQ2OTczNDdiZmI2NzJmMWUwNGU2ODkzNDYuYmluZFBvcHVwKHBvcHVwX2YyYTVlODhiMmFkNzQwYmJhY2Q5MTZlZDg0YmVmMDhmKQogICAgICAgIDsKCiAgICAgICAgCiAgICAKICAgIAogICAgICAgICAgICB2YXIgY2lyY2xlX21hcmtlcl8zZmRkYjVhMDRiNzM0NDNiYWQxNGI0OGI3ODdhNjU2MSA9IEwuY2lyY2xlTWFya2VyKAogICAgICAgICAgICAgICAgWzQzLjcwOTA2MDQsIC03OS4zNjM0NTE3XSwKICAgICAgICAgICAgICAgIHsiYnViYmxpbmdNb3VzZUV2ZW50cyI6IHRydWUsICJjb2xvciI6ICJibHVlIiwgImRhc2hBcnJheSI6IG51bGwsICJkYXNoT2Zmc2V0IjogbnVsbCwgImZpbGwiOiB0cnVlLCAiZmlsbENvbG9yIjogIiMzMTg2Y2MiLCAiZmlsbE9wYWNpdHkiOiAwLjcsICJmaWxsUnVsZSI6ICJldmVub2RkIiwgImxpbmVDYXAiOiAicm91bmQiLCAibGluZUpvaW4iOiAicm91bmQiLCAib3BhY2l0eSI6IDEuMCwgInJhZGl1cyI6IDUsICJzdHJva2UiOiB0cnVlLCAid2VpZ2h0IjogM30KICAgICAgICAgICAgKS5hZGRUbyhtYXBfNDIzNDhkYjk3ZDQxNGVhOGE0Zjc3ZDMxNWRkNDVjMDApOwogICAgICAgIAogICAgCiAgICAgICAgdmFyIHBvcHVwXzVlODJjZGI3YjQyMDQ4Y2NhY2M5NGEyNjAwYjIwNzRlID0gTC5wb3B1cCh7Im1heFdpZHRoIjogIjEwMCUifSk7CgogICAgICAgIAogICAgICAgICAgICB2YXIgaHRtbF85ZjhhODZhMTY3OTY0MGZiYmJhYjQ2YjVmNTMwNjA0NCA9ICQoYDxkaXYgaWQ9Imh0bWxfOWY4YTg2YTE2Nzk2NDBmYmJiYWI0NmI1ZjUzMDYwNDQiIHN0eWxlPSJ3aWR0aDogMTAwLjAlOyBoZWlnaHQ6IDEwMC4wJTsiPkxlYXNpZGUsIEVhc3QgWW9yazwvZGl2PmApWzBdOwogICAgICAgICAgICBwb3B1cF81ZTgyY2RiN2I0MjA0OGNjYWNjOTRhMjYwMGIyMDc0ZS5zZXRDb250ZW50KGh0bWxfOWY4YTg2YTE2Nzk2NDBmYmJiYWI0NmI1ZjUzMDYwNDQpOwogICAgICAgIAoKICAgICAgICBjaXJjbGVfbWFya2VyXzNmZGRiNWEwNGI3MzQ0M2JhZDE0YjQ4Yjc4N2E2NTYxLmJpbmRQb3B1cChwb3B1cF81ZTgyY2RiN2I0MjA0OGNjYWNjOTRhMjYwMGIyMDc0ZSkKICAgICAgICA7CgogICAgICAgIAogICAgCiAgICAKICAgICAgICAgICAgdmFyIGNpcmNsZV9tYXJrZXJfODQwZDE5MjkzMzZjNDg5ZmFkMmI0OTgyNzdlNDBkMzIgPSBMLmNpcmNsZU1hcmtlcigKICAgICAgICAgICAgICAgIFs0My43MDUzNjg5LCAtNzkuMzQ5MzcxOTAwMDAwMDFdLAogICAgICAgICAgICAgICAgeyJidWJibGluZ01vdXNlRXZlbnRzIjogdHJ1ZSwgImNvbG9yIjogImJsdWUiLCAiZGFzaEFycmF5IjogbnVsbCwgImRhc2hPZmZzZXQiOiBudWxsLCAiZmlsbCI6IHRydWUsICJmaWxsQ29sb3IiOiAiIzMxODZjYyIsICJmaWxsT3BhY2l0eSI6IDAuNywgImZpbGxSdWxlIjogImV2ZW5vZGQiLCAibGluZUNhcCI6ICJyb3VuZCIsICJsaW5lSm9pbiI6ICJyb3VuZCIsICJvcGFjaXR5IjogMS4wLCAicmFkaXVzIjogNSwgInN0cm9rZSI6IHRydWUsICJ3ZWlnaHQiOiAzfQogICAgICAgICAgICApLmFkZFRvKG1hcF80MjM0OGRiOTdkNDE0ZWE4YTRmNzdkMzE1ZGQ0NWMwMCk7CiAgICAgICAgCiAgICAKICAgICAgICB2YXIgcG9wdXBfYWM3NGRmN2NhNDNmNGYzYWI2OGRjNTI5ODQ1MzdjYzMgPSBMLnBvcHVwKHsibWF4V2lkdGgiOiAiMTAwJSJ9KTsKCiAgICAgICAgCiAgICAgICAgICAgIHZhciBodG1sX2VkYmVmYmZmYTI3MDQ2YTA5YmQ1ZWZkZDQxZTkwZjQwID0gJChgPGRpdiBpZD0iaHRtbF9lZGJlZmJmZmEyNzA0NmEwOWJkNWVmZGQ0MWU5MGY0MCIgc3R5bGU9IndpZHRoOiAxMDAuMCU7IGhlaWdodDogMTAwLjAlOyI+VGhvcm5jbGlmZmUgUGFyaywgRWFzdCBZb3JrPC9kaXY+YClbMF07CiAgICAgICAgICAgIHBvcHVwX2FjNzRkZjdjYTQzZjRmM2FiNjhkYzUyOTg0NTM3Y2MzLnNldENvbnRlbnQoaHRtbF9lZGJlZmJmZmEyNzA0NmEwOWJkNWVmZGQ0MWU5MGY0MCk7CiAgICAgICAgCgogICAgICAgIGNpcmNsZV9tYXJrZXJfODQwZDE5MjkzMzZjNDg5ZmFkMmI0OTgyNzdlNDBkMzIuYmluZFBvcHVwKHBvcHVwX2FjNzRkZjdjYTQzZjRmM2FiNjhkYzUyOTg0NTM3Y2MzKQogICAgICAgIDsKCiAgICAgICAgCiAgICAKICAgIAogICAgICAgICAgICB2YXIgY2lyY2xlX21hcmtlcl9lYzg4MWU2OWRmY2M0M2U3YWU1ZTQxOWQ1YjNlYWYwMyA9IEwuY2lyY2xlTWFya2VyKAogICAgICAgICAgICAgICAgWzQzLjY4NTM0NywgLTc5LjMzODEwNjVdLAogICAgICAgICAgICAgICAgeyJidWJibGluZ01vdXNlRXZlbnRzIjogdHJ1ZSwgImNvbG9yIjogImJsdWUiLCAiZGFzaEFycmF5IjogbnVsbCwgImRhc2hPZmZzZXQiOiBudWxsLCAiZmlsbCI6IHRydWUsICJmaWxsQ29sb3IiOiAiIzMxODZjYyIsICJmaWxsT3BhY2l0eSI6IDAuNywgImZpbGxSdWxlIjogImV2ZW5vZGQiLCAibGluZUNhcCI6ICJyb3VuZCIsICJsaW5lSm9pbiI6ICJyb3VuZCIsICJvcGFjaXR5IjogMS4wLCAicmFkaXVzIjogNSwgInN0cm9rZSI6IHRydWUsICJ3ZWlnaHQiOiAzfQogICAgICAgICAgICApLmFkZFRvKG1hcF80MjM0OGRiOTdkNDE0ZWE4YTRmNzdkMzE1ZGQ0NWMwMCk7CiAgICAgICAgCiAgICAKICAgICAgICB2YXIgcG9wdXBfOTM4ZGVjZDMxYjRmNDVmOGE0NDE4MTk4ZGUyNzg4NGMgPSBMLnBvcHVwKHsibWF4V2lkdGgiOiAiMTAwJSJ9KTsKCiAgICAgICAgCiAgICAgICAgICAgIHZhciBodG1sXzZlOGEwMDQ1YTU0ODQzNmViMDA2ZmQ3OWUxM2NmNjU3ID0gJChgPGRpdiBpZD0iaHRtbF82ZThhMDA0NWE1NDg0MzZlYjAwNmZkNzllMTNjZjY1NyIgc3R5bGU9IndpZHRoOiAxMDAuMCU7IGhlaWdodDogMTAwLjAlOyI+RWFzdCBUb3JvbnRvLCBCcm9hZHZpZXcgTm9ydGggKE9sZCBFYXN0IFlvcmspLCBFYXN0IFlvcms8L2Rpdj5gKVswXTsKICAgICAgICAgICAgcG9wdXBfOTM4ZGVjZDMxYjRmNDVmOGE0NDE4MTk4ZGUyNzg4NGMuc2V0Q29udGVudChodG1sXzZlOGEwMDQ1YTU0ODQzNmViMDA2ZmQ3OWUxM2NmNjU3KTsKICAgICAgICAKCiAgICAgICAgY2lyY2xlX21hcmtlcl9lYzg4MWU2OWRmY2M0M2U3YWU1ZTQxOWQ1YjNlYWYwMy5iaW5kUG9wdXAocG9wdXBfOTM4ZGVjZDMxYjRmNDVmOGE0NDE4MTk4ZGUyNzg4NGMpCiAgICAgICAgOwoKICAgICAgICAKICAgIAogICAgCiAgICAgICAgICAgIHZhciBjaXJjbGVfbWFya2VyXzI5NzljYjEwYzI0MDRhMzM4NzUwMTI1M2YzMDFiMmI5ID0gTC5jaXJjbGVNYXJrZXIoCiAgICAgICAgICAgICAgICBbNDMuNjc5NTU3MSwgLTc5LjM1MjE4OF0sCiAgICAgICAgICAgICAgICB7ImJ1YmJsaW5nTW91c2VFdmVudHMiOiB0cnVlLCAiY29sb3IiOiAiYmx1ZSIsICJkYXNoQXJyYXkiOiBudWxsLCAiZGFzaE9mZnNldCI6IG51bGwsICJmaWxsIjogdHJ1ZSwgImZpbGxDb2xvciI6ICIjMzE4NmNjIiwgImZpbGxPcGFjaXR5IjogMC43LCAiZmlsbFJ1bGUiOiAiZXZlbm9kZCIsICJsaW5lQ2FwIjogInJvdW5kIiwgImxpbmVKb2luIjogInJvdW5kIiwgIm9wYWNpdHkiOiAxLjAsICJyYWRpdXMiOiA1LCAic3Ryb2tlIjogdHJ1ZSwgIndlaWdodCI6IDN9CiAgICAgICAgICAgICkuYWRkVG8obWFwXzQyMzQ4ZGI5N2Q0MTRlYThhNGY3N2QzMTVkZDQ1YzAwKTsKICAgICAgICAKICAgIAogICAgICAgIHZhciBwb3B1cF9mMzRlNzkzYjI3ODA0ZjQwOWFiYTY4NTY1MzJjZGY3NyA9IEwucG9wdXAoeyJtYXhXaWR0aCI6ICIxMDAlIn0pOwoKICAgICAgICAKICAgICAgICAgICAgdmFyIGh0bWxfZDE2M2NmZTYwNjQ2NGI2YmEyMzA4ZWY0ZTQ1ODI4NWMgPSAkKGA8ZGl2IGlkPSJodG1sX2QxNjNjZmU2MDY0NjRiNmJhMjMwOGVmNGU0NTgyODVjIiBzdHlsZT0id2lkdGg6IDEwMC4wJTsgaGVpZ2h0OiAxMDAuMCU7Ij5UaGUgRGFuZm9ydGggV2VzdCwgUml2ZXJkYWxlLCBFYXN0IFRvcm9udG88L2Rpdj5gKVswXTsKICAgICAgICAgICAgcG9wdXBfZjM0ZTc5M2IyNzgwNGY0MDlhYmE2ODU2NTMyY2RmNzcuc2V0Q29udGVudChodG1sX2QxNjNjZmU2MDY0NjRiNmJhMjMwOGVmNGU0NTgyODVjKTsKICAgICAgICAKCiAgICAgICAgY2lyY2xlX21hcmtlcl8yOTc5Y2IxMGMyNDA0YTMzODc1MDEyNTNmMzAxYjJiOS5iaW5kUG9wdXAocG9wdXBfZjM0ZTc5M2IyNzgwNGY0MDlhYmE2ODU2NTMyY2RmNzcpCiAgICAgICAgOwoKICAgICAgICAKICAgIAogICAgCiAgICAgICAgICAgIHZhciBjaXJjbGVfbWFya2VyX2I4M2Q1MmZjMjExMzQ1ZjQ5Mzc5ODIxNjZkODM2MjNmID0gTC5jaXJjbGVNYXJrZXIoCiAgICAgICAgICAgICAgICBbNDMuNjY4OTk4NSwgLTc5LjMxNTU3MTU5OTk5OTk4XSwKICAgICAgICAgICAgICAgIHsiYnViYmxpbmdNb3VzZUV2ZW50cyI6IHRydWUsICJjb2xvciI6ICJibHVlIiwgImRhc2hBcnJheSI6IG51bGwsICJkYXNoT2Zmc2V0IjogbnVsbCwgImZpbGwiOiB0cnVlLCAiZmlsbENvbG9yIjogIiMzMTg2Y2MiLCAiZmlsbE9wYWNpdHkiOiAwLjcsICJmaWxsUnVsZSI6ICJldmVub2RkIiwgImxpbmVDYXAiOiAicm91bmQiLCAibGluZUpvaW4iOiAicm91bmQiLCAib3BhY2l0eSI6IDEuMCwgInJhZGl1cyI6IDUsICJzdHJva2UiOiB0cnVlLCAid2VpZ2h0IjogM30KICAgICAgICAgICAgKS5hZGRUbyhtYXBfNDIzNDhkYjk3ZDQxNGVhOGE0Zjc3ZDMxNWRkNDVjMDApOwogICAgICAgIAogICAgCiAgICAgICAgdmFyIHBvcHVwX2U2MGZkZTRkNjMwYzQ4ZWQ4YTQzMjk1ZDJmMzZlYzBmID0gTC5wb3B1cCh7Im1heFdpZHRoIjogIjEwMCUifSk7CgogICAgICAgIAogICAgICAgICAgICB2YXIgaHRtbF8zMjdhNGY3N2ViZjg0ZmE2YTA2OTBlYzdjNGIwODJkZSA9ICQoYDxkaXYgaWQ9Imh0bWxfMzI3YTRmNzdlYmY4NGZhNmEwNjkwZWM3YzRiMDgyZGUiIHN0eWxlPSJ3aWR0aDogMTAwLjAlOyBoZWlnaHQ6IDEwMC4wJTsiPkluZGlhIEJhemFhciwgVGhlIEJlYWNoZXMgV2VzdCwgRWFzdCBUb3JvbnRvPC9kaXY+YClbMF07CiAgICAgICAgICAgIHBvcHVwX2U2MGZkZTRkNjMwYzQ4ZWQ4YTQzMjk1ZDJmMzZlYzBmLnNldENvbnRlbnQoaHRtbF8zMjdhNGY3N2ViZjg0ZmE2YTA2OTBlYzdjNGIwODJkZSk7CiAgICAgICAgCgogICAgICAgIGNpcmNsZV9tYXJrZXJfYjgzZDUyZmMyMTEzNDVmNDkzNzk4MjE2NmQ4MzYyM2YuYmluZFBvcHVwKHBvcHVwX2U2MGZkZTRkNjMwYzQ4ZWQ4YTQzMjk1ZDJmMzZlYzBmKQogICAgICAgIDsKCiAgICAgICAgCiAgICAKICAgIAogICAgICAgICAgICB2YXIgY2lyY2xlX21hcmtlcl82MDFkZjRjZDJmOTA0ZDg5YjcxN2NkMzQ1MjcyNTIxNiA9IEwuY2lyY2xlTWFya2VyKAogICAgICAgICAgICAgICAgWzQzLjY1OTUyNTUsIC03OS4zNDA5MjNdLAogICAgICAgICAgICAgICAgeyJidWJibGluZ01vdXNlRXZlbnRzIjogdHJ1ZSwgImNvbG9yIjogImJsdWUiLCAiZGFzaEFycmF5IjogbnVsbCwgImRhc2hPZmZzZXQiOiBudWxsLCAiZmlsbCI6IHRydWUsICJmaWxsQ29sb3IiOiAiIzMxODZjYyIsICJmaWxsT3BhY2l0eSI6IDAuNywgImZpbGxSdWxlIjogImV2ZW5vZGQiLCAibGluZUNhcCI6ICJyb3VuZCIsICJsaW5lSm9pbiI6ICJyb3VuZCIsICJvcGFjaXR5IjogMS4wLCAicmFkaXVzIjogNSwgInN0cm9rZSI6IHRydWUsICJ3ZWlnaHQiOiAzfQogICAgICAgICAgICApLmFkZFRvKG1hcF80MjM0OGRiOTdkNDE0ZWE4YTRmNzdkMzE1ZGQ0NWMwMCk7CiAgICAgICAgCiAgICAKICAgICAgICB2YXIgcG9wdXBfM2RiYTY1MjNiZGQ0NGM5ZWE0NWZmODZiYTZlMjhhNWUgPSBMLnBvcHVwKHsibWF4V2lkdGgiOiAiMTAwJSJ9KTsKCiAgICAgICAgCiAgICAgICAgICAgIHZhciBodG1sX2Y3ZWIwOTUyOGZmMDRiNzE4MzVhNmE5ZmY3OTQ1MTY3ID0gJChgPGRpdiBpZD0iaHRtbF9mN2ViMDk1MjhmZjA0YjcxODM1YTZhOWZmNzk0NTE2NyIgc3R5bGU9IndpZHRoOiAxMDAuMCU7IGhlaWdodDogMTAwLjAlOyI+U3R1ZGlvIERpc3RyaWN0LCBFYXN0IFRvcm9udG88L2Rpdj5gKVswXTsKICAgICAgICAgICAgcG9wdXBfM2RiYTY1MjNiZGQ0NGM5ZWE0NWZmODZiYTZlMjhhNWUuc2V0Q29udGVudChodG1sX2Y3ZWIwOTUyOGZmMDRiNzE4MzVhNmE5ZmY3OTQ1MTY3KTsKICAgICAgICAKCiAgICAgICAgY2lyY2xlX21hcmtlcl82MDFkZjRjZDJmOTA0ZDg5YjcxN2NkMzQ1MjcyNTIxNi5iaW5kUG9wdXAocG9wdXBfM2RiYTY1MjNiZGQ0NGM5ZWE0NWZmODZiYTZlMjhhNWUpCiAgICAgICAgOwoKICAgICAgICAKICAgIAogICAgCiAgICAgICAgICAgIHZhciBjaXJjbGVfbWFya2VyX2U3Y2Q5NmMyY2YxMTRkMjRiYTFjYWNhNzVkNDQ4M2IyID0gTC5jaXJjbGVNYXJrZXIoCiAgICAgICAgICAgICAgICBbNDMuNzI4MDIwNSwgLTc5LjM4ODc5MDFdLAogICAgICAgICAgICAgICAgeyJidWJibGluZ01vdXNlRXZlbnRzIjogdHJ1ZSwgImNvbG9yIjogImJsdWUiLCAiZGFzaEFycmF5IjogbnVsbCwgImRhc2hPZmZzZXQiOiBudWxsLCAiZmlsbCI6IHRydWUsICJmaWxsQ29sb3IiOiAiIzMxODZjYyIsICJmaWxsT3BhY2l0eSI6IDAuNywgImZpbGxSdWxlIjogImV2ZW5vZGQiLCAibGluZUNhcCI6ICJyb3VuZCIsICJsaW5lSm9pbiI6ICJyb3VuZCIsICJvcGFjaXR5IjogMS4wLCAicmFkaXVzIjogNSwgInN0cm9rZSI6IHRydWUsICJ3ZWlnaHQiOiAzfQogICAgICAgICAgICApLmFkZFRvKG1hcF80MjM0OGRiOTdkNDE0ZWE4YTRmNzdkMzE1ZGQ0NWMwMCk7CiAgICAgICAgCiAgICAKICAgICAgICB2YXIgcG9wdXBfYTEwMDExNDVjMzA3NGVmYmJiMGFmYzE2MjgzOTNkNGMgPSBMLnBvcHVwKHsibWF4V2lkdGgiOiAiMTAwJSJ9KTsKCiAgICAgICAgCiAgICAgICAgICAgIHZhciBodG1sXzVkYWM1NzA3MDlkMjRlNDlhMTE2NzIzMTAzNTczYzhkID0gJChgPGRpdiBpZD0iaHRtbF81ZGFjNTcwNzA5ZDI0ZTQ5YTExNjcyMzEwMzU3M2M4ZCIgc3R5bGU9IndpZHRoOiAxMDAuMCU7IGhlaWdodDogMTAwLjAlOyI+TGF3cmVuY2UgUGFyaywgQ2VudHJhbCBUb3JvbnRvPC9kaXY+YClbMF07CiAgICAgICAgICAgIHBvcHVwX2ExMDAxMTQ1YzMwNzRlZmJiYjBhZmMxNjI4MzkzZDRjLnNldENvbnRlbnQoaHRtbF81ZGFjNTcwNzA5ZDI0ZTQ5YTExNjcyMzEwMzU3M2M4ZCk7CiAgICAgICAgCgogICAgICAgIGNpcmNsZV9tYXJrZXJfZTdjZDk2YzJjZjExNGQyNGJhMWNhY2E3NWQ0NDgzYjIuYmluZFBvcHVwKHBvcHVwX2ExMDAxMTQ1YzMwNzRlZmJiYjBhZmMxNjI4MzkzZDRjKQogICAgICAgIDsKCiAgICAgICAgCiAgICAKICAgIAogICAgICAgICAgICB2YXIgY2lyY2xlX21hcmtlcl9jNGFkNWE1MjNlNGU0YzhiOTYzMzdkNjYxMzA4NGE0ZiA9IEwuY2lyY2xlTWFya2VyKAogICAgICAgICAgICAgICAgWzQzLjcxMjc1MTEsIC03OS4zOTAxOTc1XSwKICAgICAgICAgICAgICAgIHsiYnViYmxpbmdNb3VzZUV2ZW50cyI6IHRydWUsICJjb2xvciI6ICJibHVlIiwgImRhc2hBcnJheSI6IG51bGwsICJkYXNoT2Zmc2V0IjogbnVsbCwgImZpbGwiOiB0cnVlLCAiZmlsbENvbG9yIjogIiMzMTg2Y2MiLCAiZmlsbE9wYWNpdHkiOiAwLjcsICJmaWxsUnVsZSI6ICJldmVub2RkIiwgImxpbmVDYXAiOiAicm91bmQiLCAibGluZUpvaW4iOiAicm91bmQiLCAib3BhY2l0eSI6IDEuMCwgInJhZGl1cyI6IDUsICJzdHJva2UiOiB0cnVlLCAid2VpZ2h0IjogM30KICAgICAgICAgICAgKS5hZGRUbyhtYXBfNDIzNDhkYjk3ZDQxNGVhOGE0Zjc3ZDMxNWRkNDVjMDApOwogICAgICAgIAogICAgCiAgICAgICAgdmFyIHBvcHVwXzRkZDdjZDkwZGFhMTQ2M2ZhZGUxZmRjZWZhZWJhYzFjID0gTC5wb3B1cCh7Im1heFdpZHRoIjogIjEwMCUifSk7CgogICAgICAgIAogICAgICAgICAgICB2YXIgaHRtbF82MzI4YjkyNzI4NDA0ZGY1OWNkNjAxZDcxY2EzMDg0YiA9ICQoYDxkaXYgaWQ9Imh0bWxfNjMyOGI5MjcyODQwNGRmNTljZDYwMWQ3MWNhMzA4NGIiIHN0eWxlPSJ3aWR0aDogMTAwLjAlOyBoZWlnaHQ6IDEwMC4wJTsiPkRhdmlzdmlsbGUgTm9ydGgsIENlbnRyYWwgVG9yb250bzwvZGl2PmApWzBdOwogICAgICAgICAgICBwb3B1cF80ZGQ3Y2Q5MGRhYTE0NjNmYWRlMWZkY2VmYWViYWMxYy5zZXRDb250ZW50KGh0bWxfNjMyOGI5MjcyODQwNGRmNTljZDYwMWQ3MWNhMzA4NGIpOwogICAgICAgIAoKICAgICAgICBjaXJjbGVfbWFya2VyX2M0YWQ1YTUyM2U0ZTRjOGI5NjMzN2Q2NjEzMDg0YTRmLmJpbmRQb3B1cChwb3B1cF80ZGQ3Y2Q5MGRhYTE0NjNmYWRlMWZkY2VmYWViYWMxYykKICAgICAgICA7CgogICAgICAgIAogICAgCiAgICAKICAgICAgICAgICAgdmFyIGNpcmNsZV9tYXJrZXJfODhjM2YzNzA2ZTJkNDlhNmJkZjM1MTJhYTQ1YTNiYTEgPSBMLmNpcmNsZU1hcmtlcigKICAgICAgICAgICAgICAgIFs0My43MTUzODM0LCAtNzkuNDA1Njc4NDAwMDAwMDFdLAogICAgICAgICAgICAgICAgeyJidWJibGluZ01vdXNlRXZlbnRzIjogdHJ1ZSwgImNvbG9yIjogImJsdWUiLCAiZGFzaEFycmF5IjogbnVsbCwgImRhc2hPZmZzZXQiOiBudWxsLCAiZmlsbCI6IHRydWUsICJmaWxsQ29sb3IiOiAiIzMxODZjYyIsICJmaWxsT3BhY2l0eSI6IDAuNywgImZpbGxSdWxlIjogImV2ZW5vZGQiLCAibGluZUNhcCI6ICJyb3VuZCIsICJsaW5lSm9pbiI6ICJyb3VuZCIsICJvcGFjaXR5IjogMS4wLCAicmFkaXVzIjogNSwgInN0cm9rZSI6IHRydWUsICJ3ZWlnaHQiOiAzfQogICAgICAgICAgICApLmFkZFRvKG1hcF80MjM0OGRiOTdkNDE0ZWE4YTRmNzdkMzE1ZGQ0NWMwMCk7CiAgICAgICAgCiAgICAKICAgICAgICB2YXIgcG9wdXBfOWY5OTdkYjA4OWNmNDBkZTgyNTY2OWEzNjJiNmUwNzIgPSBMLnBvcHVwKHsibWF4V2lkdGgiOiAiMTAwJSJ9KTsKCiAgICAgICAgCiAgICAgICAgICAgIHZhciBodG1sXzZiNzU1MTk5NGM0YjRkYmVhYjg5MzJlNGExOWYxZTgzID0gJChgPGRpdiBpZD0iaHRtbF82Yjc1NTE5OTRjNGI0ZGJlYWI4OTMyZTRhMTlmMWU4MyIgc3R5bGU9IndpZHRoOiAxMDAuMCU7IGhlaWdodDogMTAwLjAlOyI+Tm9ydGggVG9yb250byBXZXN0LCAgTGF3cmVuY2UgUGFyaywgQ2VudHJhbCBUb3JvbnRvPC9kaXY+YClbMF07CiAgICAgICAgICAgIHBvcHVwXzlmOTk3ZGIwODljZjQwZGU4MjU2NjlhMzYyYjZlMDcyLnNldENvbnRlbnQoaHRtbF82Yjc1NTE5OTRjNGI0ZGJlYWI4OTMyZTRhMTlmMWU4Myk7CiAgICAgICAgCgogICAgICAgIGNpcmNsZV9tYXJrZXJfODhjM2YzNzA2ZTJkNDlhNmJkZjM1MTJhYTQ1YTNiYTEuYmluZFBvcHVwKHBvcHVwXzlmOTk3ZGIwODljZjQwZGU4MjU2NjlhMzYyYjZlMDcyKQogICAgICAgIDsKCiAgICAgICAgCiAgICAKICAgIAogICAgICAgICAgICB2YXIgY2lyY2xlX21hcmtlcl9jNDE1YzJiZjZmOWM0ZTUxYmFiZDU4NmE4ODM5NDk0OCA9IEwuY2lyY2xlTWFya2VyKAogICAgICAgICAgICAgICAgWzQzLjcwNDMyNDQsIC03OS4zODg3OTAxXSwKICAgICAgICAgICAgICAgIHsiYnViYmxpbmdNb3VzZUV2ZW50cyI6IHRydWUsICJjb2xvciI6ICJibHVlIiwgImRhc2hBcnJheSI6IG51bGwsICJkYXNoT2Zmc2V0IjogbnVsbCwgImZpbGwiOiB0cnVlLCAiZmlsbENvbG9yIjogIiMzMTg2Y2MiLCAiZmlsbE9wYWNpdHkiOiAwLjcsICJmaWxsUnVsZSI6ICJldmVub2RkIiwgImxpbmVDYXAiOiAicm91bmQiLCAibGluZUpvaW4iOiAicm91bmQiLCAib3BhY2l0eSI6IDEuMCwgInJhZGl1cyI6IDUsICJzdHJva2UiOiB0cnVlLCAid2VpZ2h0IjogM30KICAgICAgICAgICAgKS5hZGRUbyhtYXBfNDIzNDhkYjk3ZDQxNGVhOGE0Zjc3ZDMxNWRkNDVjMDApOwogICAgICAgIAogICAgCiAgICAgICAgdmFyIHBvcHVwXzk1NmI0NzViNGQzYzQxNWU5NDg2ODk0YmU5OTViNjQ3ID0gTC5wb3B1cCh7Im1heFdpZHRoIjogIjEwMCUifSk7CgogICAgICAgIAogICAgICAgICAgICB2YXIgaHRtbF9kNGNjOGJjYzY3ZWE0OWJhOGEyNmQyMWNhOWY2ODQ4ZiA9ICQoYDxkaXYgaWQ9Imh0bWxfZDRjYzhiY2M2N2VhNDliYThhMjZkMjFjYTlmNjg0OGYiIHN0eWxlPSJ3aWR0aDogMTAwLjAlOyBoZWlnaHQ6IDEwMC4wJTsiPkRhdmlzdmlsbGUsIENlbnRyYWwgVG9yb250bzwvZGl2PmApWzBdOwogICAgICAgICAgICBwb3B1cF85NTZiNDc1YjRkM2M0MTVlOTQ4Njg5NGJlOTk1YjY0Ny5zZXRDb250ZW50KGh0bWxfZDRjYzhiY2M2N2VhNDliYThhMjZkMjFjYTlmNjg0OGYpOwogICAgICAgIAoKICAgICAgICBjaXJjbGVfbWFya2VyX2M0MTVjMmJmNmY5YzRlNTFiYWJkNTg2YTg4Mzk0OTQ4LmJpbmRQb3B1cChwb3B1cF85NTZiNDc1YjRkM2M0MTVlOTQ4Njg5NGJlOTk1YjY0NykKICAgICAgICA7CgogICAgICAgIAogICAgCiAgICAKICAgICAgICAgICAgdmFyIGNpcmNsZV9tYXJrZXJfYjYyY2U1MGY2MTU5NDgwY2IzZmI4ZGZiNWIyYmEzYjYgPSBMLmNpcmNsZU1hcmtlcigKICAgICAgICAgICAgICAgIFs0My42ODk1NzQzLCAtNzkuMzgzMTU5OTAwMDAwMDFdLAogICAgICAgICAgICAgICAgeyJidWJibGluZ01vdXNlRXZlbnRzIjogdHJ1ZSwgImNvbG9yIjogImJsdWUiLCAiZGFzaEFycmF5IjogbnVsbCwgImRhc2hPZmZzZXQiOiBudWxsLCAiZmlsbCI6IHRydWUsICJmaWxsQ29sb3IiOiAiIzMxODZjYyIsICJmaWxsT3BhY2l0eSI6IDAuNywgImZpbGxSdWxlIjogImV2ZW5vZGQiLCAibGluZUNhcCI6ICJyb3VuZCIsICJsaW5lSm9pbiI6ICJyb3VuZCIsICJvcGFjaXR5IjogMS4wLCAicmFkaXVzIjogNSwgInN0cm9rZSI6IHRydWUsICJ3ZWlnaHQiOiAzfQogICAgICAgICAgICApLmFkZFRvKG1hcF80MjM0OGRiOTdkNDE0ZWE4YTRmNzdkMzE1ZGQ0NWMwMCk7CiAgICAgICAgCiAgICAKICAgICAgICB2YXIgcG9wdXBfYmZlNmYyODQzZDYzNDRkYWIzYzE4ZTNhYjJiYjg5MjIgPSBMLnBvcHVwKHsibWF4V2lkdGgiOiAiMTAwJSJ9KTsKCiAgICAgICAgCiAgICAgICAgICAgIHZhciBodG1sXzg4YmE5OGY0Y2NmZDRmZGNhNWJjMTkyNGVmNmQzZTc2ID0gJChgPGRpdiBpZD0iaHRtbF84OGJhOThmNGNjZmQ0ZmRjYTViYzE5MjRlZjZkM2U3NiIgc3R5bGU9IndpZHRoOiAxMDAuMCU7IGhlaWdodDogMTAwLjAlOyI+TW9vcmUgUGFyaywgU3VtbWVyaGlsbCBFYXN0LCBDZW50cmFsIFRvcm9udG88L2Rpdj5gKVswXTsKICAgICAgICAgICAgcG9wdXBfYmZlNmYyODQzZDYzNDRkYWIzYzE4ZTNhYjJiYjg5MjIuc2V0Q29udGVudChodG1sXzg4YmE5OGY0Y2NmZDRmZGNhNWJjMTkyNGVmNmQzZTc2KTsKICAgICAgICAKCiAgICAgICAgY2lyY2xlX21hcmtlcl9iNjJjZTUwZjYxNTk0ODBjYjNmYjhkZmI1YjJiYTNiNi5iaW5kUG9wdXAocG9wdXBfYmZlNmYyODQzZDYzNDRkYWIzYzE4ZTNhYjJiYjg5MjIpCiAgICAgICAgOwoKICAgICAgICAKICAgIAogICAgCiAgICAgICAgICAgIHZhciBjaXJjbGVfbWFya2VyXzkwN2Y5ZmZlZGUyYzQ2OTdiZGZhMTY5MjlhNWUzMWYxID0gTC5jaXJjbGVNYXJrZXIoCiAgICAgICAgICAgICAgICBbNDMuNjg2NDEyMjk5OTk5OTksIC03OS40MDAwNDkzXSwKICAgICAgICAgICAgICAgIHsiYnViYmxpbmdNb3VzZUV2ZW50cyI6IHRydWUsICJjb2xvciI6ICJibHVlIiwgImRhc2hBcnJheSI6IG51bGwsICJkYXNoT2Zmc2V0IjogbnVsbCwgImZpbGwiOiB0cnVlLCAiZmlsbENvbG9yIjogIiMzMTg2Y2MiLCAiZmlsbE9wYWNpdHkiOiAwLjcsICJmaWxsUnVsZSI6ICJldmVub2RkIiwgImxpbmVDYXAiOiAicm91bmQiLCAibGluZUpvaW4iOiAicm91bmQiLCAib3BhY2l0eSI6IDEuMCwgInJhZGl1cyI6IDUsICJzdHJva2UiOiB0cnVlLCAid2VpZ2h0IjogM30KICAgICAgICAgICAgKS5hZGRUbyhtYXBfNDIzNDhkYjk3ZDQxNGVhOGE0Zjc3ZDMxNWRkNDVjMDApOwogICAgICAgIAogICAgCiAgICAgICAgdmFyIHBvcHVwXzE4ZWZjOWJiOTFkODRiODJhZTYzNjBhODkxZDViNGM3ID0gTC5wb3B1cCh7Im1heFdpZHRoIjogIjEwMCUifSk7CgogICAgICAgIAogICAgICAgICAgICB2YXIgaHRtbF8zYjhmNzIxMDZkYzQ0YjY5YTg2NjNlMGM3OGU2NjYyYSA9ICQoYDxkaXYgaWQ9Imh0bWxfM2I4ZjcyMTA2ZGM0NGI2OWE4NjYzZTBjNzhlNjY2MmEiIHN0eWxlPSJ3aWR0aDogMTAwLjAlOyBoZWlnaHQ6IDEwMC4wJTsiPlN1bW1lcmhpbGwgV2VzdCwgUmF0aG5lbGx5LCBTb3V0aCBIaWxsLCBGb3Jlc3QgSGlsbCBTRSwgRGVlciBQYXJrLCBDZW50cmFsIFRvcm9udG88L2Rpdj5gKVswXTsKICAgICAgICAgICAgcG9wdXBfMThlZmM5YmI5MWQ4NGI4MmFlNjM2MGE4OTFkNWI0Yzcuc2V0Q29udGVudChodG1sXzNiOGY3MjEwNmRjNDRiNjlhODY2M2UwYzc4ZTY2NjJhKTsKICAgICAgICAKCiAgICAgICAgY2lyY2xlX21hcmtlcl85MDdmOWZmZWRlMmM0Njk3YmRmYTE2OTI5YTVlMzFmMS5iaW5kUG9wdXAocG9wdXBfMThlZmM5YmI5MWQ4NGI4MmFlNjM2MGE4OTFkNWI0YzcpCiAgICAgICAgOwoKICAgICAgICAKICAgIAogICAgCiAgICAgICAgICAgIHZhciBjaXJjbGVfbWFya2VyX2IyOGYzZTFjZmU0YTRiZjBiZWFjZWQ2ZTc2Mjg1ZDRhID0gTC5jaXJjbGVNYXJrZXIoCiAgICAgICAgICAgICAgICBbNDMuNjc5NTYyNiwgLTc5LjM3NzUyOTQwMDAwMDAxXSwKICAgICAgICAgICAgICAgIHsiYnViYmxpbmdNb3VzZUV2ZW50cyI6IHRydWUsICJjb2xvciI6ICJibHVlIiwgImRhc2hBcnJheSI6IG51bGwsICJkYXNoT2Zmc2V0IjogbnVsbCwgImZpbGwiOiB0cnVlLCAiZmlsbENvbG9yIjogIiMzMTg2Y2MiLCAiZmlsbE9wYWNpdHkiOiAwLjcsICJmaWxsUnVsZSI6ICJldmVub2RkIiwgImxpbmVDYXAiOiAicm91bmQiLCAibGluZUpvaW4iOiAicm91bmQiLCAib3BhY2l0eSI6IDEuMCwgInJhZGl1cyI6IDUsICJzdHJva2UiOiB0cnVlLCAid2VpZ2h0IjogM30KICAgICAgICAgICAgKS5hZGRUbyhtYXBfNDIzNDhkYjk3ZDQxNGVhOGE0Zjc3ZDMxNWRkNDVjMDApOwogICAgICAgIAogICAgCiAgICAgICAgdmFyIHBvcHVwXzcwOWE0MjcyNzY5ZjQ1YWViMTc0ZjY5OGZhZjI1ZWJiID0gTC5wb3B1cCh7Im1heFdpZHRoIjogIjEwMCUifSk7CgogICAgICAgIAogICAgICAgICAgICB2YXIgaHRtbF9lODhmODU0OTMzZTE0MTJkYTlhZGViMmVhMzVmMmVkNiA9ICQoYDxkaXYgaWQ9Imh0bWxfZTg4Zjg1NDkzM2UxNDEyZGE5YWRlYjJlYTM1ZjJlZDYiIHN0eWxlPSJ3aWR0aDogMTAwLjAlOyBoZWlnaHQ6IDEwMC4wJTsiPlJvc2VkYWxlLCBEb3dudG93biBUb3JvbnRvPC9kaXY+YClbMF07CiAgICAgICAgICAgIHBvcHVwXzcwOWE0MjcyNzY5ZjQ1YWViMTc0ZjY5OGZhZjI1ZWJiLnNldENvbnRlbnQoaHRtbF9lODhmODU0OTMzZTE0MTJkYTlhZGViMmVhMzVmMmVkNik7CiAgICAgICAgCgogICAgICAgIGNpcmNsZV9tYXJrZXJfYjI4ZjNlMWNmZTRhNGJmMGJlYWNlZDZlNzYyODVkNGEuYmluZFBvcHVwKHBvcHVwXzcwOWE0MjcyNzY5ZjQ1YWViMTc0ZjY5OGZhZjI1ZWJiKQogICAgICAgIDsKCiAgICAgICAgCiAgICAKICAgIAogICAgICAgICAgICB2YXIgY2lyY2xlX21hcmtlcl8yOTJkMTU0MDJmOTk0YjY0OTIyYWM2MGRmNTI5MWU2NyA9IEwuY2lyY2xlTWFya2VyKAogICAgICAgICAgICAgICAgWzQzLjY2Nzk2NywgLTc5LjM2NzY3NTNdLAogICAgICAgICAgICAgICAgeyJidWJibGluZ01vdXNlRXZlbnRzIjogdHJ1ZSwgImNvbG9yIjogImJsdWUiLCAiZGFzaEFycmF5IjogbnVsbCwgImRhc2hPZmZzZXQiOiBudWxsLCAiZmlsbCI6IHRydWUsICJmaWxsQ29sb3IiOiAiIzMxODZjYyIsICJmaWxsT3BhY2l0eSI6IDAuNywgImZpbGxSdWxlIjogImV2ZW5vZGQiLCAibGluZUNhcCI6ICJyb3VuZCIsICJsaW5lSm9pbiI6ICJyb3VuZCIsICJvcGFjaXR5IjogMS4wLCAicmFkaXVzIjogNSwgInN0cm9rZSI6IHRydWUsICJ3ZWlnaHQiOiAzfQogICAgICAgICAgICApLmFkZFRvKG1hcF80MjM0OGRiOTdkNDE0ZWE4YTRmNzdkMzE1ZGQ0NWMwMCk7CiAgICAgICAgCiAgICAKICAgICAgICB2YXIgcG9wdXBfNGZiMmZkYjNmYTBkNDRjZTkyOWZmN2M1ZTY2YTNkNzcgPSBMLnBvcHVwKHsibWF4V2lkdGgiOiAiMTAwJSJ9KTsKCiAgICAgICAgCiAgICAgICAgICAgIHZhciBodG1sXzJhY2U4OWZhN2QzYTRkMzE4ODJhZDAwZjUyZmZiYjE5ID0gJChgPGRpdiBpZD0iaHRtbF8yYWNlODlmYTdkM2E0ZDMxODgyYWQwMGY1MmZmYmIxOSIgc3R5bGU9IndpZHRoOiAxMDAuMCU7IGhlaWdodDogMTAwLjAlOyI+U3QuIEphbWVzIFRvd24sIENhYmJhZ2V0b3duLCBEb3dudG93biBUb3JvbnRvPC9kaXY+YClbMF07CiAgICAgICAgICAgIHBvcHVwXzRmYjJmZGIzZmEwZDQ0Y2U5MjlmZjdjNWU2NmEzZDc3LnNldENvbnRlbnQoaHRtbF8yYWNlODlmYTdkM2E0ZDMxODgyYWQwMGY1MmZmYmIxOSk7CiAgICAgICAgCgogICAgICAgIGNpcmNsZV9tYXJrZXJfMjkyZDE1NDAyZjk5NGI2NDkyMmFjNjBkZjUyOTFlNjcuYmluZFBvcHVwKHBvcHVwXzRmYjJmZGIzZmEwZDQ0Y2U5MjlmZjdjNWU2NmEzZDc3KQogICAgICAgIDsKCiAgICAgICAgCiAgICAKICAgIAogICAgICAgICAgICB2YXIgY2lyY2xlX21hcmtlcl80YzQ3ZjZkZjM4YjY0Nzc3OWE2NmU1MThhMWQwMzU1MyA9IEwuY2lyY2xlTWFya2VyKAogICAgICAgICAgICAgICAgWzQzLjY2NTg1OTksIC03OS4zODMxNTk5MDAwMDAwMV0sCiAgICAgICAgICAgICAgICB7ImJ1YmJsaW5nTW91c2VFdmVudHMiOiB0cnVlLCAiY29sb3IiOiAiYmx1ZSIsICJkYXNoQXJyYXkiOiBudWxsLCAiZGFzaE9mZnNldCI6IG51bGwsICJmaWxsIjogdHJ1ZSwgImZpbGxDb2xvciI6ICIjMzE4NmNjIiwgImZpbGxPcGFjaXR5IjogMC43LCAiZmlsbFJ1bGUiOiAiZXZlbm9kZCIsICJsaW5lQ2FwIjogInJvdW5kIiwgImxpbmVKb2luIjogInJvdW5kIiwgIm9wYWNpdHkiOiAxLjAsICJyYWRpdXMiOiA1LCAic3Ryb2tlIjogdHJ1ZSwgIndlaWdodCI6IDN9CiAgICAgICAgICAgICkuYWRkVG8obWFwXzQyMzQ4ZGI5N2Q0MTRlYThhNGY3N2QzMTVkZDQ1YzAwKTsKICAgICAgICAKICAgIAogICAgICAgIHZhciBwb3B1cF8wNmI2OGUzNzU1MzU0MWQ1ODRkNTM4NmRlODAxMWI3ZiA9IEwucG9wdXAoeyJtYXhXaWR0aCI6ICIxMDAlIn0pOwoKICAgICAgICAKICAgICAgICAgICAgdmFyIGh0bWxfYWQzZTYyMjllOTI0NGVhMGEzYjFjNjM2ZjBmZDU3YmEgPSAkKGA8ZGl2IGlkPSJodG1sX2FkM2U2MjI5ZTkyNDRlYTBhM2IxYzYzNmYwZmQ1N2JhIiBzdHlsZT0id2lkdGg6IDEwMC4wJTsgaGVpZ2h0OiAxMDAuMCU7Ij5DaHVyY2ggYW5kIFdlbGxlc2xleSwgRG93bnRvd24gVG9yb250bzwvZGl2PmApWzBdOwogICAgICAgICAgICBwb3B1cF8wNmI2OGUzNzU1MzU0MWQ1ODRkNTM4NmRlODAxMWI3Zi5zZXRDb250ZW50KGh0bWxfYWQzZTYyMjllOTI0NGVhMGEzYjFjNjM2ZjBmZDU3YmEpOwogICAgICAgIAoKICAgICAgICBjaXJjbGVfbWFya2VyXzRjNDdmNmRmMzhiNjQ3Nzc5YTY2ZTUxOGExZDAzNTUzLmJpbmRQb3B1cChwb3B1cF8wNmI2OGUzNzU1MzU0MWQ1ODRkNTM4NmRlODAxMWI3ZikKICAgICAgICA7CgogICAgICAgIAogICAgCiAgICAKICAgICAgICAgICAgdmFyIGNpcmNsZV9tYXJrZXJfMDg1ZWU4ZjcyYjczNGFiZDkyMGZkMzQ0ODc5ZmU0MjIgPSBMLmNpcmNsZU1hcmtlcigKICAgICAgICAgICAgICAgIFs0My42NTQyNTk5LCAtNzkuMzYwNjM1OV0sCiAgICAgICAgICAgICAgICB7ImJ1YmJsaW5nTW91c2VFdmVudHMiOiB0cnVlLCAiY29sb3IiOiAiYmx1ZSIsICJkYXNoQXJyYXkiOiBudWxsLCAiZGFzaE9mZnNldCI6IG51bGwsICJmaWxsIjogdHJ1ZSwgImZpbGxDb2xvciI6ICIjMzE4NmNjIiwgImZpbGxPcGFjaXR5IjogMC43LCAiZmlsbFJ1bGUiOiAiZXZlbm9kZCIsICJsaW5lQ2FwIjogInJvdW5kIiwgImxpbmVKb2luIjogInJvdW5kIiwgIm9wYWNpdHkiOiAxLjAsICJyYWRpdXMiOiA1LCAic3Ryb2tlIjogdHJ1ZSwgIndlaWdodCI6IDN9CiAgICAgICAgICAgICkuYWRkVG8obWFwXzQyMzQ4ZGI5N2Q0MTRlYThhNGY3N2QzMTVkZDQ1YzAwKTsKICAgICAgICAKICAgIAogICAgICAgIHZhciBwb3B1cF8zYzNhMWFlMmU5OTE0NzIzOWVlM2JlMWMyNDcwMmRjNyA9IEwucG9wdXAoeyJtYXhXaWR0aCI6ICIxMDAlIn0pOwoKICAgICAgICAKICAgICAgICAgICAgdmFyIGh0bWxfMmYwNjdlZGU4OGNhNGJiYWEzNmIzOGQ1ZDAxYzdkZDYgPSAkKGA8ZGl2IGlkPSJodG1sXzJmMDY3ZWRlODhjYTRiYmFhMzZiMzhkNWQwMWM3ZGQ2IiBzdHlsZT0id2lkdGg6IDEwMC4wJTsgaGVpZ2h0OiAxMDAuMCU7Ij5SZWdlbnQgUGFyaywgSGFyYm91cmZyb250LCBEb3dudG93biBUb3JvbnRvPC9kaXY+YClbMF07CiAgICAgICAgICAgIHBvcHVwXzNjM2ExYWUyZTk5MTQ3MjM5ZWUzYmUxYzI0NzAyZGM3LnNldENvbnRlbnQoaHRtbF8yZjA2N2VkZTg4Y2E0YmJhYTM2YjM4ZDVkMDFjN2RkNik7CiAgICAgICAgCgogICAgICAgIGNpcmNsZV9tYXJrZXJfMDg1ZWU4ZjcyYjczNGFiZDkyMGZkMzQ0ODc5ZmU0MjIuYmluZFBvcHVwKHBvcHVwXzNjM2ExYWUyZTk5MTQ3MjM5ZWUzYmUxYzI0NzAyZGM3KQogICAgICAgIDsKCiAgICAgICAgCiAgICAKICAgIAogICAgICAgICAgICB2YXIgY2lyY2xlX21hcmtlcl9jZWIwZTY2NTc5MmE0ODQ1YjU3MDQwOWNmNzlhNjdhYSA9IEwuY2lyY2xlTWFya2VyKAogICAgICAgICAgICAgICAgWzQzLjY1NzE2MTgsIC03OS4zNzg5MzcwOTk5OTk5OV0sCiAgICAgICAgICAgICAgICB7ImJ1YmJsaW5nTW91c2VFdmVudHMiOiB0cnVlLCAiY29sb3IiOiAiYmx1ZSIsICJkYXNoQXJyYXkiOiBudWxsLCAiZGFzaE9mZnNldCI6IG51bGwsICJmaWxsIjogdHJ1ZSwgImZpbGxDb2xvciI6ICIjMzE4NmNjIiwgImZpbGxPcGFjaXR5IjogMC43LCAiZmlsbFJ1bGUiOiAiZXZlbm9kZCIsICJsaW5lQ2FwIjogInJvdW5kIiwgImxpbmVKb2luIjogInJvdW5kIiwgIm9wYWNpdHkiOiAxLjAsICJyYWRpdXMiOiA1LCAic3Ryb2tlIjogdHJ1ZSwgIndlaWdodCI6IDN9CiAgICAgICAgICAgICkuYWRkVG8obWFwXzQyMzQ4ZGI5N2Q0MTRlYThhNGY3N2QzMTVkZDQ1YzAwKTsKICAgICAgICAKICAgIAogICAgICAgIHZhciBwb3B1cF9kM2QwZGQ5N2NjZTA0NDI0YjhiOGY1Yjc0ZTdlZmIyNiA9IEwucG9wdXAoeyJtYXhXaWR0aCI6ICIxMDAlIn0pOwoKICAgICAgICAKICAgICAgICAgICAgdmFyIGh0bWxfZjBkNjZjN2NmMjg4NGU1Yjk0ZGJlM2E5YzdmNWRkM2UgPSAkKGA8ZGl2IGlkPSJodG1sX2YwZDY2YzdjZjI4ODRlNWI5NGRiZTNhOWM3ZjVkZDNlIiBzdHlsZT0id2lkdGg6IDEwMC4wJTsgaGVpZ2h0OiAxMDAuMCU7Ij5HYXJkZW4gRGlzdHJpY3QsIFJ5ZXJzb24sIERvd250b3duIFRvcm9udG88L2Rpdj5gKVswXTsKICAgICAgICAgICAgcG9wdXBfZDNkMGRkOTdjY2UwNDQyNGI4YjhmNWI3NGU3ZWZiMjYuc2V0Q29udGVudChodG1sX2YwZDY2YzdjZjI4ODRlNWI5NGRiZTNhOWM3ZjVkZDNlKTsKICAgICAgICAKCiAgICAgICAgY2lyY2xlX21hcmtlcl9jZWIwZTY2NTc5MmE0ODQ1YjU3MDQwOWNmNzlhNjdhYS5iaW5kUG9wdXAocG9wdXBfZDNkMGRkOTdjY2UwNDQyNGI4YjhmNWI3NGU3ZWZiMjYpCiAgICAgICAgOwoKICAgICAgICAKICAgIAogICAgCiAgICAgICAgICAgIHZhciBjaXJjbGVfbWFya2VyX2Q3MThkOGI4ODlmYjQ3NTFiNDg0MzJlODE1Zjg0YjMxID0gTC5jaXJjbGVNYXJrZXIoCiAgICAgICAgICAgICAgICBbNDMuNjUxNDkzOSwgLTc5LjM3NTQxNzldLAogICAgICAgICAgICAgICAgeyJidWJibGluZ01vdXNlRXZlbnRzIjogdHJ1ZSwgImNvbG9yIjogImJsdWUiLCAiZGFzaEFycmF5IjogbnVsbCwgImRhc2hPZmZzZXQiOiBudWxsLCAiZmlsbCI6IHRydWUsICJmaWxsQ29sb3IiOiAiIzMxODZjYyIsICJmaWxsT3BhY2l0eSI6IDAuNywgImZpbGxSdWxlIjogImV2ZW5vZGQiLCAibGluZUNhcCI6ICJyb3VuZCIsICJsaW5lSm9pbiI6ICJyb3VuZCIsICJvcGFjaXR5IjogMS4wLCAicmFkaXVzIjogNSwgInN0cm9rZSI6IHRydWUsICJ3ZWlnaHQiOiAzfQogICAgICAgICAgICApLmFkZFRvKG1hcF80MjM0OGRiOTdkNDE0ZWE4YTRmNzdkMzE1ZGQ0NWMwMCk7CiAgICAgICAgCiAgICAKICAgICAgICB2YXIgcG9wdXBfMjkwNDZhMjFhMzRiNGJiNjg1ZTdhNjZlNjE2NTg0ZWIgPSBMLnBvcHVwKHsibWF4V2lkdGgiOiAiMTAwJSJ9KTsKCiAgICAgICAgCiAgICAgICAgICAgIHZhciBodG1sX2YwOGZkOTY1ODgxOTQyZjFhMTk3OGYwYjVmMDY1MWVjID0gJChgPGRpdiBpZD0iaHRtbF9mMDhmZDk2NTg4MTk0MmYxYTE5NzhmMGI1ZjA2NTFlYyIgc3R5bGU9IndpZHRoOiAxMDAuMCU7IGhlaWdodDogMTAwLjAlOyI+U3QuIEphbWVzIFRvd24sIERvd250b3duIFRvcm9udG88L2Rpdj5gKVswXTsKICAgICAgICAgICAgcG9wdXBfMjkwNDZhMjFhMzRiNGJiNjg1ZTdhNjZlNjE2NTg0ZWIuc2V0Q29udGVudChodG1sX2YwOGZkOTY1ODgxOTQyZjFhMTk3OGYwYjVmMDY1MWVjKTsKICAgICAgICAKCiAgICAgICAgY2lyY2xlX21hcmtlcl9kNzE4ZDhiODg5ZmI0NzUxYjQ4NDMyZTgxNWY4NGIzMS5iaW5kUG9wdXAocG9wdXBfMjkwNDZhMjFhMzRiNGJiNjg1ZTdhNjZlNjE2NTg0ZWIpCiAgICAgICAgOwoKICAgICAgICAKICAgIAogICAgCiAgICAgICAgICAgIHZhciBjaXJjbGVfbWFya2VyX2M4NGMzMzA3ZmU1NDQ1YjRhZWU0YjliZDRiNmJmNTg5ID0gTC5jaXJjbGVNYXJrZXIoCiAgICAgICAgICAgICAgICBbNDMuNjQ0NzcwNzk5OTk5OTk2LCAtNzkuMzczMzA2NF0sCiAgICAgICAgICAgICAgICB7ImJ1YmJsaW5nTW91c2VFdmVudHMiOiB0cnVlLCAiY29sb3IiOiAiYmx1ZSIsICJkYXNoQXJyYXkiOiBudWxsLCAiZGFzaE9mZnNldCI6IG51bGwsICJmaWxsIjogdHJ1ZSwgImZpbGxDb2xvciI6ICIjMzE4NmNjIiwgImZpbGxPcGFjaXR5IjogMC43LCAiZmlsbFJ1bGUiOiAiZXZlbm9kZCIsICJsaW5lQ2FwIjogInJvdW5kIiwgImxpbmVKb2luIjogInJvdW5kIiwgIm9wYWNpdHkiOiAxLjAsICJyYWRpdXMiOiA1LCAic3Ryb2tlIjogdHJ1ZSwgIndlaWdodCI6IDN9CiAgICAgICAgICAgICkuYWRkVG8obWFwXzQyMzQ4ZGI5N2Q0MTRlYThhNGY3N2QzMTVkZDQ1YzAwKTsKICAgICAgICAKICAgIAogICAgICAgIHZhciBwb3B1cF9lNjJmOWM0ZjJkYjA0NjU4OTY2MThmN2JmY2E3MWQ2MCA9IEwucG9wdXAoeyJtYXhXaWR0aCI6ICIxMDAlIn0pOwoKICAgICAgICAKICAgICAgICAgICAgdmFyIGh0bWxfMWI4YzI0ZTIzMjJmNDQ2NTlhYzk0OTNlMWY4YzQ3MjcgPSAkKGA8ZGl2IGlkPSJodG1sXzFiOGMyNGUyMzIyZjQ0NjU5YWM5NDkzZTFmOGM0NzI3IiBzdHlsZT0id2lkdGg6IDEwMC4wJTsgaGVpZ2h0OiAxMDAuMCU7Ij5CZXJjenkgUGFyaywgRG93bnRvd24gVG9yb250bzwvZGl2PmApWzBdOwogICAgICAgICAgICBwb3B1cF9lNjJmOWM0ZjJkYjA0NjU4OTY2MThmN2JmY2E3MWQ2MC5zZXRDb250ZW50KGh0bWxfMWI4YzI0ZTIzMjJmNDQ2NTlhYzk0OTNlMWY4YzQ3MjcpOwogICAgICAgIAoKICAgICAgICBjaXJjbGVfbWFya2VyX2M4NGMzMzA3ZmU1NDQ1YjRhZWU0YjliZDRiNmJmNTg5LmJpbmRQb3B1cChwb3B1cF9lNjJmOWM0ZjJkYjA0NjU4OTY2MThmN2JmY2E3MWQ2MCkKICAgICAgICA7CgogICAgICAgIAogICAgCiAgICAKICAgICAgICAgICAgdmFyIGNpcmNsZV9tYXJrZXJfMWM3OWI5MTBkODZjNDY3YWFjM2RkZDM1OWM5ZjZhMTkgPSBMLmNpcmNsZU1hcmtlcigKICAgICAgICAgICAgICAgIFs0My42NTc5NTI0LCAtNzkuMzg3MzgyNl0sCiAgICAgICAgICAgICAgICB7ImJ1YmJsaW5nTW91c2VFdmVudHMiOiB0cnVlLCAiY29sb3IiOiAiYmx1ZSIsICJkYXNoQXJyYXkiOiBudWxsLCAiZGFzaE9mZnNldCI6IG51bGwsICJmaWxsIjogdHJ1ZSwgImZpbGxDb2xvciI6ICIjMzE4NmNjIiwgImZpbGxPcGFjaXR5IjogMC43LCAiZmlsbFJ1bGUiOiAiZXZlbm9kZCIsICJsaW5lQ2FwIjogInJvdW5kIiwgImxpbmVKb2luIjogInJvdW5kIiwgIm9wYWNpdHkiOiAxLjAsICJyYWRpdXMiOiA1LCAic3Ryb2tlIjogdHJ1ZSwgIndlaWdodCI6IDN9CiAgICAgICAgICAgICkuYWRkVG8obWFwXzQyMzQ4ZGI5N2Q0MTRlYThhNGY3N2QzMTVkZDQ1YzAwKTsKICAgICAgICAKICAgIAogICAgICAgIHZhciBwb3B1cF9kYzI5NDFmNTk1NjY0MTg5OWZhNTdhOTAxMTNhNzc5ZSA9IEwucG9wdXAoeyJtYXhXaWR0aCI6ICIxMDAlIn0pOwoKICAgICAgICAKICAgICAgICAgICAgdmFyIGh0bWxfMTE3NTM5ODBkNTk4NGVmMjg2YmIxNDhiNTliMmRjZjAgPSAkKGA8ZGl2IGlkPSJodG1sXzExNzUzOTgwZDU5ODRlZjI4NmJiMTQ4YjU5YjJkY2YwIiBzdHlsZT0id2lkdGg6IDEwMC4wJTsgaGVpZ2h0OiAxMDAuMCU7Ij5DZW50cmFsIEJheSBTdHJlZXQsIERvd250b3duIFRvcm9udG88L2Rpdj5gKVswXTsKICAgICAgICAgICAgcG9wdXBfZGMyOTQxZjU5NTY2NDE4OTlmYTU3YTkwMTEzYTc3OWUuc2V0Q29udGVudChodG1sXzExNzUzOTgwZDU5ODRlZjI4NmJiMTQ4YjU5YjJkY2YwKTsKICAgICAgICAKCiAgICAgICAgY2lyY2xlX21hcmtlcl8xYzc5YjkxMGQ4NmM0NjdhYWMzZGRkMzU5YzlmNmExOS5iaW5kUG9wdXAocG9wdXBfZGMyOTQxZjU5NTY2NDE4OTlmYTU3YTkwMTEzYTc3OWUpCiAgICAgICAgOwoKICAgICAgICAKICAgIAogICAgCiAgICAgICAgICAgIHZhciBjaXJjbGVfbWFya2VyXzc0NzA5ZGRjNzcyMzQ3YWQ5YWNmOWFiN2JmOTA0Y2EwID0gTC5jaXJjbGVNYXJrZXIoCiAgICAgICAgICAgICAgICBbNDMuNjUwNTcxMjAwMDAwMDEsIC03OS4zODQ1Njc1XSwKICAgICAgICAgICAgICAgIHsiYnViYmxpbmdNb3VzZUV2ZW50cyI6IHRydWUsICJjb2xvciI6ICJibHVlIiwgImRhc2hBcnJheSI6IG51bGwsICJkYXNoT2Zmc2V0IjogbnVsbCwgImZpbGwiOiB0cnVlLCAiZmlsbENvbG9yIjogIiMzMTg2Y2MiLCAiZmlsbE9wYWNpdHkiOiAwLjcsICJmaWxsUnVsZSI6ICJldmVub2RkIiwgImxpbmVDYXAiOiAicm91bmQiLCAibGluZUpvaW4iOiAicm91bmQiLCAib3BhY2l0eSI6IDEuMCwgInJhZGl1cyI6IDUsICJzdHJva2UiOiB0cnVlLCAid2VpZ2h0IjogM30KICAgICAgICAgICAgKS5hZGRUbyhtYXBfNDIzNDhkYjk3ZDQxNGVhOGE0Zjc3ZDMxNWRkNDVjMDApOwogICAgICAgIAogICAgCiAgICAgICAgdmFyIHBvcHVwX2UyNWI1NmE4Mzc0YTRhNzc5M2NlZTAwNDkzMzBlMDcwID0gTC5wb3B1cCh7Im1heFdpZHRoIjogIjEwMCUifSk7CgogICAgICAgIAogICAgICAgICAgICB2YXIgaHRtbF9lZDU1ODEyZjgwNjc0NTU2YjU5ODNhZDk5ZjMyNzM4NyA9ICQoYDxkaXYgaWQ9Imh0bWxfZWQ1NTgxMmY4MDY3NDU1NmI1OTgzYWQ5OWYzMjczODciIHN0eWxlPSJ3aWR0aDogMTAwLjAlOyBoZWlnaHQ6IDEwMC4wJTsiPlJpY2htb25kLCBBZGVsYWlkZSwgS2luZywgRG93bnRvd24gVG9yb250bzwvZGl2PmApWzBdOwogICAgICAgICAgICBwb3B1cF9lMjViNTZhODM3NGE0YTc3OTNjZWUwMDQ5MzMwZTA3MC5zZXRDb250ZW50KGh0bWxfZWQ1NTgxMmY4MDY3NDU1NmI1OTgzYWQ5OWYzMjczODcpOwogICAgICAgIAoKICAgICAgICBjaXJjbGVfbWFya2VyXzc0NzA5ZGRjNzcyMzQ3YWQ5YWNmOWFiN2JmOTA0Y2EwLmJpbmRQb3B1cChwb3B1cF9lMjViNTZhODM3NGE0YTc3OTNjZWUwMDQ5MzMwZTA3MCkKICAgICAgICA7CgogICAgICAgIAogICAgCiAgICAKICAgICAgICAgICAgdmFyIGNpcmNsZV9tYXJrZXJfYTNlZTJkNjlmNDBjNGE1MmEyNzc5NTgwMjhhYjRmZDYgPSBMLmNpcmNsZU1hcmtlcigKICAgICAgICAgICAgICAgIFs0My42NDA4MTU3LCAtNzkuMzgxNzUyMjk5OTk5OTldLAogICAgICAgICAgICAgICAgeyJidWJibGluZ01vdXNlRXZlbnRzIjogdHJ1ZSwgImNvbG9yIjogImJsdWUiLCAiZGFzaEFycmF5IjogbnVsbCwgImRhc2hPZmZzZXQiOiBudWxsLCAiZmlsbCI6IHRydWUsICJmaWxsQ29sb3IiOiAiIzMxODZjYyIsICJmaWxsT3BhY2l0eSI6IDAuNywgImZpbGxSdWxlIjogImV2ZW5vZGQiLCAibGluZUNhcCI6ICJyb3VuZCIsICJsaW5lSm9pbiI6ICJyb3VuZCIsICJvcGFjaXR5IjogMS4wLCAicmFkaXVzIjogNSwgInN0cm9rZSI6IHRydWUsICJ3ZWlnaHQiOiAzfQogICAgICAgICAgICApLmFkZFRvKG1hcF80MjM0OGRiOTdkNDE0ZWE4YTRmNzdkMzE1ZGQ0NWMwMCk7CiAgICAgICAgCiAgICAKICAgICAgICB2YXIgcG9wdXBfMzZiNDY5NzVhODNhNGJiNGIyNDQ1MDY4M2Y5YjVmNjIgPSBMLnBvcHVwKHsibWF4V2lkdGgiOiAiMTAwJSJ9KTsKCiAgICAgICAgCiAgICAgICAgICAgIHZhciBodG1sXzcwMjc0NjBkZjBiZTQ2M2NiNTYxNDNjMjQ5ZTI4Y2ZkID0gJChgPGRpdiBpZD0iaHRtbF83MDI3NDYwZGYwYmU0NjNjYjU2MTQzYzI0OWUyOGNmZCIgc3R5bGU9IndpZHRoOiAxMDAuMCU7IGhlaWdodDogMTAwLjAlOyI+SGFyYm91cmZyb250IEVhc3QsIFVuaW9uIFN0YXRpb24sIFRvcm9udG8gSXNsYW5kcywgRG93bnRvd24gVG9yb250bzwvZGl2PmApWzBdOwogICAgICAgICAgICBwb3B1cF8zNmI0Njk3NWE4M2E0YmI0YjI0NDUwNjgzZjliNWY2Mi5zZXRDb250ZW50KGh0bWxfNzAyNzQ2MGRmMGJlNDYzY2I1NjE0M2MyNDllMjhjZmQpOwogICAgICAgIAoKICAgICAgICBjaXJjbGVfbWFya2VyX2EzZWUyZDY5ZjQwYzRhNTJhMjc3OTU4MDI4YWI0ZmQ2LmJpbmRQb3B1cChwb3B1cF8zNmI0Njk3NWE4M2E0YmI0YjI0NDUwNjgzZjliNWY2MikKICAgICAgICA7CgogICAgICAgIAogICAgCiAgICAKICAgICAgICAgICAgdmFyIGNpcmNsZV9tYXJrZXJfYzRkM2FhZTA4YjliNGE5MWEyODUwYzNhYzMzODRlM2EgPSBMLmNpcmNsZU1hcmtlcigKICAgICAgICAgICAgICAgIFs0My42NDcxNzY4LCAtNzkuMzgxNTc2NDAwMDAwMDFdLAogICAgICAgICAgICAgICAgeyJidWJibGluZ01vdXNlRXZlbnRzIjogdHJ1ZSwgImNvbG9yIjogImJsdWUiLCAiZGFzaEFycmF5IjogbnVsbCwgImRhc2hPZmZzZXQiOiBudWxsLCAiZmlsbCI6IHRydWUsICJmaWxsQ29sb3IiOiAiIzMxODZjYyIsICJmaWxsT3BhY2l0eSI6IDAuNywgImZpbGxSdWxlIjogImV2ZW5vZGQiLCAibGluZUNhcCI6ICJyb3VuZCIsICJsaW5lSm9pbiI6ICJyb3VuZCIsICJvcGFjaXR5IjogMS4wLCAicmFkaXVzIjogNSwgInN0cm9rZSI6IHRydWUsICJ3ZWlnaHQiOiAzfQogICAgICAgICAgICApLmFkZFRvKG1hcF80MjM0OGRiOTdkNDE0ZWE4YTRmNzdkMzE1ZGQ0NWMwMCk7CiAgICAgICAgCiAgICAKICAgICAgICB2YXIgcG9wdXBfM2RjODQwODE4MWZjNDE4ODk0NzgyZmQ2ZjU3YmNjNGIgPSBMLnBvcHVwKHsibWF4V2lkdGgiOiAiMTAwJSJ9KTsKCiAgICAgICAgCiAgICAgICAgICAgIHZhciBodG1sX2JiYjdjZTMwOWE1YzQyODA4YTRhYTE2NTFiYjYwNzUxID0gJChgPGRpdiBpZD0iaHRtbF9iYmI3Y2UzMDlhNWM0MjgwOGE0YWExNjUxYmI2MDc1MSIgc3R5bGU9IndpZHRoOiAxMDAuMCU7IGhlaWdodDogMTAwLjAlOyI+VG9yb250byBEb21pbmlvbiBDZW50cmUsIERlc2lnbiBFeGNoYW5nZSwgRG93bnRvd24gVG9yb250bzwvZGl2PmApWzBdOwogICAgICAgICAgICBwb3B1cF8zZGM4NDA4MTgxZmM0MTg4OTQ3ODJmZDZmNTdiY2M0Yi5zZXRDb250ZW50KGh0bWxfYmJiN2NlMzA5YTVjNDI4MDhhNGFhMTY1MWJiNjA3NTEpOwogICAgICAgIAoKICAgICAgICBjaXJjbGVfbWFya2VyX2M0ZDNhYWUwOGI5YjRhOTFhMjg1MGMzYWMzMzg0ZTNhLmJpbmRQb3B1cChwb3B1cF8zZGM4NDA4MTgxZmM0MTg4OTQ3ODJmZDZmNTdiY2M0YikKICAgICAgICA7CgogICAgICAgIAogICAgCiAgICAKICAgICAgICAgICAgdmFyIGNpcmNsZV9tYXJrZXJfNDdlNGE3M2U0N2ZlNDEzMzkxN2Q1ODFlZjJkZDM2MTUgPSBMLmNpcmNsZU1hcmtlcigKICAgICAgICAgICAgICAgIFs0My42NDgxOTg1LCAtNzkuMzc5ODE2OTAwMDAwMDFdLAogICAgICAgICAgICAgICAgeyJidWJibGluZ01vdXNlRXZlbnRzIjogdHJ1ZSwgImNvbG9yIjogImJsdWUiLCAiZGFzaEFycmF5IjogbnVsbCwgImRhc2hPZmZzZXQiOiBudWxsLCAiZmlsbCI6IHRydWUsICJmaWxsQ29sb3IiOiAiIzMxODZjYyIsICJmaWxsT3BhY2l0eSI6IDAuNywgImZpbGxSdWxlIjogImV2ZW5vZGQiLCAibGluZUNhcCI6ICJyb3VuZCIsICJsaW5lSm9pbiI6ICJyb3VuZCIsICJvcGFjaXR5IjogMS4wLCAicmFkaXVzIjogNSwgInN0cm9rZSI6IHRydWUsICJ3ZWlnaHQiOiAzfQogICAgICAgICAgICApLmFkZFRvKG1hcF80MjM0OGRiOTdkNDE0ZWE4YTRmNzdkMzE1ZGQ0NWMwMCk7CiAgICAgICAgCiAgICAKICAgICAgICB2YXIgcG9wdXBfYmRjMTdmMjZkY2Y1NDk2YmI4MTg1YTc1MjAyZTQ1ODYgPSBMLnBvcHVwKHsibWF4V2lkdGgiOiAiMTAwJSJ9KTsKCiAgICAgICAgCiAgICAgICAgICAgIHZhciBodG1sX2VmOWRjZDU1MzAzMTQ5NTc5NjY3N2Y3ZjA4OTQxMTMxID0gJChgPGRpdiBpZD0iaHRtbF9lZjlkY2Q1NTMwMzE0OTU3OTY2NzdmN2YwODk0MTEzMSIgc3R5bGU9IndpZHRoOiAxMDAuMCU7IGhlaWdodDogMTAwLjAlOyI+Q29tbWVyY2UgQ291cnQsIFZpY3RvcmlhIEhvdGVsLCBEb3dudG93biBUb3JvbnRvPC9kaXY+YClbMF07CiAgICAgICAgICAgIHBvcHVwX2JkYzE3ZjI2ZGNmNTQ5NmJiODE4NWE3NTIwMmU0NTg2LnNldENvbnRlbnQoaHRtbF9lZjlkY2Q1NTMwMzE0OTU3OTY2NzdmN2YwODk0MTEzMSk7CiAgICAgICAgCgogICAgICAgIGNpcmNsZV9tYXJrZXJfNDdlNGE3M2U0N2ZlNDEzMzkxN2Q1ODFlZjJkZDM2MTUuYmluZFBvcHVwKHBvcHVwX2JkYzE3ZjI2ZGNmNTQ5NmJiODE4NWE3NTIwMmU0NTg2KQogICAgICAgIDsKCiAgICAgICAgCiAgICAKICAgIAogICAgICAgICAgICB2YXIgY2lyY2xlX21hcmtlcl83YWE5MTM1MGVkMDM0NmJhOTFkNjY4NWMwMzdkNzAwMCA9IEwuY2lyY2xlTWFya2VyKAogICAgICAgICAgICAgICAgWzQzLjczMzI4MjUsIC03OS40MTk3NDk3XSwKICAgICAgICAgICAgICAgIHsiYnViYmxpbmdNb3VzZUV2ZW50cyI6IHRydWUsICJjb2xvciI6ICJibHVlIiwgImRhc2hBcnJheSI6IG51bGwsICJkYXNoT2Zmc2V0IjogbnVsbCwgImZpbGwiOiB0cnVlLCAiZmlsbENvbG9yIjogIiMzMTg2Y2MiLCAiZmlsbE9wYWNpdHkiOiAwLjcsICJmaWxsUnVsZSI6ICJldmVub2RkIiwgImxpbmVDYXAiOiAicm91bmQiLCAibGluZUpvaW4iOiAicm91bmQiLCAib3BhY2l0eSI6IDEuMCwgInJhZGl1cyI6IDUsICJzdHJva2UiOiB0cnVlLCAid2VpZ2h0IjogM30KICAgICAgICAgICAgKS5hZGRUbyhtYXBfNDIzNDhkYjk3ZDQxNGVhOGE0Zjc3ZDMxNWRkNDVjMDApOwogICAgICAgIAogICAgCiAgICAgICAgdmFyIHBvcHVwXzBjZjc1YWZiYzUzZjQ4MWFhZjJmNTVjN2E1YWVlNDBlID0gTC5wb3B1cCh7Im1heFdpZHRoIjogIjEwMCUifSk7CgogICAgICAgIAogICAgICAgICAgICB2YXIgaHRtbF85OTdhMzM0MGFkZWE0Y2I5ODY5ZWJjYjVkMTFjODg4NyA9ICQoYDxkaXYgaWQ9Imh0bWxfOTk3YTMzNDBhZGVhNGNiOTg2OWViY2I1ZDExYzg4ODciIHN0eWxlPSJ3aWR0aDogMTAwLjAlOyBoZWlnaHQ6IDEwMC4wJTsiPkJlZGZvcmQgUGFyaywgTGF3cmVuY2UgTWFub3IgRWFzdCwgTm9ydGggWW9yazwvZGl2PmApWzBdOwogICAgICAgICAgICBwb3B1cF8wY2Y3NWFmYmM1M2Y0ODFhYWYyZjU1YzdhNWFlZTQwZS5zZXRDb250ZW50KGh0bWxfOTk3YTMzNDBhZGVhNGNiOTg2OWViY2I1ZDExYzg4ODcpOwogICAgICAgIAoKICAgICAgICBjaXJjbGVfbWFya2VyXzdhYTkxMzUwZWQwMzQ2YmE5MWQ2Njg1YzAzN2Q3MDAwLmJpbmRQb3B1cChwb3B1cF8wY2Y3NWFmYmM1M2Y0ODFhYWYyZjU1YzdhNWFlZTQwZSkKICAgICAgICA7CgogICAgICAgIAogICAgCiAgICAKICAgICAgICAgICAgdmFyIGNpcmNsZV9tYXJrZXJfMTk1MDdjM2QwODg0NGY2Mjk1Mjg4YzQ2MjdmNmFlYmQgPSBMLmNpcmNsZU1hcmtlcigKICAgICAgICAgICAgICAgIFs0My43MTE2OTQ4LCAtNzkuNDE2OTM1NTk5OTk5OTldLAogICAgICAgICAgICAgICAgeyJidWJibGluZ01vdXNlRXZlbnRzIjogdHJ1ZSwgImNvbG9yIjogImJsdWUiLCAiZGFzaEFycmF5IjogbnVsbCwgImRhc2hPZmZzZXQiOiBudWxsLCAiZmlsbCI6IHRydWUsICJmaWxsQ29sb3IiOiAiIzMxODZjYyIsICJmaWxsT3BhY2l0eSI6IDAuNywgImZpbGxSdWxlIjogImV2ZW5vZGQiLCAibGluZUNhcCI6ICJyb3VuZCIsICJsaW5lSm9pbiI6ICJyb3VuZCIsICJvcGFjaXR5IjogMS4wLCAicmFkaXVzIjogNSwgInN0cm9rZSI6IHRydWUsICJ3ZWlnaHQiOiAzfQogICAgICAgICAgICApLmFkZFRvKG1hcF80MjM0OGRiOTdkNDE0ZWE4YTRmNzdkMzE1ZGQ0NWMwMCk7CiAgICAgICAgCiAgICAKICAgICAgICB2YXIgcG9wdXBfMWI0N2Q1ZTBmNDE3NDY3ZTg5NTFkZTY2MDg5MTUxMjkgPSBMLnBvcHVwKHsibWF4V2lkdGgiOiAiMTAwJSJ9KTsKCiAgICAgICAgCiAgICAgICAgICAgIHZhciBodG1sXzNmODk2NGFiYWEzZjRkZThiZjdhNTM3MjgwYjA5Njk0ID0gJChgPGRpdiBpZD0iaHRtbF8zZjg5NjRhYmFhM2Y0ZGU4YmY3YTUzNzI4MGIwOTY5NCIgc3R5bGU9IndpZHRoOiAxMDAuMCU7IGhlaWdodDogMTAwLjAlOyI+Um9zZWxhd24sIENlbnRyYWwgVG9yb250bzwvZGl2PmApWzBdOwogICAgICAgICAgICBwb3B1cF8xYjQ3ZDVlMGY0MTc0NjdlODk1MWRlNjYwODkxNTEyOS5zZXRDb250ZW50KGh0bWxfM2Y4OTY0YWJhYTNmNGRlOGJmN2E1MzcyODBiMDk2OTQpOwogICAgICAgIAoKICAgICAgICBjaXJjbGVfbWFya2VyXzE5NTA3YzNkMDg4NDRmNjI5NTI4OGM0NjI3ZjZhZWJkLmJpbmRQb3B1cChwb3B1cF8xYjQ3ZDVlMGY0MTc0NjdlODk1MWRlNjYwODkxNTEyOSkKICAgICAgICA7CgogICAgICAgIAogICAgCiAgICAKICAgICAgICAgICAgdmFyIGNpcmNsZV9tYXJrZXJfNDZhZjRhNWE2ODk0NGNhMzg5ODMxOGFiMmRjNTIxOTYgPSBMLmNpcmNsZU1hcmtlcigKICAgICAgICAgICAgICAgIFs0My42OTY5NDc2LCAtNzkuNDExMzA3MjAwMDAwMDFdLAogICAgICAgICAgICAgICAgeyJidWJibGluZ01vdXNlRXZlbnRzIjogdHJ1ZSwgImNvbG9yIjogImJsdWUiLCAiZGFzaEFycmF5IjogbnVsbCwgImRhc2hPZmZzZXQiOiBudWxsLCAiZmlsbCI6IHRydWUsICJmaWxsQ29sb3IiOiAiIzMxODZjYyIsICJmaWxsT3BhY2l0eSI6IDAuNywgImZpbGxSdWxlIjogImV2ZW5vZGQiLCAibGluZUNhcCI6ICJyb3VuZCIsICJsaW5lSm9pbiI6ICJyb3VuZCIsICJvcGFjaXR5IjogMS4wLCAicmFkaXVzIjogNSwgInN0cm9rZSI6IHRydWUsICJ3ZWlnaHQiOiAzfQogICAgICAgICAgICApLmFkZFRvKG1hcF80MjM0OGRiOTdkNDE0ZWE4YTRmNzdkMzE1ZGQ0NWMwMCk7CiAgICAgICAgCiAgICAKICAgICAgICB2YXIgcG9wdXBfZGE1ZmNiNDBhYzI5NDBjMmFhMTQ3M2Q0ZGZjODQxMWIgPSBMLnBvcHVwKHsibWF4V2lkdGgiOiAiMTAwJSJ9KTsKCiAgICAgICAgCiAgICAgICAgICAgIHZhciBodG1sXzY1N2YwMjVhMGQxZDQwZGE4MDQwYjNjNGFjZjQ0ZTQ1ID0gJChgPGRpdiBpZD0iaHRtbF82NTdmMDI1YTBkMWQ0MGRhODA0MGIzYzRhY2Y0NGU0NSIgc3R5bGU9IndpZHRoOiAxMDAuMCU7IGhlaWdodDogMTAwLjAlOyI+Rm9yZXN0IEhpbGwgTm9ydGggJmFtcDsgV2VzdCwgRm9yZXN0IEhpbGwgUm9hZCBQYXJrLCBDZW50cmFsIFRvcm9udG88L2Rpdj5gKVswXTsKICAgICAgICAgICAgcG9wdXBfZGE1ZmNiNDBhYzI5NDBjMmFhMTQ3M2Q0ZGZjODQxMWIuc2V0Q29udGVudChodG1sXzY1N2YwMjVhMGQxZDQwZGE4MDQwYjNjNGFjZjQ0ZTQ1KTsKICAgICAgICAKCiAgICAgICAgY2lyY2xlX21hcmtlcl80NmFmNGE1YTY4OTQ0Y2EzODk4MzE4YWIyZGM1MjE5Ni5iaW5kUG9wdXAocG9wdXBfZGE1ZmNiNDBhYzI5NDBjMmFhMTQ3M2Q0ZGZjODQxMWIpCiAgICAgICAgOwoKICAgICAgICAKICAgIAogICAgCiAgICAgICAgICAgIHZhciBjaXJjbGVfbWFya2VyXzdiMGU4ODU4NGE1NTQ3OTg4Zjg2YjIzNDY1YWUzNWY4ID0gTC5jaXJjbGVNYXJrZXIoCiAgICAgICAgICAgICAgICBbNDMuNjcyNzA5NywgLTc5LjQwNTY3ODQwMDAwMDAxXSwKICAgICAgICAgICAgICAgIHsiYnViYmxpbmdNb3VzZUV2ZW50cyI6IHRydWUsICJjb2xvciI6ICJibHVlIiwgImRhc2hBcnJheSI6IG51bGwsICJkYXNoT2Zmc2V0IjogbnVsbCwgImZpbGwiOiB0cnVlLCAiZmlsbENvbG9yIjogIiMzMTg2Y2MiLCAiZmlsbE9wYWNpdHkiOiAwLjcsICJmaWxsUnVsZSI6ICJldmVub2RkIiwgImxpbmVDYXAiOiAicm91bmQiLCAibGluZUpvaW4iOiAicm91bmQiLCAib3BhY2l0eSI6IDEuMCwgInJhZGl1cyI6IDUsICJzdHJva2UiOiB0cnVlLCAid2VpZ2h0IjogM30KICAgICAgICAgICAgKS5hZGRUbyhtYXBfNDIzNDhkYjk3ZDQxNGVhOGE0Zjc3ZDMxNWRkNDVjMDApOwogICAgICAgIAogICAgCiAgICAgICAgdmFyIHBvcHVwX2Y3NDVkYWJlZmVhZTQ0Y2M4Y2IwMzJhYWIzMTQzOTg3ID0gTC5wb3B1cCh7Im1heFdpZHRoIjogIjEwMCUifSk7CgogICAgICAgIAogICAgICAgICAgICB2YXIgaHRtbF9jZjY5N2RmOTBhM2M0YWFjYTUxMzgxMzBkZWQ2NjJmNiA9ICQoYDxkaXYgaWQ9Imh0bWxfY2Y2OTdkZjkwYTNjNGFhY2E1MTM4MTMwZGVkNjYyZjYiIHN0eWxlPSJ3aWR0aDogMTAwLjAlOyBoZWlnaHQ6IDEwMC4wJTsiPlRoZSBBbm5leCwgTm9ydGggTWlkdG93biwgWW9ya3ZpbGxlLCBDZW50cmFsIFRvcm9udG88L2Rpdj5gKVswXTsKICAgICAgICAgICAgcG9wdXBfZjc0NWRhYmVmZWFlNDRjYzhjYjAzMmFhYjMxNDM5ODcuc2V0Q29udGVudChodG1sX2NmNjk3ZGY5MGEzYzRhYWNhNTEzODEzMGRlZDY2MmY2KTsKICAgICAgICAKCiAgICAgICAgY2lyY2xlX21hcmtlcl83YjBlODg1ODRhNTU0Nzk4OGY4NmIyMzQ2NWFlMzVmOC5iaW5kUG9wdXAocG9wdXBfZjc0NWRhYmVmZWFlNDRjYzhjYjAzMmFhYjMxNDM5ODcpCiAgICAgICAgOwoKICAgICAgICAKICAgIAogICAgCiAgICAgICAgICAgIHZhciBjaXJjbGVfbWFya2VyXzQyMWQ4ZTliOWE5YTRkYjhiOWY0Yjk1YTAzNjg0ZDVkID0gTC5jaXJjbGVNYXJrZXIoCiAgICAgICAgICAgICAgICBbNDMuNjYyNjk1NiwgLTc5LjQwMDA0OTNdLAogICAgICAgICAgICAgICAgeyJidWJibGluZ01vdXNlRXZlbnRzIjogdHJ1ZSwgImNvbG9yIjogImJsdWUiLCAiZGFzaEFycmF5IjogbnVsbCwgImRhc2hPZmZzZXQiOiBudWxsLCAiZmlsbCI6IHRydWUsICJmaWxsQ29sb3IiOiAiIzMxODZjYyIsICJmaWxsT3BhY2l0eSI6IDAuNywgImZpbGxSdWxlIjogImV2ZW5vZGQiLCAibGluZUNhcCI6ICJyb3VuZCIsICJsaW5lSm9pbiI6ICJyb3VuZCIsICJvcGFjaXR5IjogMS4wLCAicmFkaXVzIjogNSwgInN0cm9rZSI6IHRydWUsICJ3ZWlnaHQiOiAzfQogICAgICAgICAgICApLmFkZFRvKG1hcF80MjM0OGRiOTdkNDE0ZWE4YTRmNzdkMzE1ZGQ0NWMwMCk7CiAgICAgICAgCiAgICAKICAgICAgICB2YXIgcG9wdXBfMjJjYjVhZTFmOTY0NDE4MmEzYTQ0YTNiM2IxMzVmMDkgPSBMLnBvcHVwKHsibWF4V2lkdGgiOiAiMTAwJSJ9KTsKCiAgICAgICAgCiAgICAgICAgICAgIHZhciBodG1sXzY3OWI0YTBjZTU4ZjRjMjU4NzQzMWFkMmE1MjRhMmZkID0gJChgPGRpdiBpZD0iaHRtbF82NzliNGEwY2U1OGY0YzI1ODc0MzFhZDJhNTI0YTJmZCIgc3R5bGU9IndpZHRoOiAxMDAuMCU7IGhlaWdodDogMTAwLjAlOyI+VW5pdmVyc2l0eSBvZiBUb3JvbnRvLCBIYXJib3JkLCBEb3dudG93biBUb3JvbnRvPC9kaXY+YClbMF07CiAgICAgICAgICAgIHBvcHVwXzIyY2I1YWUxZjk2NDQxODJhM2E0NGEzYjNiMTM1ZjA5LnNldENvbnRlbnQoaHRtbF82NzliNGEwY2U1OGY0YzI1ODc0MzFhZDJhNTI0YTJmZCk7CiAgICAgICAgCgogICAgICAgIGNpcmNsZV9tYXJrZXJfNDIxZDhlOWI5YTlhNGRiOGI5ZjRiOTVhMDM2ODRkNWQuYmluZFBvcHVwKHBvcHVwXzIyY2I1YWUxZjk2NDQxODJhM2E0NGEzYjNiMTM1ZjA5KQogICAgICAgIDsKCiAgICAgICAgCiAgICAKICAgIAogICAgICAgICAgICB2YXIgY2lyY2xlX21hcmtlcl9jN2M0YWRlOGE2NmU0MjJjYWJiN2VjMjEyYjk1ZTIzNiA9IEwuY2lyY2xlTWFya2VyKAogICAgICAgICAgICAgICAgWzQzLjY1MzIwNTcsIC03OS40MDAwNDkzXSwKICAgICAgICAgICAgICAgIHsiYnViYmxpbmdNb3VzZUV2ZW50cyI6IHRydWUsICJjb2xvciI6ICJibHVlIiwgImRhc2hBcnJheSI6IG51bGwsICJkYXNoT2Zmc2V0IjogbnVsbCwgImZpbGwiOiB0cnVlLCAiZmlsbENvbG9yIjogIiMzMTg2Y2MiLCAiZmlsbE9wYWNpdHkiOiAwLjcsICJmaWxsUnVsZSI6ICJldmVub2RkIiwgImxpbmVDYXAiOiAicm91bmQiLCAibGluZUpvaW4iOiAicm91bmQiLCAib3BhY2l0eSI6IDEuMCwgInJhZGl1cyI6IDUsICJzdHJva2UiOiB0cnVlLCAid2VpZ2h0IjogM30KICAgICAgICAgICAgKS5hZGRUbyhtYXBfNDIzNDhkYjk3ZDQxNGVhOGE0Zjc3ZDMxNWRkNDVjMDApOwogICAgICAgIAogICAgCiAgICAgICAgdmFyIHBvcHVwX2IzNjk3ODEyMTE1NTQ1ZWFiZmIzOTgyMWUyMjJlYzg0ID0gTC5wb3B1cCh7Im1heFdpZHRoIjogIjEwMCUifSk7CgogICAgICAgIAogICAgICAgICAgICB2YXIgaHRtbF80ZDkyNTUxMjdkZjI0ZWZiOWZhY2I3Mjk0OWNlMWZlYSA9ICQoYDxkaXYgaWQ9Imh0bWxfNGQ5MjU1MTI3ZGYyNGVmYjlmYWNiNzI5NDljZTFmZWEiIHN0eWxlPSJ3aWR0aDogMTAwLjAlOyBoZWlnaHQ6IDEwMC4wJTsiPktlbnNpbmd0b24gTWFya2V0LCBDaGluYXRvd24sIEdyYW5nZSBQYXJrLCBEb3dudG93biBUb3JvbnRvPC9kaXY+YClbMF07CiAgICAgICAgICAgIHBvcHVwX2IzNjk3ODEyMTE1NTQ1ZWFiZmIzOTgyMWUyMjJlYzg0LnNldENvbnRlbnQoaHRtbF80ZDkyNTUxMjdkZjI0ZWZiOWZhY2I3Mjk0OWNlMWZlYSk7CiAgICAgICAgCgogICAgICAgIGNpcmNsZV9tYXJrZXJfYzdjNGFkZThhNjZlNDIyY2FiYjdlYzIxMmI5NWUyMzYuYmluZFBvcHVwKHBvcHVwX2IzNjk3ODEyMTE1NTQ1ZWFiZmIzOTgyMWUyMjJlYzg0KQogICAgICAgIDsKCiAgICAgICAgCiAgICAKICAgIAogICAgICAgICAgICB2YXIgY2lyY2xlX21hcmtlcl9lZWU4NWViZDE1MGQ0MWI0Yjc4NjNhYTU1YjgzN2ZiYSA9IEwuY2lyY2xlTWFya2VyKAogICAgICAgICAgICAgICAgWzQzLjYyODk0NjcsIC03OS4zOTQ0MTk5XSwKICAgICAgICAgICAgICAgIHsiYnViYmxpbmdNb3VzZUV2ZW50cyI6IHRydWUsICJjb2xvciI6ICJibHVlIiwgImRhc2hBcnJheSI6IG51bGwsICJkYXNoT2Zmc2V0IjogbnVsbCwgImZpbGwiOiB0cnVlLCAiZmlsbENvbG9yIjogIiMzMTg2Y2MiLCAiZmlsbE9wYWNpdHkiOiAwLjcsICJmaWxsUnVsZSI6ICJldmVub2RkIiwgImxpbmVDYXAiOiAicm91bmQiLCAibGluZUpvaW4iOiAicm91bmQiLCAib3BhY2l0eSI6IDEuMCwgInJhZGl1cyI6IDUsICJzdHJva2UiOiB0cnVlLCAid2VpZ2h0IjogM30KICAgICAgICAgICAgKS5hZGRUbyhtYXBfNDIzNDhkYjk3ZDQxNGVhOGE0Zjc3ZDMxNWRkNDVjMDApOwogICAgICAgIAogICAgCiAgICAgICAgdmFyIHBvcHVwXzMxYWI4NDFlMzI1NTQ3M2JiNTNmYWJlY2VjZWRiZDUwID0gTC5wb3B1cCh7Im1heFdpZHRoIjogIjEwMCUifSk7CgogICAgICAgIAogICAgICAgICAgICB2YXIgaHRtbF9mN2JkOTkwYWE3ZDY0MTdiYjE2MmQ3MjNiNTYxNTBkMiA9ICQoYDxkaXYgaWQ9Imh0bWxfZjdiZDk5MGFhN2Q2NDE3YmIxNjJkNzIzYjU2MTUwZDIiIHN0eWxlPSJ3aWR0aDogMTAwLjAlOyBoZWlnaHQ6IDEwMC4wJTsiPkNOIFRvd2VyLCBLaW5nIGFuZCBTcGFkaW5hLCBSYWlsd2F5IExhbmRzLCBIYXJib3VyZnJvbnQgV2VzdCwgQmF0aHVyc3QgUXVheSwgU291dGggTmlhZ2FyYSwgSXNsYW5kIGFpcnBvcnQsIERvd250b3duIFRvcm9udG88L2Rpdj5gKVswXTsKICAgICAgICAgICAgcG9wdXBfMzFhYjg0MWUzMjU1NDczYmI1M2ZhYmVjZWNlZGJkNTAuc2V0Q29udGVudChodG1sX2Y3YmQ5OTBhYTdkNjQxN2JiMTYyZDcyM2I1NjE1MGQyKTsKICAgICAgICAKCiAgICAgICAgY2lyY2xlX21hcmtlcl9lZWU4NWViZDE1MGQ0MWI0Yjc4NjNhYTU1YjgzN2ZiYS5iaW5kUG9wdXAocG9wdXBfMzFhYjg0MWUzMjU1NDczYmI1M2ZhYmVjZWNlZGJkNTApCiAgICAgICAgOwoKICAgICAgICAKICAgIAogICAgCiAgICAgICAgICAgIHZhciBjaXJjbGVfbWFya2VyX2RiN2IxY2MwZjRiNzRjMzNiZTA2NzRmNGRmOTA5NWE4ID0gTC5jaXJjbGVNYXJrZXIoCiAgICAgICAgICAgICAgICBbNDMuNjQ2NDM1MiwgLTc5LjM3NDg0NTk5OTk5OTk5XSwKICAgICAgICAgICAgICAgIHsiYnViYmxpbmdNb3VzZUV2ZW50cyI6IHRydWUsICJjb2xvciI6ICJibHVlIiwgImRhc2hBcnJheSI6IG51bGwsICJkYXNoT2Zmc2V0IjogbnVsbCwgImZpbGwiOiB0cnVlLCAiZmlsbENvbG9yIjogIiMzMTg2Y2MiLCAiZmlsbE9wYWNpdHkiOiAwLjcsICJmaWxsUnVsZSI6ICJldmVub2RkIiwgImxpbmVDYXAiOiAicm91bmQiLCAibGluZUpvaW4iOiAicm91bmQiLCAib3BhY2l0eSI6IDEuMCwgInJhZGl1cyI6IDUsICJzdHJva2UiOiB0cnVlLCAid2VpZ2h0IjogM30KICAgICAgICAgICAgKS5hZGRUbyhtYXBfNDIzNDhkYjk3ZDQxNGVhOGE0Zjc3ZDMxNWRkNDVjMDApOwogICAgICAgIAogICAgCiAgICAgICAgdmFyIHBvcHVwX2ZmN2UzNDNiNjI5ZTQwZTE4YjI0NGYyZTVmMTJiYWU3ID0gTC5wb3B1cCh7Im1heFdpZHRoIjogIjEwMCUifSk7CgogICAgICAgIAogICAgICAgICAgICB2YXIgaHRtbF84OWU5MTZiYWNhMGM0NTlmOTUzMDVkNzYzODIyZTFjMSA9ICQoYDxkaXYgaWQ9Imh0bWxfODllOTE2YmFjYTBjNDU5Zjk1MzA1ZDc2MzgyMmUxYzEiIHN0eWxlPSJ3aWR0aDogMTAwLjAlOyBoZWlnaHQ6IDEwMC4wJTsiPlN0biBBIFBPIEJveGVzLCBEb3dudG93biBUb3JvbnRvPC9kaXY+YClbMF07CiAgICAgICAgICAgIHBvcHVwX2ZmN2UzNDNiNjI5ZTQwZTE4YjI0NGYyZTVmMTJiYWU3LnNldENvbnRlbnQoaHRtbF84OWU5MTZiYWNhMGM0NTlmOTUzMDVkNzYzODIyZTFjMSk7CiAgICAgICAgCgogICAgICAgIGNpcmNsZV9tYXJrZXJfZGI3YjFjYzBmNGI3NGMzM2JlMDY3NGY0ZGY5MDk1YTguYmluZFBvcHVwKHBvcHVwX2ZmN2UzNDNiNjI5ZTQwZTE4YjI0NGYyZTVmMTJiYWU3KQogICAgICAgIDsKCiAgICAgICAgCiAgICAKICAgIAogICAgICAgICAgICB2YXIgY2lyY2xlX21hcmtlcl84MmQzOTdiZWQ4YTM0Njc0YjUyZDI0MmU1NDdhYzM1NyA9IEwuY2lyY2xlTWFya2VyKAogICAgICAgICAgICAgICAgWzQzLjY0ODQyOTIsIC03OS4zODIyODAyXSwKICAgICAgICAgICAgICAgIHsiYnViYmxpbmdNb3VzZUV2ZW50cyI6IHRydWUsICJjb2xvciI6ICJibHVlIiwgImRhc2hBcnJheSI6IG51bGwsICJkYXNoT2Zmc2V0IjogbnVsbCwgImZpbGwiOiB0cnVlLCAiZmlsbENvbG9yIjogIiMzMTg2Y2MiLCAiZmlsbE9wYWNpdHkiOiAwLjcsICJmaWxsUnVsZSI6ICJldmVub2RkIiwgImxpbmVDYXAiOiAicm91bmQiLCAibGluZUpvaW4iOiAicm91bmQiLCAib3BhY2l0eSI6IDEuMCwgInJhZGl1cyI6IDUsICJzdHJva2UiOiB0cnVlLCAid2VpZ2h0IjogM30KICAgICAgICAgICAgKS5hZGRUbyhtYXBfNDIzNDhkYjk3ZDQxNGVhOGE0Zjc3ZDMxNWRkNDVjMDApOwogICAgICAgIAogICAgCiAgICAgICAgdmFyIHBvcHVwXzE2ZjAwMGYwYmM4YTQxNmJhODM3NTg5NzBmZTc0NDRhID0gTC5wb3B1cCh7Im1heFdpZHRoIjogIjEwMCUifSk7CgogICAgICAgIAogICAgICAgICAgICB2YXIgaHRtbF83YTdlOGI2ZmM2MTk0NjI2YmU4N2IxYzdhZTY0OTE3NSA9ICQoYDxkaXYgaWQ9Imh0bWxfN2E3ZThiNmZjNjE5NDYyNmJlODdiMWM3YWU2NDkxNzUiIHN0eWxlPSJ3aWR0aDogMTAwLjAlOyBoZWlnaHQ6IDEwMC4wJTsiPkZpcnN0IENhbmFkaWFuIFBsYWNlLCBVbmRlcmdyb3VuZCBjaXR5LCBEb3dudG93biBUb3JvbnRvPC9kaXY+YClbMF07CiAgICAgICAgICAgIHBvcHVwXzE2ZjAwMGYwYmM4YTQxNmJhODM3NTg5NzBmZTc0NDRhLnNldENvbnRlbnQoaHRtbF83YTdlOGI2ZmM2MTk0NjI2YmU4N2IxYzdhZTY0OTE3NSk7CiAgICAgICAgCgogICAgICAgIGNpcmNsZV9tYXJrZXJfODJkMzk3YmVkOGEzNDY3NGI1MmQyNDJlNTQ3YWMzNTcuYmluZFBvcHVwKHBvcHVwXzE2ZjAwMGYwYmM4YTQxNmJhODM3NTg5NzBmZTc0NDRhKQogICAgICAgIDsKCiAgICAgICAgCiAgICAKICAgIAogICAgICAgICAgICB2YXIgY2lyY2xlX21hcmtlcl8wNTBiMTEyOTI3ZjE0NDM2YjEwNjNiZTc0ZmNkZjI3YyA9IEwuY2lyY2xlTWFya2VyKAogICAgICAgICAgICAgICAgWzQzLjcxODUxNzk5OTk5OTk5NiwgLTc5LjQ2NDc2MzI5OTk5OTk5XSwKICAgICAgICAgICAgICAgIHsiYnViYmxpbmdNb3VzZUV2ZW50cyI6IHRydWUsICJjb2xvciI6ICJibHVlIiwgImRhc2hBcnJheSI6IG51bGwsICJkYXNoT2Zmc2V0IjogbnVsbCwgImZpbGwiOiB0cnVlLCAiZmlsbENvbG9yIjogIiMzMTg2Y2MiLCAiZmlsbE9wYWNpdHkiOiAwLjcsICJmaWxsUnVsZSI6ICJldmVub2RkIiwgImxpbmVDYXAiOiAicm91bmQiLCAibGluZUpvaW4iOiAicm91bmQiLCAib3BhY2l0eSI6IDEuMCwgInJhZGl1cyI6IDUsICJzdHJva2UiOiB0cnVlLCAid2VpZ2h0IjogM30KICAgICAgICAgICAgKS5hZGRUbyhtYXBfNDIzNDhkYjk3ZDQxNGVhOGE0Zjc3ZDMxNWRkNDVjMDApOwogICAgICAgIAogICAgCiAgICAgICAgdmFyIHBvcHVwXzA5OTQ2OGJjZjAyYTQ5MmQ5YTBhNzk2Yjg0NGFiYjFjID0gTC5wb3B1cCh7Im1heFdpZHRoIjogIjEwMCUifSk7CgogICAgICAgIAogICAgICAgICAgICB2YXIgaHRtbF8zYWFmNTQ5MTExYzA0ZTIyOTIyZTVjMDc2NWM3ZDBmOSA9ICQoYDxkaXYgaWQ9Imh0bWxfM2FhZjU0OTExMWMwNGUyMjkyMmU1YzA3NjVjN2QwZjkiIHN0eWxlPSJ3aWR0aDogMTAwLjAlOyBoZWlnaHQ6IDEwMC4wJTsiPkxhd3JlbmNlIE1hbm9yLCBMYXdyZW5jZSBIZWlnaHRzLCBOb3J0aCBZb3JrPC9kaXY+YClbMF07CiAgICAgICAgICAgIHBvcHVwXzA5OTQ2OGJjZjAyYTQ5MmQ5YTBhNzk2Yjg0NGFiYjFjLnNldENvbnRlbnQoaHRtbF8zYWFmNTQ5MTExYzA0ZTIyOTIyZTVjMDc2NWM3ZDBmOSk7CiAgICAgICAgCgogICAgICAgIGNpcmNsZV9tYXJrZXJfMDUwYjExMjkyN2YxNDQzNmIxMDYzYmU3NGZjZGYyN2MuYmluZFBvcHVwKHBvcHVwXzA5OTQ2OGJjZjAyYTQ5MmQ5YTBhNzk2Yjg0NGFiYjFjKQogICAgICAgIDsKCiAgICAgICAgCiAgICAKICAgIAogICAgICAgICAgICB2YXIgY2lyY2xlX21hcmtlcl9lYzAxMGY0ZTk1ZGM0YzE2OGEzNzkzNmM2MWM4ODI4OCA9IEwuY2lyY2xlTWFya2VyKAogICAgICAgICAgICAgICAgWzQzLjcwOTU3NywgLTc5LjQ0NTA3MjU5OTk5OTk5XSwKICAgICAgICAgICAgICAgIHsiYnViYmxpbmdNb3VzZUV2ZW50cyI6IHRydWUsICJjb2xvciI6ICJibHVlIiwgImRhc2hBcnJheSI6IG51bGwsICJkYXNoT2Zmc2V0IjogbnVsbCwgImZpbGwiOiB0cnVlLCAiZmlsbENvbG9yIjogIiMzMTg2Y2MiLCAiZmlsbE9wYWNpdHkiOiAwLjcsICJmaWxsUnVsZSI6ICJldmVub2RkIiwgImxpbmVDYXAiOiAicm91bmQiLCAibGluZUpvaW4iOiAicm91bmQiLCAib3BhY2l0eSI6IDEuMCwgInJhZGl1cyI6IDUsICJzdHJva2UiOiB0cnVlLCAid2VpZ2h0IjogM30KICAgICAgICAgICAgKS5hZGRUbyhtYXBfNDIzNDhkYjk3ZDQxNGVhOGE0Zjc3ZDMxNWRkNDVjMDApOwogICAgICAgIAogICAgCiAgICAgICAgdmFyIHBvcHVwXzE1ZjQxOGE0YzY2YjQwZTM5MzNhNTAzY2M4ZWFhMzMyID0gTC5wb3B1cCh7Im1heFdpZHRoIjogIjEwMCUifSk7CgogICAgICAgIAogICAgICAgICAgICB2YXIgaHRtbF9hYjM3ZmQwYjlkOWI0ZGVkYTRmNDQzODdlMDU0YTJkYyA9ICQoYDxkaXYgaWQ9Imh0bWxfYWIzN2ZkMGI5ZDliNGRlZGE0ZjQ0Mzg3ZTA1NGEyZGMiIHN0eWxlPSJ3aWR0aDogMTAwLjAlOyBoZWlnaHQ6IDEwMC4wJTsiPkdsZW5jYWlybiwgTm9ydGggWW9yazwvZGl2PmApWzBdOwogICAgICAgICAgICBwb3B1cF8xNWY0MThhNGM2NmI0MGUzOTMzYTUwM2NjOGVhYTMzMi5zZXRDb250ZW50KGh0bWxfYWIzN2ZkMGI5ZDliNGRlZGE0ZjQ0Mzg3ZTA1NGEyZGMpOwogICAgICAgIAoKICAgICAgICBjaXJjbGVfbWFya2VyX2VjMDEwZjRlOTVkYzRjMTY4YTM3OTM2YzYxYzg4Mjg4LmJpbmRQb3B1cChwb3B1cF8xNWY0MThhNGM2NmI0MGUzOTMzYTUwM2NjOGVhYTMzMikKICAgICAgICA7CgogICAgICAgIAogICAgCiAgICAKICAgICAgICAgICAgdmFyIGNpcmNsZV9tYXJrZXJfZmQxMjcyMTQzZGFlNDdhOGI5MTBhNGY3ZjgyYjFlMTQgPSBMLmNpcmNsZU1hcmtlcigKICAgICAgICAgICAgICAgIFs0My42OTM3ODEzLCAtNzkuNDI4MTkxNDAwMDAwMDJdLAogICAgICAgICAgICAgICAgeyJidWJibGluZ01vdXNlRXZlbnRzIjogdHJ1ZSwgImNvbG9yIjogImJsdWUiLCAiZGFzaEFycmF5IjogbnVsbCwgImRhc2hPZmZzZXQiOiBudWxsLCAiZmlsbCI6IHRydWUsICJmaWxsQ29sb3IiOiAiIzMxODZjYyIsICJmaWxsT3BhY2l0eSI6IDAuNywgImZpbGxSdWxlIjogImV2ZW5vZGQiLCAibGluZUNhcCI6ICJyb3VuZCIsICJsaW5lSm9pbiI6ICJyb3VuZCIsICJvcGFjaXR5IjogMS4wLCAicmFkaXVzIjogNSwgInN0cm9rZSI6IHRydWUsICJ3ZWlnaHQiOiAzfQogICAgICAgICAgICApLmFkZFRvKG1hcF80MjM0OGRiOTdkNDE0ZWE4YTRmNzdkMzE1ZGQ0NWMwMCk7CiAgICAgICAgCiAgICAKICAgICAgICB2YXIgcG9wdXBfNDEzOTFlYWNjMjgxNGJiNmFlYjM2N2NmMjM2YWZkZGEgPSBMLnBvcHVwKHsibWF4V2lkdGgiOiAiMTAwJSJ9KTsKCiAgICAgICAgCiAgICAgICAgICAgIHZhciBodG1sX2ExMGUyZDJmMzdkODQwZTM4MzQ3YWFjNDAxYTc2YzgxID0gJChgPGRpdiBpZD0iaHRtbF9hMTBlMmQyZjM3ZDg0MGUzODM0N2FhYzQwMWE3NmM4MSIgc3R5bGU9IndpZHRoOiAxMDAuMCU7IGhlaWdodDogMTAwLjAlOyI+SHVtZXdvb2QtQ2VkYXJ2YWxlLCBZb3JrPC9kaXY+YClbMF07CiAgICAgICAgICAgIHBvcHVwXzQxMzkxZWFjYzI4MTRiYjZhZWIzNjdjZjIzNmFmZGRhLnNldENvbnRlbnQoaHRtbF9hMTBlMmQyZjM3ZDg0MGUzODM0N2FhYzQwMWE3NmM4MSk7CiAgICAgICAgCgogICAgICAgIGNpcmNsZV9tYXJrZXJfZmQxMjcyMTQzZGFlNDdhOGI5MTBhNGY3ZjgyYjFlMTQuYmluZFBvcHVwKHBvcHVwXzQxMzkxZWFjYzI4MTRiYjZhZWIzNjdjZjIzNmFmZGRhKQogICAgICAgIDsKCiAgICAgICAgCiAgICAKICAgIAogICAgICAgICAgICB2YXIgY2lyY2xlX21hcmtlcl9mMjNlMWM2NTgzNGE0ZjY4YWEzYjZjZGQwMWQzYzdhMiA9IEwuY2lyY2xlTWFya2VyKAogICAgICAgICAgICAgICAgWzQzLjY4OTAyNTYsIC03OS40NTM1MTJdLAogICAgICAgICAgICAgICAgeyJidWJibGluZ01vdXNlRXZlbnRzIjogdHJ1ZSwgImNvbG9yIjogImJsdWUiLCAiZGFzaEFycmF5IjogbnVsbCwgImRhc2hPZmZzZXQiOiBudWxsLCAiZmlsbCI6IHRydWUsICJmaWxsQ29sb3IiOiAiIzMxODZjYyIsICJmaWxsT3BhY2l0eSI6IDAuNywgImZpbGxSdWxlIjogImV2ZW5vZGQiLCAibGluZUNhcCI6ICJyb3VuZCIsICJsaW5lSm9pbiI6ICJyb3VuZCIsICJvcGFjaXR5IjogMS4wLCAicmFkaXVzIjogNSwgInN0cm9rZSI6IHRydWUsICJ3ZWlnaHQiOiAzfQogICAgICAgICAgICApLmFkZFRvKG1hcF80MjM0OGRiOTdkNDE0ZWE4YTRmNzdkMzE1ZGQ0NWMwMCk7CiAgICAgICAgCiAgICAKICAgICAgICB2YXIgcG9wdXBfOTFkM2UyODkyMjkzNDA2OWEzZTg1YTAzMTE3ZGIwMTYgPSBMLnBvcHVwKHsibWF4V2lkdGgiOiAiMTAwJSJ9KTsKCiAgICAgICAgCiAgICAgICAgICAgIHZhciBodG1sX2NiM2Y4ZWI5YmVlZjQ1MzY5OTJiY2Y0MGRmZTkzOTc5ID0gJChgPGRpdiBpZD0iaHRtbF9jYjNmOGViOWJlZWY0NTM2OTkyYmNmNDBkZmU5Mzk3OSIgc3R5bGU9IndpZHRoOiAxMDAuMCU7IGhlaWdodDogMTAwLjAlOyI+Q2FsZWRvbmlhLUZhaXJiYW5rcywgWW9yazwvZGl2PmApWzBdOwogICAgICAgICAgICBwb3B1cF85MWQzZTI4OTIyOTM0MDY5YTNlODVhMDMxMTdkYjAxNi5zZXRDb250ZW50KGh0bWxfY2IzZjhlYjliZWVmNDUzNjk5MmJjZjQwZGZlOTM5NzkpOwogICAgICAgIAoKICAgICAgICBjaXJjbGVfbWFya2VyX2YyM2UxYzY1ODM0YTRmNjhhYTNiNmNkZDAxZDNjN2EyLmJpbmRQb3B1cChwb3B1cF85MWQzZTI4OTIyOTM0MDY5YTNlODVhMDMxMTdkYjAxNikKICAgICAgICA7CgogICAgICAgIAogICAgCiAgICAKICAgICAgICAgICAgdmFyIGNpcmNsZV9tYXJrZXJfOGMxNTk1ZmZjOWQ0NDYzMDhlOWJkZjIxNmI4ZjRjYmQgPSBMLmNpcmNsZU1hcmtlcigKICAgICAgICAgICAgICAgIFs0My42Njk1NDIsIC03OS40MjI1NjM3XSwKICAgICAgICAgICAgICAgIHsiYnViYmxpbmdNb3VzZUV2ZW50cyI6IHRydWUsICJjb2xvciI6ICJibHVlIiwgImRhc2hBcnJheSI6IG51bGwsICJkYXNoT2Zmc2V0IjogbnVsbCwgImZpbGwiOiB0cnVlLCAiZmlsbENvbG9yIjogIiMzMTg2Y2MiLCAiZmlsbE9wYWNpdHkiOiAwLjcsICJmaWxsUnVsZSI6ICJldmVub2RkIiwgImxpbmVDYXAiOiAicm91bmQiLCAibGluZUpvaW4iOiAicm91bmQiLCAib3BhY2l0eSI6IDEuMCwgInJhZGl1cyI6IDUsICJzdHJva2UiOiB0cnVlLCAid2VpZ2h0IjogM30KICAgICAgICAgICAgKS5hZGRUbyhtYXBfNDIzNDhkYjk3ZDQxNGVhOGE0Zjc3ZDMxNWRkNDVjMDApOwogICAgICAgIAogICAgCiAgICAgICAgdmFyIHBvcHVwX2UxZDE0YzY5Y2MwNzRjNWU4YzI5ZjZhMTBhZWViZWJhID0gTC5wb3B1cCh7Im1heFdpZHRoIjogIjEwMCUifSk7CgogICAgICAgIAogICAgICAgICAgICB2YXIgaHRtbF8wZWFkM2I1NDgyYWU0YzBiODVkMzI5ZDI2YTkyMTc0NCA9ICQoYDxkaXYgaWQ9Imh0bWxfMGVhZDNiNTQ4MmFlNGMwYjg1ZDMyOWQyNmE5MjE3NDQiIHN0eWxlPSJ3aWR0aDogMTAwLjAlOyBoZWlnaHQ6IDEwMC4wJTsiPkNocmlzdGllLCBEb3dudG93biBUb3JvbnRvPC9kaXY+YClbMF07CiAgICAgICAgICAgIHBvcHVwX2UxZDE0YzY5Y2MwNzRjNWU4YzI5ZjZhMTBhZWViZWJhLnNldENvbnRlbnQoaHRtbF8wZWFkM2I1NDgyYWU0YzBiODVkMzI5ZDI2YTkyMTc0NCk7CiAgICAgICAgCgogICAgICAgIGNpcmNsZV9tYXJrZXJfOGMxNTk1ZmZjOWQ0NDYzMDhlOWJkZjIxNmI4ZjRjYmQuYmluZFBvcHVwKHBvcHVwX2UxZDE0YzY5Y2MwNzRjNWU4YzI5ZjZhMTBhZWViZWJhKQogICAgICAgIDsKCiAgICAgICAgCiAgICAKICAgIAogICAgICAgICAgICB2YXIgY2lyY2xlX21hcmtlcl80M2Q4MTQ2Y2JjMGI0MjI5OTY2ZWIyMTAyZWUzZTJlNyA9IEwuY2lyY2xlTWFya2VyKAogICAgICAgICAgICAgICAgWzQzLjY2OTAwNTEwMDAwMDAxLCAtNzkuNDQyMjU5M10sCiAgICAgICAgICAgICAgICB7ImJ1YmJsaW5nTW91c2VFdmVudHMiOiB0cnVlLCAiY29sb3IiOiAiYmx1ZSIsICJkYXNoQXJyYXkiOiBudWxsLCAiZGFzaE9mZnNldCI6IG51bGwsICJmaWxsIjogdHJ1ZSwgImZpbGxDb2xvciI6ICIjMzE4NmNjIiwgImZpbGxPcGFjaXR5IjogMC43LCAiZmlsbFJ1bGUiOiAiZXZlbm9kZCIsICJsaW5lQ2FwIjogInJvdW5kIiwgImxpbmVKb2luIjogInJvdW5kIiwgIm9wYWNpdHkiOiAxLjAsICJyYWRpdXMiOiA1LCAic3Ryb2tlIjogdHJ1ZSwgIndlaWdodCI6IDN9CiAgICAgICAgICAgICkuYWRkVG8obWFwXzQyMzQ4ZGI5N2Q0MTRlYThhNGY3N2QzMTVkZDQ1YzAwKTsKICAgICAgICAKICAgIAogICAgICAgIHZhciBwb3B1cF8xNGIxNDFjMzQ3ZGM0YWVkODllNWI0NzU1OTEyZDAxMyA9IEwucG9wdXAoeyJtYXhXaWR0aCI6ICIxMDAlIn0pOwoKICAgICAgICAKICAgICAgICAgICAgdmFyIGh0bWxfYjAzMGIyN2QyYmRmNDhmMDk1MTIwZmE2MzVkYjdjM2YgPSAkKGA8ZGl2IGlkPSJodG1sX2IwMzBiMjdkMmJkZjQ4ZjA5NTEyMGZhNjM1ZGI3YzNmIiBzdHlsZT0id2lkdGg6IDEwMC4wJTsgaGVpZ2h0OiAxMDAuMCU7Ij5EdWZmZXJpbiwgRG92ZXJjb3VydCBWaWxsYWdlLCBXZXN0IFRvcm9udG88L2Rpdj5gKVswXTsKICAgICAgICAgICAgcG9wdXBfMTRiMTQxYzM0N2RjNGFlZDg5ZTViNDc1NTkxMmQwMTMuc2V0Q29udGVudChodG1sX2IwMzBiMjdkMmJkZjQ4ZjA5NTEyMGZhNjM1ZGI3YzNmKTsKICAgICAgICAKCiAgICAgICAgY2lyY2xlX21hcmtlcl80M2Q4MTQ2Y2JjMGI0MjI5OTY2ZWIyMTAyZWUzZTJlNy5iaW5kUG9wdXAocG9wdXBfMTRiMTQxYzM0N2RjNGFlZDg5ZTViNDc1NTkxMmQwMTMpCiAgICAgICAgOwoKICAgICAgICAKICAgIAogICAgCiAgICAgICAgICAgIHZhciBjaXJjbGVfbWFya2VyXzUxYWU0MmFhNGYxMTQ1ODdiNmNkZDkwNzYxYjI2ZTI2ID0gTC5jaXJjbGVNYXJrZXIoCiAgICAgICAgICAgICAgICBbNDMuNjQ3OTI2NzAwMDAwMDA2LCAtNzkuNDE5NzQ5N10sCiAgICAgICAgICAgICAgICB7ImJ1YmJsaW5nTW91c2VFdmVudHMiOiB0cnVlLCAiY29sb3IiOiAiYmx1ZSIsICJkYXNoQXJyYXkiOiBudWxsLCAiZGFzaE9mZnNldCI6IG51bGwsICJmaWxsIjogdHJ1ZSwgImZpbGxDb2xvciI6ICIjMzE4NmNjIiwgImZpbGxPcGFjaXR5IjogMC43LCAiZmlsbFJ1bGUiOiAiZXZlbm9kZCIsICJsaW5lQ2FwIjogInJvdW5kIiwgImxpbmVKb2luIjogInJvdW5kIiwgIm9wYWNpdHkiOiAxLjAsICJyYWRpdXMiOiA1LCAic3Ryb2tlIjogdHJ1ZSwgIndlaWdodCI6IDN9CiAgICAgICAgICAgICkuYWRkVG8obWFwXzQyMzQ4ZGI5N2Q0MTRlYThhNGY3N2QzMTVkZDQ1YzAwKTsKICAgICAgICAKICAgIAogICAgICAgIHZhciBwb3B1cF81ZTExYzMyMjU1OTg0YzVkYTFhY2NmNWNhMDlhZGY1NCA9IEwucG9wdXAoeyJtYXhXaWR0aCI6ICIxMDAlIn0pOwoKICAgICAgICAKICAgICAgICAgICAgdmFyIGh0bWxfY2VjYjJlZThkOTc0NGEyYTllNDBlOWViZWNhZWZlMTcgPSAkKGA8ZGl2IGlkPSJodG1sX2NlY2IyZWU4ZDk3NDRhMmE5ZTQwZTllYmVjYWVmZTE3IiBzdHlsZT0id2lkdGg6IDEwMC4wJTsgaGVpZ2h0OiAxMDAuMCU7Ij5MaXR0bGUgUG9ydHVnYWwsIFRyaW5pdHksIFdlc3QgVG9yb250bzwvZGl2PmApWzBdOwogICAgICAgICAgICBwb3B1cF81ZTExYzMyMjU1OTg0YzVkYTFhY2NmNWNhMDlhZGY1NC5zZXRDb250ZW50KGh0bWxfY2VjYjJlZThkOTc0NGEyYTllNDBlOWViZWNhZWZlMTcpOwogICAgICAgIAoKICAgICAgICBjaXJjbGVfbWFya2VyXzUxYWU0MmFhNGYxMTQ1ODdiNmNkZDkwNzYxYjI2ZTI2LmJpbmRQb3B1cChwb3B1cF81ZTExYzMyMjU1OTg0YzVkYTFhY2NmNWNhMDlhZGY1NCkKICAgICAgICA7CgogICAgICAgIAogICAgCiAgICAKICAgICAgICAgICAgdmFyIGNpcmNsZV9tYXJrZXJfYjBiNGFhMTI0MTI2NGI1Y2IyMzQ2YjZhNmMyNWE4ZjEgPSBMLmNpcmNsZU1hcmtlcigKICAgICAgICAgICAgICAgIFs0My42MzY4NDcyLCAtNzkuNDI4MTkxNDAwMDAwMDJdLAogICAgICAgICAgICAgICAgeyJidWJibGluZ01vdXNlRXZlbnRzIjogdHJ1ZSwgImNvbG9yIjogImJsdWUiLCAiZGFzaEFycmF5IjogbnVsbCwgImRhc2hPZmZzZXQiOiBudWxsLCAiZmlsbCI6IHRydWUsICJmaWxsQ29sb3IiOiAiIzMxODZjYyIsICJmaWxsT3BhY2l0eSI6IDAuNywgImZpbGxSdWxlIjogImV2ZW5vZGQiLCAibGluZUNhcCI6ICJyb3VuZCIsICJsaW5lSm9pbiI6ICJyb3VuZCIsICJvcGFjaXR5IjogMS4wLCAicmFkaXVzIjogNSwgInN0cm9rZSI6IHRydWUsICJ3ZWlnaHQiOiAzfQogICAgICAgICAgICApLmFkZFRvKG1hcF80MjM0OGRiOTdkNDE0ZWE4YTRmNzdkMzE1ZGQ0NWMwMCk7CiAgICAgICAgCiAgICAKICAgICAgICB2YXIgcG9wdXBfOTU0ODI0ZTYwZjUxNGNmNmE3OWIyZTZkYTU5ZjkwNzcgPSBMLnBvcHVwKHsibWF4V2lkdGgiOiAiMTAwJSJ9KTsKCiAgICAgICAgCiAgICAgICAgICAgIHZhciBodG1sX2U4NGRmMWViODNhYTQxZTk4ZDk4MzAyZjUwYzllZTE4ID0gJChgPGRpdiBpZD0iaHRtbF9lODRkZjFlYjgzYWE0MWU5OGQ5ODMwMmY1MGM5ZWUxOCIgc3R5bGU9IndpZHRoOiAxMDAuMCU7IGhlaWdodDogMTAwLjAlOyI+QnJvY2t0b24sIFBhcmtkYWxlIFZpbGxhZ2UsIEV4aGliaXRpb24gUGxhY2UsIFdlc3QgVG9yb250bzwvZGl2PmApWzBdOwogICAgICAgICAgICBwb3B1cF85NTQ4MjRlNjBmNTE0Y2Y2YTc5YjJlNmRhNTlmOTA3Ny5zZXRDb250ZW50KGh0bWxfZTg0ZGYxZWI4M2FhNDFlOThkOTgzMDJmNTBjOWVlMTgpOwogICAgICAgIAoKICAgICAgICBjaXJjbGVfbWFya2VyX2IwYjRhYTEyNDEyNjRiNWNiMjM0NmI2YTZjMjVhOGYxLmJpbmRQb3B1cChwb3B1cF85NTQ4MjRlNjBmNTE0Y2Y2YTc5YjJlNmRhNTlmOTA3NykKICAgICAgICA7CgogICAgICAgIAogICAgCiAgICAKICAgICAgICAgICAgdmFyIGNpcmNsZV9tYXJrZXJfN2U0YzNlNmU1MjEwNDE1ZDkzYTJmNWFhZTI1OGE3ZjEgPSBMLmNpcmNsZU1hcmtlcigKICAgICAgICAgICAgICAgIFs0My43MTM3NTYyMDAwMDAwMDYsIC03OS40OTAwNzM4XSwKICAgICAgICAgICAgICAgIHsiYnViYmxpbmdNb3VzZUV2ZW50cyI6IHRydWUsICJjb2xvciI6ICJibHVlIiwgImRhc2hBcnJheSI6IG51bGwsICJkYXNoT2Zmc2V0IjogbnVsbCwgImZpbGwiOiB0cnVlLCAiZmlsbENvbG9yIjogIiMzMTg2Y2MiLCAiZmlsbE9wYWNpdHkiOiAwLjcsICJmaWxsUnVsZSI6ICJldmVub2RkIiwgImxpbmVDYXAiOiAicm91bmQiLCAibGluZUpvaW4iOiAicm91bmQiLCAib3BhY2l0eSI6IDEuMCwgInJhZGl1cyI6IDUsICJzdHJva2UiOiB0cnVlLCAid2VpZ2h0IjogM30KICAgICAgICAgICAgKS5hZGRUbyhtYXBfNDIzNDhkYjk3ZDQxNGVhOGE0Zjc3ZDMxNWRkNDVjMDApOwogICAgICAgIAogICAgCiAgICAgICAgdmFyIHBvcHVwXzA4ZDcxZWQ3MzFlNzQ1ZTA4ZDc1ODA4MDE3MjY5OTliID0gTC5wb3B1cCh7Im1heFdpZHRoIjogIjEwMCUifSk7CgogICAgICAgIAogICAgICAgICAgICB2YXIgaHRtbF85ZDg4NTAyNzUwZjM0ZmM4ODBlNTVhMTdlYWQzMDQ3MiA9ICQoYDxkaXYgaWQ9Imh0bWxfOWQ4ODUwMjc1MGYzNGZjODgwZTU1YTE3ZWFkMzA0NzIiIHN0eWxlPSJ3aWR0aDogMTAwLjAlOyBoZWlnaHQ6IDEwMC4wJTsiPk5vcnRoIFBhcmssIE1hcGxlIExlYWYgUGFyaywgVXB3b29kIFBhcmssIE5vcnRoIFlvcms8L2Rpdj5gKVswXTsKICAgICAgICAgICAgcG9wdXBfMDhkNzFlZDczMWU3NDVlMDhkNzU4MDgwMTcyNjk5OWIuc2V0Q29udGVudChodG1sXzlkODg1MDI3NTBmMzRmYzg4MGU1NWExN2VhZDMwNDcyKTsKICAgICAgICAKCiAgICAgICAgY2lyY2xlX21hcmtlcl83ZTRjM2U2ZTUyMTA0MTVkOTNhMmY1YWFlMjU4YTdmMS5iaW5kUG9wdXAocG9wdXBfMDhkNzFlZDczMWU3NDVlMDhkNzU4MDgwMTcyNjk5OWIpCiAgICAgICAgOwoKICAgICAgICAKICAgIAogICAgCiAgICAgICAgICAgIHZhciBjaXJjbGVfbWFya2VyXzI2NGZhOTkyOTI0NjQ4ZWE5YzNmNDJmOTAyZGJhN2E1ID0gTC5jaXJjbGVNYXJrZXIoCiAgICAgICAgICAgICAgICBbNDMuNjkxMTE1OCwgLTc5LjQ3NjAxMzI5OTk5OTk5XSwKICAgICAgICAgICAgICAgIHsiYnViYmxpbmdNb3VzZUV2ZW50cyI6IHRydWUsICJjb2xvciI6ICJibHVlIiwgImRhc2hBcnJheSI6IG51bGwsICJkYXNoT2Zmc2V0IjogbnVsbCwgImZpbGwiOiB0cnVlLCAiZmlsbENvbG9yIjogIiMzMTg2Y2MiLCAiZmlsbE9wYWNpdHkiOiAwLjcsICJmaWxsUnVsZSI6ICJldmVub2RkIiwgImxpbmVDYXAiOiAicm91bmQiLCAibGluZUpvaW4iOiAicm91bmQiLCAib3BhY2l0eSI6IDEuMCwgInJhZGl1cyI6IDUsICJzdHJva2UiOiB0cnVlLCAid2VpZ2h0IjogM30KICAgICAgICAgICAgKS5hZGRUbyhtYXBfNDIzNDhkYjk3ZDQxNGVhOGE0Zjc3ZDMxNWRkNDVjMDApOwogICAgICAgIAogICAgCiAgICAgICAgdmFyIHBvcHVwXzZkM2UzZmNmY2FiMjQxYmZhMWZhODkxYmY5MTMxMTVjID0gTC5wb3B1cCh7Im1heFdpZHRoIjogIjEwMCUifSk7CgogICAgICAgIAogICAgICAgICAgICB2YXIgaHRtbF84YThhNjBmZWNmYzk0MzFlOGY2ZDI5NWIzNDg2MjM5MiA9ICQoYDxkaXYgaWQ9Imh0bWxfOGE4YTYwZmVjZmM5NDMxZThmNmQyOTViMzQ4NjIzOTIiIHN0eWxlPSJ3aWR0aDogMTAwLjAlOyBoZWlnaHQ6IDEwMC4wJTsiPkRlbCBSYXksIE1vdW50IERlbm5pcywgS2VlbHNkYWxlIGFuZCBTaWx2ZXJ0aG9ybiwgWW9yazwvZGl2PmApWzBdOwogICAgICAgICAgICBwb3B1cF82ZDNlM2ZjZmNhYjI0MWJmYTFmYTg5MWJmOTEzMTE1Yy5zZXRDb250ZW50KGh0bWxfOGE4YTYwZmVjZmM5NDMxZThmNmQyOTViMzQ4NjIzOTIpOwogICAgICAgIAoKICAgICAgICBjaXJjbGVfbWFya2VyXzI2NGZhOTkyOTI0NjQ4ZWE5YzNmNDJmOTAyZGJhN2E1LmJpbmRQb3B1cChwb3B1cF82ZDNlM2ZjZmNhYjI0MWJmYTFmYTg5MWJmOTEzMTE1YykKICAgICAgICA7CgogICAgICAgIAogICAgCiAgICAKICAgICAgICAgICAgdmFyIGNpcmNsZV9tYXJrZXJfZWNlMDdhOWYwMzlkNDY4Nzk4OGZiYTEwYzBmZjBlZjggPSBMLmNpcmNsZU1hcmtlcigKICAgICAgICAgICAgICAgIFs0My42NzMxODUyOTk5OTk5OSwgLTc5LjQ4NzI2MTkwMDAwMDAxXSwKICAgICAgICAgICAgICAgIHsiYnViYmxpbmdNb3VzZUV2ZW50cyI6IHRydWUsICJjb2xvciI6ICJibHVlIiwgImRhc2hBcnJheSI6IG51bGwsICJkYXNoT2Zmc2V0IjogbnVsbCwgImZpbGwiOiB0cnVlLCAiZmlsbENvbG9yIjogIiMzMTg2Y2MiLCAiZmlsbE9wYWNpdHkiOiAwLjcsICJmaWxsUnVsZSI6ICJldmVub2RkIiwgImxpbmVDYXAiOiAicm91bmQiLCAibGluZUpvaW4iOiAicm91bmQiLCAib3BhY2l0eSI6IDEuMCwgInJhZGl1cyI6IDUsICJzdHJva2UiOiB0cnVlLCAid2VpZ2h0IjogM30KICAgICAgICAgICAgKS5hZGRUbyhtYXBfNDIzNDhkYjk3ZDQxNGVhOGE0Zjc3ZDMxNWRkNDVjMDApOwogICAgICAgIAogICAgCiAgICAgICAgdmFyIHBvcHVwXzBhMDI1YWNiZjM1MzQ3ZDQ5MmVlMmVlMmFjYzZhYzZhID0gTC5wb3B1cCh7Im1heFdpZHRoIjogIjEwMCUifSk7CgogICAgICAgIAogICAgICAgICAgICB2YXIgaHRtbF84YjZiZGYyOTIwY2U0ODhjYjQ0M2VhYWYyNTJlNzMwOCA9ICQoYDxkaXYgaWQ9Imh0bWxfOGI2YmRmMjkyMGNlNDg4Y2I0NDNlYWFmMjUyZTczMDgiIHN0eWxlPSJ3aWR0aDogMTAwLjAlOyBoZWlnaHQ6IDEwMC4wJTsiPlJ1bm55bWVkZSwgVGhlIEp1bmN0aW9uIE5vcnRoLCBZb3JrPC9kaXY+YClbMF07CiAgICAgICAgICAgIHBvcHVwXzBhMDI1YWNiZjM1MzQ3ZDQ5MmVlMmVlMmFjYzZhYzZhLnNldENvbnRlbnQoaHRtbF84YjZiZGYyOTIwY2U0ODhjYjQ0M2VhYWYyNTJlNzMwOCk7CiAgICAgICAgCgogICAgICAgIGNpcmNsZV9tYXJrZXJfZWNlMDdhOWYwMzlkNDY4Nzk4OGZiYTEwYzBmZjBlZjguYmluZFBvcHVwKHBvcHVwXzBhMDI1YWNiZjM1MzQ3ZDQ5MmVlMmVlMmFjYzZhYzZhKQogICAgICAgIDsKCiAgICAgICAgCiAgICAKICAgIAogICAgICAgICAgICB2YXIgY2lyY2xlX21hcmtlcl9lZGI5ZGNiMTE1Y2M0MzUzYmYzMTFkMTEwZThhZGNhOCA9IEwuY2lyY2xlTWFya2VyKAogICAgICAgICAgICAgICAgWzQzLjY2MTYwODMsIC03OS40NjQ3NjMyOTk5OTk5OV0sCiAgICAgICAgICAgICAgICB7ImJ1YmJsaW5nTW91c2VFdmVudHMiOiB0cnVlLCAiY29sb3IiOiAiYmx1ZSIsICJkYXNoQXJyYXkiOiBudWxsLCAiZGFzaE9mZnNldCI6IG51bGwsICJmaWxsIjogdHJ1ZSwgImZpbGxDb2xvciI6ICIjMzE4NmNjIiwgImZpbGxPcGFjaXR5IjogMC43LCAiZmlsbFJ1bGUiOiAiZXZlbm9kZCIsICJsaW5lQ2FwIjogInJvdW5kIiwgImxpbmVKb2luIjogInJvdW5kIiwgIm9wYWNpdHkiOiAxLjAsICJyYWRpdXMiOiA1LCAic3Ryb2tlIjogdHJ1ZSwgIndlaWdodCI6IDN9CiAgICAgICAgICAgICkuYWRkVG8obWFwXzQyMzQ4ZGI5N2Q0MTRlYThhNGY3N2QzMTVkZDQ1YzAwKTsKICAgICAgICAKICAgIAogICAgICAgIHZhciBwb3B1cF8wNTdiYmE1MjZlN2I0MDY1OGUxN2FkMjBjYTE0ODI5NCA9IEwucG9wdXAoeyJtYXhXaWR0aCI6ICIxMDAlIn0pOwoKICAgICAgICAKICAgICAgICAgICAgdmFyIGh0bWxfOTEyZDgwZmY3YzAwNDY4MGEyMjQ0Y2YyYWMzMzI4YzkgPSAkKGA8ZGl2IGlkPSJodG1sXzkxMmQ4MGZmN2MwMDQ2ODBhMjI0NGNmMmFjMzMyOGM5IiBzdHlsZT0id2lkdGg6IDEwMC4wJTsgaGVpZ2h0OiAxMDAuMCU7Ij5IaWdoIFBhcmssIFRoZSBKdW5jdGlvbiBTb3V0aCwgV2VzdCBUb3JvbnRvPC9kaXY+YClbMF07CiAgICAgICAgICAgIHBvcHVwXzA1N2JiYTUyNmU3YjQwNjU4ZTE3YWQyMGNhMTQ4Mjk0LnNldENvbnRlbnQoaHRtbF85MTJkODBmZjdjMDA0NjgwYTIyNDRjZjJhYzMzMjhjOSk7CiAgICAgICAgCgogICAgICAgIGNpcmNsZV9tYXJrZXJfZWRiOWRjYjExNWNjNDM1M2JmMzExZDExMGU4YWRjYTguYmluZFBvcHVwKHBvcHVwXzA1N2JiYTUyNmU3YjQwNjU4ZTE3YWQyMGNhMTQ4Mjk0KQogICAgICAgIDsKCiAgICAgICAgCiAgICAKICAgIAogICAgICAgICAgICB2YXIgY2lyY2xlX21hcmtlcl82NmNiYzVjODMxMDc0OGE3OGI3ZGUwOGVmY2E4MjE0OCA9IEwuY2lyY2xlTWFya2VyKAogICAgICAgICAgICAgICAgWzQzLjY0ODk1OTcsIC03OS40NTYzMjVdLAogICAgICAgICAgICAgICAgeyJidWJibGluZ01vdXNlRXZlbnRzIjogdHJ1ZSwgImNvbG9yIjogImJsdWUiLCAiZGFzaEFycmF5IjogbnVsbCwgImRhc2hPZmZzZXQiOiBudWxsLCAiZmlsbCI6IHRydWUsICJmaWxsQ29sb3IiOiAiIzMxODZjYyIsICJmaWxsT3BhY2l0eSI6IDAuNywgImZpbGxSdWxlIjogImV2ZW5vZGQiLCAibGluZUNhcCI6ICJyb3VuZCIsICJsaW5lSm9pbiI6ICJyb3VuZCIsICJvcGFjaXR5IjogMS4wLCAicmFkaXVzIjogNSwgInN0cm9rZSI6IHRydWUsICJ3ZWlnaHQiOiAzfQogICAgICAgICAgICApLmFkZFRvKG1hcF80MjM0OGRiOTdkNDE0ZWE4YTRmNzdkMzE1ZGQ0NWMwMCk7CiAgICAgICAgCiAgICAKICAgICAgICB2YXIgcG9wdXBfMTBlNmI1YmJmMWU1NDkwODkzMDNiODdlNDQzNWU4MzggPSBMLnBvcHVwKHsibWF4V2lkdGgiOiAiMTAwJSJ9KTsKCiAgICAgICAgCiAgICAgICAgICAgIHZhciBodG1sXzViNjY4NWNlZWYxNjQ1Mjc4NzkyNmZkYmRkM2E0ZmQyID0gJChgPGRpdiBpZD0iaHRtbF81YjY2ODVjZWVmMTY0NTI3ODc5MjZmZGJkZDNhNGZkMiIgc3R5bGU9IndpZHRoOiAxMDAuMCU7IGhlaWdodDogMTAwLjAlOyI+UGFya2RhbGUsIFJvbmNlc3ZhbGxlcywgV2VzdCBUb3JvbnRvPC9kaXY+YClbMF07CiAgICAgICAgICAgIHBvcHVwXzEwZTZiNWJiZjFlNTQ5MDg5MzAzYjg3ZTQ0MzVlODM4LnNldENvbnRlbnQoaHRtbF81YjY2ODVjZWVmMTY0NTI3ODc5MjZmZGJkZDNhNGZkMik7CiAgICAgICAgCgogICAgICAgIGNpcmNsZV9tYXJrZXJfNjZjYmM1YzgzMTA3NDhhNzhiN2RlMDhlZmNhODIxNDguYmluZFBvcHVwKHBvcHVwXzEwZTZiNWJiZjFlNTQ5MDg5MzAzYjg3ZTQ0MzVlODM4KQogICAgICAgIDsKCiAgICAgICAgCiAgICAKICAgIAogICAgICAgICAgICB2YXIgY2lyY2xlX21hcmtlcl9lMGNlZGY5ZWY4NDA0MDRiYWMxMzhhODZkYjlkNDU5OCA9IEwuY2lyY2xlTWFya2VyKAogICAgICAgICAgICAgICAgWzQzLjY1MTU3MDYsIC03OS40ODQ0NDk5XSwKICAgICAgICAgICAgICAgIHsiYnViYmxpbmdNb3VzZUV2ZW50cyI6IHRydWUsICJjb2xvciI6ICJibHVlIiwgImRhc2hBcnJheSI6IG51bGwsICJkYXNoT2Zmc2V0IjogbnVsbCwgImZpbGwiOiB0cnVlLCAiZmlsbENvbG9yIjogIiMzMTg2Y2MiLCAiZmlsbE9wYWNpdHkiOiAwLjcsICJmaWxsUnVsZSI6ICJldmVub2RkIiwgImxpbmVDYXAiOiAicm91bmQiLCAibGluZUpvaW4iOiAicm91bmQiLCAib3BhY2l0eSI6IDEuMCwgInJhZGl1cyI6IDUsICJzdHJva2UiOiB0cnVlLCAid2VpZ2h0IjogM30KICAgICAgICAgICAgKS5hZGRUbyhtYXBfNDIzNDhkYjk3ZDQxNGVhOGE0Zjc3ZDMxNWRkNDVjMDApOwogICAgICAgIAogICAgCiAgICAgICAgdmFyIHBvcHVwX2I0MmYyNmVjNGI1YTRkZDY5NTMxOTMzODdmNWVhZWI5ID0gTC5wb3B1cCh7Im1heFdpZHRoIjogIjEwMCUifSk7CgogICAgICAgIAogICAgICAgICAgICB2YXIgaHRtbF83NDM3MGNlYzZjNWM0NjZiOWMzYWNmNGM3YmMyM2ZkMiA9ICQoYDxkaXYgaWQ9Imh0bWxfNzQzNzBjZWM2YzVjNDY2YjljM2FjZjRjN2JjMjNmZDIiIHN0eWxlPSJ3aWR0aDogMTAwLjAlOyBoZWlnaHQ6IDEwMC4wJTsiPlJ1bm55bWVkZSwgU3dhbnNlYSwgV2VzdCBUb3JvbnRvPC9kaXY+YClbMF07CiAgICAgICAgICAgIHBvcHVwX2I0MmYyNmVjNGI1YTRkZDY5NTMxOTMzODdmNWVhZWI5LnNldENvbnRlbnQoaHRtbF83NDM3MGNlYzZjNWM0NjZiOWMzYWNmNGM3YmMyM2ZkMik7CiAgICAgICAgCgogICAgICAgIGNpcmNsZV9tYXJrZXJfZTBjZWRmOWVmODQwNDA0YmFjMTM4YTg2ZGI5ZDQ1OTguYmluZFBvcHVwKHBvcHVwX2I0MmYyNmVjNGI1YTRkZDY5NTMxOTMzODdmNWVhZWI5KQogICAgICAgIDsKCiAgICAgICAgCiAgICAKICAgIAogICAgICAgICAgICB2YXIgY2lyY2xlX21hcmtlcl8zYjdjOTI2ODcyODk0MjQ4YThmYzY4ZjRlNWNkYjM4MCA9IEwuY2lyY2xlTWFya2VyKAogICAgICAgICAgICAgICAgWzQzLjY2MjMwMTUsIC03OS4zODk0OTM4XSwKICAgICAgICAgICAgICAgIHsiYnViYmxpbmdNb3VzZUV2ZW50cyI6IHRydWUsICJjb2xvciI6ICJibHVlIiwgImRhc2hBcnJheSI6IG51bGwsICJkYXNoT2Zmc2V0IjogbnVsbCwgImZpbGwiOiB0cnVlLCAiZmlsbENvbG9yIjogIiMzMTg2Y2MiLCAiZmlsbE9wYWNpdHkiOiAwLjcsICJmaWxsUnVsZSI6ICJldmVub2RkIiwgImxpbmVDYXAiOiAicm91bmQiLCAibGluZUpvaW4iOiAicm91bmQiLCAib3BhY2l0eSI6IDEuMCwgInJhZGl1cyI6IDUsICJzdHJva2UiOiB0cnVlLCAid2VpZ2h0IjogM30KICAgICAgICAgICAgKS5hZGRUbyhtYXBfNDIzNDhkYjk3ZDQxNGVhOGE0Zjc3ZDMxNWRkNDVjMDApOwogICAgICAgIAogICAgCiAgICAgICAgdmFyIHBvcHVwX2VlNGUxOTkwMmM4ODQ3M2U4NTgxODk3Mjc4NTM3OGE2ID0gTC5wb3B1cCh7Im1heFdpZHRoIjogIjEwMCUifSk7CgogICAgICAgIAogICAgICAgICAgICB2YXIgaHRtbF9lMmU1MTY1ODFlZmU0YTgzODRkZDMwZmQyZGZhMDE3NCA9ICQoYDxkaXYgaWQ9Imh0bWxfZTJlNTE2NTgxZWZlNGE4Mzg0ZGQzMGZkMmRmYTAxNzQiIHN0eWxlPSJ3aWR0aDogMTAwLjAlOyBoZWlnaHQ6IDEwMC4wJTsiPlF1ZWVuJiMzOTtzIFBhcmssIE9udGFyaW8gUHJvdmluY2lhbCBHb3Zlcm5tZW50LCBEb3dudG93biBUb3JvbnRvPC9kaXY+YClbMF07CiAgICAgICAgICAgIHBvcHVwX2VlNGUxOTkwMmM4ODQ3M2U4NTgxODk3Mjc4NTM3OGE2LnNldENvbnRlbnQoaHRtbF9lMmU1MTY1ODFlZmU0YTgzODRkZDMwZmQyZGZhMDE3NCk7CiAgICAgICAgCgogICAgICAgIGNpcmNsZV9tYXJrZXJfM2I3YzkyNjg3Mjg5NDI0OGE4ZmM2OGY0ZTVjZGIzODAuYmluZFBvcHVwKHBvcHVwX2VlNGUxOTkwMmM4ODQ3M2U4NTgxODk3Mjc4NTM3OGE2KQogICAgICAgIDsKCiAgICAgICAgCiAgICAKICAgIAogICAgICAgICAgICB2YXIgY2lyY2xlX21hcmtlcl81ZjJlZmU0ZTlhNjE0MTRkOGExNWZkMWI1M2FlNjFhZiA9IEwuY2lyY2xlTWFya2VyKAogICAgICAgICAgICAgICAgWzQzLjYzNjk2NTYsIC03OS42MTU4MTg5OTk5OTk5OV0sCiAgICAgICAgICAgICAgICB7ImJ1YmJsaW5nTW91c2VFdmVudHMiOiB0cnVlLCAiY29sb3IiOiAiYmx1ZSIsICJkYXNoQXJyYXkiOiBudWxsLCAiZGFzaE9mZnNldCI6IG51bGwsICJmaWxsIjogdHJ1ZSwgImZpbGxDb2xvciI6ICIjMzE4NmNjIiwgImZpbGxPcGFjaXR5IjogMC43LCAiZmlsbFJ1bGUiOiAiZXZlbm9kZCIsICJsaW5lQ2FwIjogInJvdW5kIiwgImxpbmVKb2luIjogInJvdW5kIiwgIm9wYWNpdHkiOiAxLjAsICJyYWRpdXMiOiA1LCAic3Ryb2tlIjogdHJ1ZSwgIndlaWdodCI6IDN9CiAgICAgICAgICAgICkuYWRkVG8obWFwXzQyMzQ4ZGI5N2Q0MTRlYThhNGY3N2QzMTVkZDQ1YzAwKTsKICAgICAgICAKICAgIAogICAgICAgIHZhciBwb3B1cF9hOTcyNDM3YWYwN2E0YmRiODJjN2E0ZThhNjZjNDhlMSA9IEwucG9wdXAoeyJtYXhXaWR0aCI6ICIxMDAlIn0pOwoKICAgICAgICAKICAgICAgICAgICAgdmFyIGh0bWxfNmUxNTIxMjk4MjU2NDMwZjg0ZjVjMjY2MjlmYmI1MTkgPSAkKGA8ZGl2IGlkPSJodG1sXzZlMTUyMTI5ODI1NjQzMGY4NGY1YzI2NjI5ZmJiNTE5IiBzdHlsZT0id2lkdGg6IDEwMC4wJTsgaGVpZ2h0OiAxMDAuMCU7Ij5DYW5hZGEgUG9zdCBHYXRld2F5IFByb2Nlc3NpbmcgQ2VudHJlLCBNaXNzaXNzYXVnYTwvZGl2PmApWzBdOwogICAgICAgICAgICBwb3B1cF9hOTcyNDM3YWYwN2E0YmRiODJjN2E0ZThhNjZjNDhlMS5zZXRDb250ZW50KGh0bWxfNmUxNTIxMjk4MjU2NDMwZjg0ZjVjMjY2MjlmYmI1MTkpOwogICAgICAgIAoKICAgICAgICBjaXJjbGVfbWFya2VyXzVmMmVmZTRlOWE2MTQxNGQ4YTE1ZmQxYjUzYWU2MWFmLmJpbmRQb3B1cChwb3B1cF9hOTcyNDM3YWYwN2E0YmRiODJjN2E0ZThhNjZjNDhlMSkKICAgICAgICA7CgogICAgICAgIAogICAgCiAgICAKICAgICAgICAgICAgdmFyIGNpcmNsZV9tYXJrZXJfNTYzODhmMmJkYTk2NDFmYmJhYTFmNGE4NmM3NGY5MWMgPSBMLmNpcmNsZU1hcmtlcigKICAgICAgICAgICAgICAgIFs0My42NjI3NDM5LCAtNzkuMzIxNTU4XSwKICAgICAgICAgICAgICAgIHsiYnViYmxpbmdNb3VzZUV2ZW50cyI6IHRydWUsICJjb2xvciI6ICJibHVlIiwgImRhc2hBcnJheSI6IG51bGwsICJkYXNoT2Zmc2V0IjogbnVsbCwgImZpbGwiOiB0cnVlLCAiZmlsbENvbG9yIjogIiMzMTg2Y2MiLCAiZmlsbE9wYWNpdHkiOiAwLjcsICJmaWxsUnVsZSI6ICJldmVub2RkIiwgImxpbmVDYXAiOiAicm91bmQiLCAibGluZUpvaW4iOiAicm91bmQiLCAib3BhY2l0eSI6IDEuMCwgInJhZGl1cyI6IDUsICJzdHJva2UiOiB0cnVlLCAid2VpZ2h0IjogM30KICAgICAgICAgICAgKS5hZGRUbyhtYXBfNDIzNDhkYjk3ZDQxNGVhOGE0Zjc3ZDMxNWRkNDVjMDApOwogICAgICAgIAogICAgCiAgICAgICAgdmFyIHBvcHVwX2U4NzU4NDU0MWYxZjQ3NzJiOGExZGYxMWEzNzY4MzBkID0gTC5wb3B1cCh7Im1heFdpZHRoIjogIjEwMCUifSk7CgogICAgICAgIAogICAgICAgICAgICB2YXIgaHRtbF80YWU1MTI0NjM3ODg0ODFiYmUxOGZkZDZlZmExMjJhMiA9ICQoYDxkaXYgaWQ9Imh0bWxfNGFlNTEyNDYzNzg4NDgxYmJlMThmZGQ2ZWZhMTIyYTIiIHN0eWxlPSJ3aWR0aDogMTAwLjAlOyBoZWlnaHQ6IDEwMC4wJTsiPkJ1c2luZXNzIHJlcGx5IG1haWwgUHJvY2Vzc2luZyBDZW50cmUsIFNvdXRoIENlbnRyYWwgTGV0dGVyIFByb2Nlc3NpbmcgUGxhbnQgVG9yb250bywgRWFzdCBUb3JvbnRvPC9kaXY+YClbMF07CiAgICAgICAgICAgIHBvcHVwX2U4NzU4NDU0MWYxZjQ3NzJiOGExZGYxMWEzNzY4MzBkLnNldENvbnRlbnQoaHRtbF80YWU1MTI0NjM3ODg0ODFiYmUxOGZkZDZlZmExMjJhMik7CiAgICAgICAgCgogICAgICAgIGNpcmNsZV9tYXJrZXJfNTYzODhmMmJkYTk2NDFmYmJhYTFmNGE4NmM3NGY5MWMuYmluZFBvcHVwKHBvcHVwX2U4NzU4NDU0MWYxZjQ3NzJiOGExZGYxMWEzNzY4MzBkKQogICAgICAgIDsKCiAgICAgICAgCiAgICAKICAgIAogICAgICAgICAgICB2YXIgY2lyY2xlX21hcmtlcl9kY2M4NWU3MjljNWI0NGNlYTY3NGM4N2EwZDhiZDJiNiA9IEwuY2lyY2xlTWFya2VyKAogICAgICAgICAgICAgICAgWzQzLjYwNTY0NjYsIC03OS41MDEzMjA3MDAwMDAwMV0sCiAgICAgICAgICAgICAgICB7ImJ1YmJsaW5nTW91c2VFdmVudHMiOiB0cnVlLCAiY29sb3IiOiAiYmx1ZSIsICJkYXNoQXJyYXkiOiBudWxsLCAiZGFzaE9mZnNldCI6IG51bGwsICJmaWxsIjogdHJ1ZSwgImZpbGxDb2xvciI6ICIjMzE4NmNjIiwgImZpbGxPcGFjaXR5IjogMC43LCAiZmlsbFJ1bGUiOiAiZXZlbm9kZCIsICJsaW5lQ2FwIjogInJvdW5kIiwgImxpbmVKb2luIjogInJvdW5kIiwgIm9wYWNpdHkiOiAxLjAsICJyYWRpdXMiOiA1LCAic3Ryb2tlIjogdHJ1ZSwgIndlaWdodCI6IDN9CiAgICAgICAgICAgICkuYWRkVG8obWFwXzQyMzQ4ZGI5N2Q0MTRlYThhNGY3N2QzMTVkZDQ1YzAwKTsKICAgICAgICAKICAgIAogICAgICAgIHZhciBwb3B1cF82ZDMzZDJiNTE0MTE0Y2UyOGFjYjAwNTE0OTljYmY0YSA9IEwucG9wdXAoeyJtYXhXaWR0aCI6ICIxMDAlIn0pOwoKICAgICAgICAKICAgICAgICAgICAgdmFyIGh0bWxfMWQ5Njk3MWE1YzMyNGRkZGFmODdhN2QzNWFkZjM2MzkgPSAkKGA8ZGl2IGlkPSJodG1sXzFkOTY5NzFhNWMzMjRkZGRhZjg3YTdkMzVhZGYzNjM5IiBzdHlsZT0id2lkdGg6IDEwMC4wJTsgaGVpZ2h0OiAxMDAuMCU7Ij5OZXcgVG9yb250bywgTWltaWNvIFNvdXRoLCBIdW1iZXIgQmF5IFNob3JlcywgRXRvYmljb2tlPC9kaXY+YClbMF07CiAgICAgICAgICAgIHBvcHVwXzZkMzNkMmI1MTQxMTRjZTI4YWNiMDA1MTQ5OWNiZjRhLnNldENvbnRlbnQoaHRtbF8xZDk2OTcxYTVjMzI0ZGRkYWY4N2E3ZDM1YWRmMzYzOSk7CiAgICAgICAgCgogICAgICAgIGNpcmNsZV9tYXJrZXJfZGNjODVlNzI5YzViNDRjZWE2NzRjODdhMGQ4YmQyYjYuYmluZFBvcHVwKHBvcHVwXzZkMzNkMmI1MTQxMTRjZTI4YWNiMDA1MTQ5OWNiZjRhKQogICAgICAgIDsKCiAgICAgICAgCiAgICAKICAgIAogICAgICAgICAgICB2YXIgY2lyY2xlX21hcmtlcl84MTM1ZjdkNmI0OGU0MzBmODM4MzJmMmMxMjQwYzcxMyA9IEwuY2lyY2xlTWFya2VyKAogICAgICAgICAgICAgICAgWzQzLjYwMjQxMzcwMDAwMDAxLCAtNzkuNTQzNDg0MDk5OTk5OTldLAogICAgICAgICAgICAgICAgeyJidWJibGluZ01vdXNlRXZlbnRzIjogdHJ1ZSwgImNvbG9yIjogImJsdWUiLCAiZGFzaEFycmF5IjogbnVsbCwgImRhc2hPZmZzZXQiOiBudWxsLCAiZmlsbCI6IHRydWUsICJmaWxsQ29sb3IiOiAiIzMxODZjYyIsICJmaWxsT3BhY2l0eSI6IDAuNywgImZpbGxSdWxlIjogImV2ZW5vZGQiLCAibGluZUNhcCI6ICJyb3VuZCIsICJsaW5lSm9pbiI6ICJyb3VuZCIsICJvcGFjaXR5IjogMS4wLCAicmFkaXVzIjogNSwgInN0cm9rZSI6IHRydWUsICJ3ZWlnaHQiOiAzfQogICAgICAgICAgICApLmFkZFRvKG1hcF80MjM0OGRiOTdkNDE0ZWE4YTRmNzdkMzE1ZGQ0NWMwMCk7CiAgICAgICAgCiAgICAKICAgICAgICB2YXIgcG9wdXBfYzY2N2FiOTJjNzc1NDJjZTlhZDY0OGJkZmJkNDI4MzggPSBMLnBvcHVwKHsibWF4V2lkdGgiOiAiMTAwJSJ9KTsKCiAgICAgICAgCiAgICAgICAgICAgIHZhciBodG1sXzEzNzE2ZjQ0NGE4NzQxMGQ4ZWI4MDYyYjkxYWFmNTllID0gJChgPGRpdiBpZD0iaHRtbF8xMzcxNmY0NDRhODc0MTBkOGViODA2MmI5MWFhZjU5ZSIgc3R5bGU9IndpZHRoOiAxMDAuMCU7IGhlaWdodDogMTAwLjAlOyI+QWxkZXJ3b29kLCBMb25nIEJyYW5jaCwgRXRvYmljb2tlPC9kaXY+YClbMF07CiAgICAgICAgICAgIHBvcHVwX2M2NjdhYjkyYzc3NTQyY2U5YWQ2NDhiZGZiZDQyODM4LnNldENvbnRlbnQoaHRtbF8xMzcxNmY0NDRhODc0MTBkOGViODA2MmI5MWFhZjU5ZSk7CiAgICAgICAgCgogICAgICAgIGNpcmNsZV9tYXJrZXJfODEzNWY3ZDZiNDhlNDMwZjgzODMyZjJjMTI0MGM3MTMuYmluZFBvcHVwKHBvcHVwX2M2NjdhYjkyYzc3NTQyY2U5YWQ2NDhiZGZiZDQyODM4KQogICAgICAgIDsKCiAgICAgICAgCiAgICAKICAgIAogICAgICAgICAgICB2YXIgY2lyY2xlX21hcmtlcl80MzgzNzlkMGQ4NTY0ODM1YmViN2U0OTY2ZmVjMjVlYyA9IEwuY2lyY2xlTWFya2VyKAogICAgICAgICAgICAgICAgWzQzLjY1MzY1MzYwMDAwMDAwNSwgLTc5LjUwNjk0MzZdLAogICAgICAgICAgICAgICAgeyJidWJibGluZ01vdXNlRXZlbnRzIjogdHJ1ZSwgImNvbG9yIjogImJsdWUiLCAiZGFzaEFycmF5IjogbnVsbCwgImRhc2hPZmZzZXQiOiBudWxsLCAiZmlsbCI6IHRydWUsICJmaWxsQ29sb3IiOiAiIzMxODZjYyIsICJmaWxsT3BhY2l0eSI6IDAuNywgImZpbGxSdWxlIjogImV2ZW5vZGQiLCAibGluZUNhcCI6ICJyb3VuZCIsICJsaW5lSm9pbiI6ICJyb3VuZCIsICJvcGFjaXR5IjogMS4wLCAicmFkaXVzIjogNSwgInN0cm9rZSI6IHRydWUsICJ3ZWlnaHQiOiAzfQogICAgICAgICAgICApLmFkZFRvKG1hcF80MjM0OGRiOTdkNDE0ZWE4YTRmNzdkMzE1ZGQ0NWMwMCk7CiAgICAgICAgCiAgICAKICAgICAgICB2YXIgcG9wdXBfOWM1NjkwN2YxMTIyNDI4YzkzZmIyZTg4YTk1MjZlZWEgPSBMLnBvcHVwKHsibWF4V2lkdGgiOiAiMTAwJSJ9KTsKCiAgICAgICAgCiAgICAgICAgICAgIHZhciBodG1sXzY5YmQyMmYyZTc5YzQ4MTFhN2RjZDY0MWM4YzdiMWQwID0gJChgPGRpdiBpZD0iaHRtbF82OWJkMjJmMmU3OWM0ODExYTdkY2Q2NDFjOGM3YjFkMCIgc3R5bGU9IndpZHRoOiAxMDAuMCU7IGhlaWdodDogMTAwLjAlOyI+VGhlIEtpbmdzd2F5LCBNb250Z29tZXJ5IFJvYWQsIE9sZCBNaWxsIE5vcnRoLCBFdG9iaWNva2U8L2Rpdj5gKVswXTsKICAgICAgICAgICAgcG9wdXBfOWM1NjkwN2YxMTIyNDI4YzkzZmIyZTg4YTk1MjZlZWEuc2V0Q29udGVudChodG1sXzY5YmQyMmYyZTc5YzQ4MTFhN2RjZDY0MWM4YzdiMWQwKTsKICAgICAgICAKCiAgICAgICAgY2lyY2xlX21hcmtlcl80MzgzNzlkMGQ4NTY0ODM1YmViN2U0OTY2ZmVjMjVlYy5iaW5kUG9wdXAocG9wdXBfOWM1NjkwN2YxMTIyNDI4YzkzZmIyZTg4YTk1MjZlZWEpCiAgICAgICAgOwoKICAgICAgICAKICAgIAogICAgCiAgICAgICAgICAgIHZhciBjaXJjbGVfbWFya2VyXzc4MmQ0MTY0YTlhNDQ3ZDFhM2JkMzZiOTgwN2RhOTViID0gTC5jaXJjbGVNYXJrZXIoCiAgICAgICAgICAgICAgICBbNDMuNjM2MjU3OSwgLTc5LjQ5ODUwOTA5OTk5OTk5XSwKICAgICAgICAgICAgICAgIHsiYnViYmxpbmdNb3VzZUV2ZW50cyI6IHRydWUsICJjb2xvciI6ICJibHVlIiwgImRhc2hBcnJheSI6IG51bGwsICJkYXNoT2Zmc2V0IjogbnVsbCwgImZpbGwiOiB0cnVlLCAiZmlsbENvbG9yIjogIiMzMTg2Y2MiLCAiZmlsbE9wYWNpdHkiOiAwLjcsICJmaWxsUnVsZSI6ICJldmVub2RkIiwgImxpbmVDYXAiOiAicm91bmQiLCAibGluZUpvaW4iOiAicm91bmQiLCAib3BhY2l0eSI6IDEuMCwgInJhZGl1cyI6IDUsICJzdHJva2UiOiB0cnVlLCAid2VpZ2h0IjogM30KICAgICAgICAgICAgKS5hZGRUbyhtYXBfNDIzNDhkYjk3ZDQxNGVhOGE0Zjc3ZDMxNWRkNDVjMDApOwogICAgICAgIAogICAgCiAgICAgICAgdmFyIHBvcHVwX2IzNWFlYjE1MzY0NTRjMDliNWIzZDMzYjNiZmFlOTYzID0gTC5wb3B1cCh7Im1heFdpZHRoIjogIjEwMCUifSk7CgogICAgICAgIAogICAgICAgICAgICB2YXIgaHRtbF9mMTk4ZjUzNzUxZTk0YzFkYTNlZDI5MGJhMDZhMzEzNyA9ICQoYDxkaXYgaWQ9Imh0bWxfZjE5OGY1Mzc1MWU5NGMxZGEzZWQyOTBiYTA2YTMxMzciIHN0eWxlPSJ3aWR0aDogMTAwLjAlOyBoZWlnaHQ6IDEwMC4wJTsiPk9sZCBNaWxsIFNvdXRoLCBLaW5nJiMzOTtzIE1pbGwgUGFyaywgU3VubnlsZWEsIEh1bWJlciBCYXksIE1pbWljbyBORSwgVGhlIFF1ZWVuc3dheSBFYXN0LCBSb3lhbCBZb3JrIFNvdXRoIEVhc3QsIEtpbmdzd2F5IFBhcmsgU291dGggRWFzdCwgRXRvYmljb2tlPC9kaXY+YClbMF07CiAgICAgICAgICAgIHBvcHVwX2IzNWFlYjE1MzY0NTRjMDliNWIzZDMzYjNiZmFlOTYzLnNldENvbnRlbnQoaHRtbF9mMTk4ZjUzNzUxZTk0YzFkYTNlZDI5MGJhMDZhMzEzNyk7CiAgICAgICAgCgogICAgICAgIGNpcmNsZV9tYXJrZXJfNzgyZDQxNjRhOWE0NDdkMWEzYmQzNmI5ODA3ZGE5NWIuYmluZFBvcHVwKHBvcHVwX2IzNWFlYjE1MzY0NTRjMDliNWIzZDMzYjNiZmFlOTYzKQogICAgICAgIDsKCiAgICAgICAgCiAgICAKICAgIAogICAgICAgICAgICB2YXIgY2lyY2xlX21hcmtlcl83NTQzMDNlN2ZkNjQ0NTZlOTc4YTk1OWU2YjkyZDg3MiA9IEwuY2lyY2xlTWFya2VyKAogICAgICAgICAgICAgICAgWzQzLjYyODg0MDgsIC03OS41MjA5OTk0MDAwMDAwMV0sCiAgICAgICAgICAgICAgICB7ImJ1YmJsaW5nTW91c2VFdmVudHMiOiB0cnVlLCAiY29sb3IiOiAiYmx1ZSIsICJkYXNoQXJyYXkiOiBudWxsLCAiZGFzaE9mZnNldCI6IG51bGwsICJmaWxsIjogdHJ1ZSwgImZpbGxDb2xvciI6ICIjMzE4NmNjIiwgImZpbGxPcGFjaXR5IjogMC43LCAiZmlsbFJ1bGUiOiAiZXZlbm9kZCIsICJsaW5lQ2FwIjogInJvdW5kIiwgImxpbmVKb2luIjogInJvdW5kIiwgIm9wYWNpdHkiOiAxLjAsICJyYWRpdXMiOiA1LCAic3Ryb2tlIjogdHJ1ZSwgIndlaWdodCI6IDN9CiAgICAgICAgICAgICkuYWRkVG8obWFwXzQyMzQ4ZGI5N2Q0MTRlYThhNGY3N2QzMTVkZDQ1YzAwKTsKICAgICAgICAKICAgIAogICAgICAgIHZhciBwb3B1cF8wZTM3YjU3MWEyNTU0MDgzOWU0NjYwMTcwYzZlNmEzYyA9IEwucG9wdXAoeyJtYXhXaWR0aCI6ICIxMDAlIn0pOwoKICAgICAgICAKICAgICAgICAgICAgdmFyIGh0bWxfMTA3MWFjNjM2MTNjNDI1M2IzNzc5OTE4OWVkZTMzNGUgPSAkKGA8ZGl2IGlkPSJodG1sXzEwNzFhYzYzNjEzYzQyNTNiMzc3OTkxODllZGUzMzRlIiBzdHlsZT0id2lkdGg6IDEwMC4wJTsgaGVpZ2h0OiAxMDAuMCU7Ij5NaW1pY28gTlcsIFRoZSBRdWVlbnN3YXkgV2VzdCwgU291dGggb2YgQmxvb3IsIEtpbmdzd2F5IFBhcmsgU291dGggV2VzdCwgUm95YWwgWW9yayBTb3V0aCBXZXN0LCBFdG9iaWNva2U8L2Rpdj5gKVswXTsKICAgICAgICAgICAgcG9wdXBfMGUzN2I1NzFhMjU1NDA4MzllNDY2MDE3MGM2ZTZhM2Muc2V0Q29udGVudChodG1sXzEwNzFhYzYzNjEzYzQyNTNiMzc3OTkxODllZGUzMzRlKTsKICAgICAgICAKCiAgICAgICAgY2lyY2xlX21hcmtlcl83NTQzMDNlN2ZkNjQ0NTZlOTc4YTk1OWU2YjkyZDg3Mi5iaW5kUG9wdXAocG9wdXBfMGUzN2I1NzFhMjU1NDA4MzllNDY2MDE3MGM2ZTZhM2MpCiAgICAgICAgOwoKICAgICAgICAKICAgIAogICAgCiAgICAgICAgICAgIHZhciBjaXJjbGVfbWFya2VyX2U1ODMxODRlZWJjNDRlMTliYTg3YzNmMDhjM2IyYjgyID0gTC5jaXJjbGVNYXJrZXIoCiAgICAgICAgICAgICAgICBbNDMuNjY3ODU1NiwgLTc5LjUzMjI0MjQwMDAwMDAyXSwKICAgICAgICAgICAgICAgIHsiYnViYmxpbmdNb3VzZUV2ZW50cyI6IHRydWUsICJjb2xvciI6ICJibHVlIiwgImRhc2hBcnJheSI6IG51bGwsICJkYXNoT2Zmc2V0IjogbnVsbCwgImZpbGwiOiB0cnVlLCAiZmlsbENvbG9yIjogIiMzMTg2Y2MiLCAiZmlsbE9wYWNpdHkiOiAwLjcsICJmaWxsUnVsZSI6ICJldmVub2RkIiwgImxpbmVDYXAiOiAicm91bmQiLCAibGluZUpvaW4iOiAicm91bmQiLCAib3BhY2l0eSI6IDEuMCwgInJhZGl1cyI6IDUsICJzdHJva2UiOiB0cnVlLCAid2VpZ2h0IjogM30KICAgICAgICAgICAgKS5hZGRUbyhtYXBfNDIzNDhkYjk3ZDQxNGVhOGE0Zjc3ZDMxNWRkNDVjMDApOwogICAgICAgIAogICAgCiAgICAgICAgdmFyIHBvcHVwXzc5ODZhZmIxODdlNDQ3YjFiYTgzYzRlMjFlMGQyODBlID0gTC5wb3B1cCh7Im1heFdpZHRoIjogIjEwMCUifSk7CgogICAgICAgIAogICAgICAgICAgICB2YXIgaHRtbF8zMjI3YzM5YTAwMTU0YWJmYWRkNGY0NTU1YTY4ZjBjNSA9ICQoYDxkaXYgaWQ9Imh0bWxfMzIyN2MzOWEwMDE1NGFiZmFkZDRmNDU1NWE2OGYwYzUiIHN0eWxlPSJ3aWR0aDogMTAwLjAlOyBoZWlnaHQ6IDEwMC4wJTsiPklzbGluZ3RvbiBBdmVudWUsIEh1bWJlciBWYWxsZXkgVmlsbGFnZSwgRXRvYmljb2tlPC9kaXY+YClbMF07CiAgICAgICAgICAgIHBvcHVwXzc5ODZhZmIxODdlNDQ3YjFiYTgzYzRlMjFlMGQyODBlLnNldENvbnRlbnQoaHRtbF8zMjI3YzM5YTAwMTU0YWJmYWRkNGY0NTU1YTY4ZjBjNSk7CiAgICAgICAgCgogICAgICAgIGNpcmNsZV9tYXJrZXJfZTU4MzE4NGVlYmM0NGUxOWJhODdjM2YwOGMzYjJiODIuYmluZFBvcHVwKHBvcHVwXzc5ODZhZmIxODdlNDQ3YjFiYTgzYzRlMjFlMGQyODBlKQogICAgICAgIDsKCiAgICAgICAgCiAgICAKICAgIAogICAgICAgICAgICB2YXIgY2lyY2xlX21hcmtlcl9iY2E4ZWNiMmVlY2Q0Njc3YWY3ZGMwYWY2YTk2YmYyMSA9IEwuY2lyY2xlTWFya2VyKAogICAgICAgICAgICAgICAgWzQzLjY1MDk0MzIsIC03OS41NTQ3MjQ0MDAwMDAwMV0sCiAgICAgICAgICAgICAgICB7ImJ1YmJsaW5nTW91c2VFdmVudHMiOiB0cnVlLCAiY29sb3IiOiAiYmx1ZSIsICJkYXNoQXJyYXkiOiBudWxsLCAiZGFzaE9mZnNldCI6IG51bGwsICJmaWxsIjogdHJ1ZSwgImZpbGxDb2xvciI6ICIjMzE4NmNjIiwgImZpbGxPcGFjaXR5IjogMC43LCAiZmlsbFJ1bGUiOiAiZXZlbm9kZCIsICJsaW5lQ2FwIjogInJvdW5kIiwgImxpbmVKb2luIjogInJvdW5kIiwgIm9wYWNpdHkiOiAxLjAsICJyYWRpdXMiOiA1LCAic3Ryb2tlIjogdHJ1ZSwgIndlaWdodCI6IDN9CiAgICAgICAgICAgICkuYWRkVG8obWFwXzQyMzQ4ZGI5N2Q0MTRlYThhNGY3N2QzMTVkZDQ1YzAwKTsKICAgICAgICAKICAgIAogICAgICAgIHZhciBwb3B1cF84N2MyZDI5YmY1NTA0MThlYmI0ODNhOTUwYjQ5MWNhMCA9IEwucG9wdXAoeyJtYXhXaWR0aCI6ICIxMDAlIn0pOwoKICAgICAgICAKICAgICAgICAgICAgdmFyIGh0bWxfNjE3ODY1MTc2MmQzNDlhYmIyMzJmNDE1MTcxY2FiZmEgPSAkKGA8ZGl2IGlkPSJodG1sXzYxNzg2NTE3NjJkMzQ5YWJiMjMyZjQxNTE3MWNhYmZhIiBzdHlsZT0id2lkdGg6IDEwMC4wJTsgaGVpZ2h0OiAxMDAuMCU7Ij5XZXN0IERlYW5lIFBhcmssIFByaW5jZXNzIEdhcmRlbnMsIE1hcnRpbiBHcm92ZSwgSXNsaW5ndG9uLCBDbG92ZXJkYWxlLCBFdG9iaWNva2U8L2Rpdj5gKVswXTsKICAgICAgICAgICAgcG9wdXBfODdjMmQyOWJmNTUwNDE4ZWJiNDgzYTk1MGI0OTFjYTAuc2V0Q29udGVudChodG1sXzYxNzg2NTE3NjJkMzQ5YWJiMjMyZjQxNTE3MWNhYmZhKTsKICAgICAgICAKCiAgICAgICAgY2lyY2xlX21hcmtlcl9iY2E4ZWNiMmVlY2Q0Njc3YWY3ZGMwYWY2YTk2YmYyMS5iaW5kUG9wdXAocG9wdXBfODdjMmQyOWJmNTUwNDE4ZWJiNDgzYTk1MGI0OTFjYTApCiAgICAgICAgOwoKICAgICAgICAKICAgIAogICAgCiAgICAgICAgICAgIHZhciBjaXJjbGVfbWFya2VyXzRkZmQ2YjUyMjE4ZjRhYWViMWIxMTljOTc5Mzg2ZWUxID0gTC5jaXJjbGVNYXJrZXIoCiAgICAgICAgICAgICAgICBbNDMuNjQzNTE1MiwgLTc5LjU3NzIwMDc5OTk5OTk5XSwKICAgICAgICAgICAgICAgIHsiYnViYmxpbmdNb3VzZUV2ZW50cyI6IHRydWUsICJjb2xvciI6ICJibHVlIiwgImRhc2hBcnJheSI6IG51bGwsICJkYXNoT2Zmc2V0IjogbnVsbCwgImZpbGwiOiB0cnVlLCAiZmlsbENvbG9yIjogIiMzMTg2Y2MiLCAiZmlsbE9wYWNpdHkiOiAwLjcsICJmaWxsUnVsZSI6ICJldmVub2RkIiwgImxpbmVDYXAiOiAicm91bmQiLCAibGluZUpvaW4iOiAicm91bmQiLCAib3BhY2l0eSI6IDEuMCwgInJhZGl1cyI6IDUsICJzdHJva2UiOiB0cnVlLCAid2VpZ2h0IjogM30KICAgICAgICAgICAgKS5hZGRUbyhtYXBfNDIzNDhkYjk3ZDQxNGVhOGE0Zjc3ZDMxNWRkNDVjMDApOwogICAgICAgIAogICAgCiAgICAgICAgdmFyIHBvcHVwX2EyMTg5NjZkNTcwMzQ2NjhiMmI4MWJhZjllZDI4MjAxID0gTC5wb3B1cCh7Im1heFdpZHRoIjogIjEwMCUifSk7CgogICAgICAgIAogICAgICAgICAgICB2YXIgaHRtbF80MjFkM2Q3NzMzOTQ0YTlhOTNiZWFjZjUyNWMxYzZhOSA9ICQoYDxkaXYgaWQ9Imh0bWxfNDIxZDNkNzczMzk0NGE5YTkzYmVhY2Y1MjVjMWM2YTkiIHN0eWxlPSJ3aWR0aDogMTAwLjAlOyBoZWlnaHQ6IDEwMC4wJTsiPkVyaW5nYXRlLCBCbG9vcmRhbGUgR2FyZGVucywgT2xkIEJ1cm5oYW10aG9ycGUsIE1hcmtsYW5kIFdvb2QsIEV0b2JpY29rZTwvZGl2PmApWzBdOwogICAgICAgICAgICBwb3B1cF9hMjE4OTY2ZDU3MDM0NjY4YjJiODFiYWY5ZWQyODIwMS5zZXRDb250ZW50KGh0bWxfNDIxZDNkNzczMzk0NGE5YTkzYmVhY2Y1MjVjMWM2YTkpOwogICAgICAgIAoKICAgICAgICBjaXJjbGVfbWFya2VyXzRkZmQ2YjUyMjE4ZjRhYWViMWIxMTljOTc5Mzg2ZWUxLmJpbmRQb3B1cChwb3B1cF9hMjE4OTY2ZDU3MDM0NjY4YjJiODFiYWY5ZWQyODIwMSkKICAgICAgICA7CgogICAgICAgIAogICAgCiAgICAKICAgICAgICAgICAgdmFyIGNpcmNsZV9tYXJrZXJfMmVmZTNhZjZjNTc5NDhlNWJiM2M1ZWViN2E2N2ExZGEgPSBMLmNpcmNsZU1hcmtlcigKICAgICAgICAgICAgICAgIFs0My43NTYzMDMzLCAtNzkuNTY1OTYzMjk5OTk5OTldLAogICAgICAgICAgICAgICAgeyJidWJibGluZ01vdXNlRXZlbnRzIjogdHJ1ZSwgImNvbG9yIjogImJsdWUiLCAiZGFzaEFycmF5IjogbnVsbCwgImRhc2hPZmZzZXQiOiBudWxsLCAiZmlsbCI6IHRydWUsICJmaWxsQ29sb3IiOiAiIzMxODZjYyIsICJmaWxsT3BhY2l0eSI6IDAuNywgImZpbGxSdWxlIjogImV2ZW5vZGQiLCAibGluZUNhcCI6ICJyb3VuZCIsICJsaW5lSm9pbiI6ICJyb3VuZCIsICJvcGFjaXR5IjogMS4wLCAicmFkaXVzIjogNSwgInN0cm9rZSI6IHRydWUsICJ3ZWlnaHQiOiAzfQogICAgICAgICAgICApLmFkZFRvKG1hcF80MjM0OGRiOTdkNDE0ZWE4YTRmNzdkMzE1ZGQ0NWMwMCk7CiAgICAgICAgCiAgICAKICAgICAgICB2YXIgcG9wdXBfYWQwYWRhNTNkN2I4NGZmYWI5NTA3NGQwMDJkYzZhYzAgPSBMLnBvcHVwKHsibWF4V2lkdGgiOiAiMTAwJSJ9KTsKCiAgICAgICAgCiAgICAgICAgICAgIHZhciBodG1sXzg0OTlhNGZmYTY0NDRiZWE4NjU5NWUyNGRmMjY2MDZiID0gJChgPGRpdiBpZD0iaHRtbF84NDk5YTRmZmE2NDQ0YmVhODY1OTVlMjRkZjI2NjA2YiIgc3R5bGU9IndpZHRoOiAxMDAuMCU7IGhlaWdodDogMTAwLjAlOyI+SHVtYmVyIFN1bW1pdCwgTm9ydGggWW9yazwvZGl2PmApWzBdOwogICAgICAgICAgICBwb3B1cF9hZDBhZGE1M2Q3Yjg0ZmZhYjk1MDc0ZDAwMmRjNmFjMC5zZXRDb250ZW50KGh0bWxfODQ5OWE0ZmZhNjQ0NGJlYTg2NTk1ZTI0ZGYyNjYwNmIpOwogICAgICAgIAoKICAgICAgICBjaXJjbGVfbWFya2VyXzJlZmUzYWY2YzU3OTQ4ZTViYjNjNWVlYjdhNjdhMWRhLmJpbmRQb3B1cChwb3B1cF9hZDBhZGE1M2Q3Yjg0ZmZhYjk1MDc0ZDAwMmRjNmFjMCkKICAgICAgICA7CgogICAgICAgIAogICAgCiAgICAKICAgICAgICAgICAgdmFyIGNpcmNsZV9tYXJrZXJfOGUzNWZlMWJlNWVmNGY5ODg1YjRmOGEzMjdlZTNjNzcgPSBMLmNpcmNsZU1hcmtlcigKICAgICAgICAgICAgICAgIFs0My43MjQ3NjU5LCAtNzkuNTMyMjQyNDAwMDAwMDJdLAogICAgICAgICAgICAgICAgeyJidWJibGluZ01vdXNlRXZlbnRzIjogdHJ1ZSwgImNvbG9yIjogImJsdWUiLCAiZGFzaEFycmF5IjogbnVsbCwgImRhc2hPZmZzZXQiOiBudWxsLCAiZmlsbCI6IHRydWUsICJmaWxsQ29sb3IiOiAiIzMxODZjYyIsICJmaWxsT3BhY2l0eSI6IDAuNywgImZpbGxSdWxlIjogImV2ZW5vZGQiLCAibGluZUNhcCI6ICJyb3VuZCIsICJsaW5lSm9pbiI6ICJyb3VuZCIsICJvcGFjaXR5IjogMS4wLCAicmFkaXVzIjogNSwgInN0cm9rZSI6IHRydWUsICJ3ZWlnaHQiOiAzfQogICAgICAgICAgICApLmFkZFRvKG1hcF80MjM0OGRiOTdkNDE0ZWE4YTRmNzdkMzE1ZGQ0NWMwMCk7CiAgICAgICAgCiAgICAKICAgICAgICB2YXIgcG9wdXBfMjI5MTE1NmY3YTEyNDgxMWFlY2YzMDY4MTVjNTM5YWMgPSBMLnBvcHVwKHsibWF4V2lkdGgiOiAiMTAwJSJ9KTsKCiAgICAgICAgCiAgICAgICAgICAgIHZhciBodG1sXzJjYTliNWQxOGRiODQ5NGZhNGQyYTVhYzRiZTJhODJiID0gJChgPGRpdiBpZD0iaHRtbF8yY2E5YjVkMThkYjg0OTRmYTRkMmE1YWM0YmUyYTgyYiIgc3R5bGU9IndpZHRoOiAxMDAuMCU7IGhlaWdodDogMTAwLjAlOyI+SHVtYmVybGVhLCBFbWVyeSwgTm9ydGggWW9yazwvZGl2PmApWzBdOwogICAgICAgICAgICBwb3B1cF8yMjkxMTU2ZjdhMTI0ODExYWVjZjMwNjgxNWM1MzlhYy5zZXRDb250ZW50KGh0bWxfMmNhOWI1ZDE4ZGI4NDk0ZmE0ZDJhNWFjNGJlMmE4MmIpOwogICAgICAgIAoKICAgICAgICBjaXJjbGVfbWFya2VyXzhlMzVmZTFiZTVlZjRmOTg4NWI0ZjhhMzI3ZWUzYzc3LmJpbmRQb3B1cChwb3B1cF8yMjkxMTU2ZjdhMTI0ODExYWVjZjMwNjgxNWM1MzlhYykKICAgICAgICA7CgogICAgICAgIAogICAgCiAgICAKICAgICAgICAgICAgdmFyIGNpcmNsZV9tYXJrZXJfOTFmYWY2MDNlMTM1NDBiNzk0NzBmZDFkZWY3ZWRlYWIgPSBMLmNpcmNsZU1hcmtlcigKICAgICAgICAgICAgICAgIFs0My43MDY4NzYsIC03OS41MTgxODg0MDAwMDAwMV0sCiAgICAgICAgICAgICAgICB7ImJ1YmJsaW5nTW91c2VFdmVudHMiOiB0cnVlLCAiY29sb3IiOiAiYmx1ZSIsICJkYXNoQXJyYXkiOiBudWxsLCAiZGFzaE9mZnNldCI6IG51bGwsICJmaWxsIjogdHJ1ZSwgImZpbGxDb2xvciI6ICIjMzE4NmNjIiwgImZpbGxPcGFjaXR5IjogMC43LCAiZmlsbFJ1bGUiOiAiZXZlbm9kZCIsICJsaW5lQ2FwIjogInJvdW5kIiwgImxpbmVKb2luIjogInJvdW5kIiwgIm9wYWNpdHkiOiAxLjAsICJyYWRpdXMiOiA1LCAic3Ryb2tlIjogdHJ1ZSwgIndlaWdodCI6IDN9CiAgICAgICAgICAgICkuYWRkVG8obWFwXzQyMzQ4ZGI5N2Q0MTRlYThhNGY3N2QzMTVkZDQ1YzAwKTsKICAgICAgICAKICAgIAogICAgICAgIHZhciBwb3B1cF83ZDNiZWM0NjRlM2U0OTNjYjYyZmY4N2Q1NDc0ZDZiZSA9IEwucG9wdXAoeyJtYXhXaWR0aCI6ICIxMDAlIn0pOwoKICAgICAgICAKICAgICAgICAgICAgdmFyIGh0bWxfY2M4ZGIxZTM5NWQ4NDZiMjgzZTk4YmY1Njc1MmU4Y2MgPSAkKGA8ZGl2IGlkPSJodG1sX2NjOGRiMWUzOTVkODQ2YjI4M2U5OGJmNTY3NTJlOGNjIiBzdHlsZT0id2lkdGg6IDEwMC4wJTsgaGVpZ2h0OiAxMDAuMCU7Ij5XZXN0b24sIFlvcms8L2Rpdj5gKVswXTsKICAgICAgICAgICAgcG9wdXBfN2QzYmVjNDY0ZTNlNDkzY2I2MmZmODdkNTQ3NGQ2YmUuc2V0Q29udGVudChodG1sX2NjOGRiMWUzOTVkODQ2YjI4M2U5OGJmNTY3NTJlOGNjKTsKICAgICAgICAKCiAgICAgICAgY2lyY2xlX21hcmtlcl85MWZhZjYwM2UxMzU0MGI3OTQ3MGZkMWRlZjdlZGVhYi5iaW5kUG9wdXAocG9wdXBfN2QzYmVjNDY0ZTNlNDkzY2I2MmZmODdkNTQ3NGQ2YmUpCiAgICAgICAgOwoKICAgICAgICAKICAgIAogICAgCiAgICAgICAgICAgIHZhciBjaXJjbGVfbWFya2VyX2ZlNDhhOWNkZTAwOTQ5NDQ4MGFlOWE4YjkwMzE5M2Q0ID0gTC5jaXJjbGVNYXJrZXIoCiAgICAgICAgICAgICAgICBbNDMuNjk2MzE5LCAtNzkuNTMyMjQyNDAwMDAwMDJdLAogICAgICAgICAgICAgICAgeyJidWJibGluZ01vdXNlRXZlbnRzIjogdHJ1ZSwgImNvbG9yIjogImJsdWUiLCAiZGFzaEFycmF5IjogbnVsbCwgImRhc2hPZmZzZXQiOiBudWxsLCAiZmlsbCI6IHRydWUsICJmaWxsQ29sb3IiOiAiIzMxODZjYyIsICJmaWxsT3BhY2l0eSI6IDAuNywgImZpbGxSdWxlIjogImV2ZW5vZGQiLCAibGluZUNhcCI6ICJyb3VuZCIsICJsaW5lSm9pbiI6ICJyb3VuZCIsICJvcGFjaXR5IjogMS4wLCAicmFkaXVzIjogNSwgInN0cm9rZSI6IHRydWUsICJ3ZWlnaHQiOiAzfQogICAgICAgICAgICApLmFkZFRvKG1hcF80MjM0OGRiOTdkNDE0ZWE4YTRmNzdkMzE1ZGQ0NWMwMCk7CiAgICAgICAgCiAgICAKICAgICAgICB2YXIgcG9wdXBfODg0OTkwNjk3NjBmNDhjNmE1NjM3NjVlNTQ1MmU5YzEgPSBMLnBvcHVwKHsibWF4V2lkdGgiOiAiMTAwJSJ9KTsKCiAgICAgICAgCiAgICAgICAgICAgIHZhciBodG1sX2U0OWZiYjRkMGFjZjQwOWNhYTQ1YzA3ZTcyODg3N2U3ID0gJChgPGRpdiBpZD0iaHRtbF9lNDlmYmI0ZDBhY2Y0MDljYWE0NWMwN2U3Mjg4NzdlNyIgc3R5bGU9IndpZHRoOiAxMDAuMCU7IGhlaWdodDogMTAwLjAlOyI+V2VzdG1vdW50LCBFdG9iaWNva2U8L2Rpdj5gKVswXTsKICAgICAgICAgICAgcG9wdXBfODg0OTkwNjk3NjBmNDhjNmE1NjM3NjVlNTQ1MmU5YzEuc2V0Q29udGVudChodG1sX2U0OWZiYjRkMGFjZjQwOWNhYTQ1YzA3ZTcyODg3N2U3KTsKICAgICAgICAKCiAgICAgICAgY2lyY2xlX21hcmtlcl9mZTQ4YTljZGUwMDk0OTQ0ODBhZTlhOGI5MDMxOTNkNC5iaW5kUG9wdXAocG9wdXBfODg0OTkwNjk3NjBmNDhjNmE1NjM3NjVlNTQ1MmU5YzEpCiAgICAgICAgOwoKICAgICAgICAKICAgIAogICAgCiAgICAgICAgICAgIHZhciBjaXJjbGVfbWFya2VyXzU5MDQ4MTY2NzYzODQ2ODlhNDI0YTkxYTExZDhlNjQ5ID0gTC5jaXJjbGVNYXJrZXIoCiAgICAgICAgICAgICAgICBbNDMuNjg4OTA1NCwgLTc5LjU1NDcyNDQwMDAwMDAxXSwKICAgICAgICAgICAgICAgIHsiYnViYmxpbmdNb3VzZUV2ZW50cyI6IHRydWUsICJjb2xvciI6ICJibHVlIiwgImRhc2hBcnJheSI6IG51bGwsICJkYXNoT2Zmc2V0IjogbnVsbCwgImZpbGwiOiB0cnVlLCAiZmlsbENvbG9yIjogIiMzMTg2Y2MiLCAiZmlsbE9wYWNpdHkiOiAwLjcsICJmaWxsUnVsZSI6ICJldmVub2RkIiwgImxpbmVDYXAiOiAicm91bmQiLCAibGluZUpvaW4iOiAicm91bmQiLCAib3BhY2l0eSI6IDEuMCwgInJhZGl1cyI6IDUsICJzdHJva2UiOiB0cnVlLCAid2VpZ2h0IjogM30KICAgICAgICAgICAgKS5hZGRUbyhtYXBfNDIzNDhkYjk3ZDQxNGVhOGE0Zjc3ZDMxNWRkNDVjMDApOwogICAgICAgIAogICAgCiAgICAgICAgdmFyIHBvcHVwX2YzNTM5MzVjNTFjNjRjY2RiOTNjYzdhODg0MWU2NTcyID0gTC5wb3B1cCh7Im1heFdpZHRoIjogIjEwMCUifSk7CgogICAgICAgIAogICAgICAgICAgICB2YXIgaHRtbF8yY2MwMzY5MzQ5Mzk0M2QxYTJlYzVkMGRmMGQ3YjljOSA9ICQoYDxkaXYgaWQ9Imh0bWxfMmNjMDM2OTM0OTM5NDNkMWEyZWM1ZDBkZjBkN2I5YzkiIHN0eWxlPSJ3aWR0aDogMTAwLjAlOyBoZWlnaHQ6IDEwMC4wJTsiPktpbmdzdmlldyBWaWxsYWdlLCBTdC4gUGhpbGxpcHMsIE1hcnRpbiBHcm92ZSBHYXJkZW5zLCBSaWNodmlldyBHYXJkZW5zLCBFdG9iaWNva2U8L2Rpdj5gKVswXTsKICAgICAgICAgICAgcG9wdXBfZjM1MzkzNWM1MWM2NGNjZGI5M2NjN2E4ODQxZTY1NzIuc2V0Q29udGVudChodG1sXzJjYzAzNjkzNDkzOTQzZDFhMmVjNWQwZGYwZDdiOWM5KTsKICAgICAgICAKCiAgICAgICAgY2lyY2xlX21hcmtlcl81OTA0ODE2Njc2Mzg0Njg5YTQyNGE5MWExMWQ4ZTY0OS5iaW5kUG9wdXAocG9wdXBfZjM1MzkzNWM1MWM2NGNjZGI5M2NjN2E4ODQxZTY1NzIpCiAgICAgICAgOwoKICAgICAgICAKICAgIAogICAgCiAgICAgICAgICAgIHZhciBjaXJjbGVfbWFya2VyXzdkMWZlZmIzYmE4OTRmYmE5ZWE3Njc0YzJjNTc4OTYxID0gTC5jaXJjbGVNYXJrZXIoCiAgICAgICAgICAgICAgICBbNDMuNzM5NDE2Mzk5OTk5OTk2LCAtNzkuNTg4NDM2OV0sCiAgICAgICAgICAgICAgICB7ImJ1YmJsaW5nTW91c2VFdmVudHMiOiB0cnVlLCAiY29sb3IiOiAiYmx1ZSIsICJkYXNoQXJyYXkiOiBudWxsLCAiZGFzaE9mZnNldCI6IG51bGwsICJmaWxsIjogdHJ1ZSwgImZpbGxDb2xvciI6ICIjMzE4NmNjIiwgImZpbGxPcGFjaXR5IjogMC43LCAiZmlsbFJ1bGUiOiAiZXZlbm9kZCIsICJsaW5lQ2FwIjogInJvdW5kIiwgImxpbmVKb2luIjogInJvdW5kIiwgIm9wYWNpdHkiOiAxLjAsICJyYWRpdXMiOiA1LCAic3Ryb2tlIjogdHJ1ZSwgIndlaWdodCI6IDN9CiAgICAgICAgICAgICkuYWRkVG8obWFwXzQyMzQ4ZGI5N2Q0MTRlYThhNGY3N2QzMTVkZDQ1YzAwKTsKICAgICAgICAKICAgIAogICAgICAgIHZhciBwb3B1cF9lODIxODM4Njk4MDc0NGYxYTZlMzg2YWM2OTAzNTczNiA9IEwucG9wdXAoeyJtYXhXaWR0aCI6ICIxMDAlIn0pOwoKICAgICAgICAKICAgICAgICAgICAgdmFyIGh0bWxfNmM2NjNhZTUzMzY2NDdkYzgxYTkzMzBmZWVkMzRhMGQgPSAkKGA8ZGl2IGlkPSJodG1sXzZjNjYzYWU1MzM2NjQ3ZGM4MWE5MzMwZmVlZDM0YTBkIiBzdHlsZT0id2lkdGg6IDEwMC4wJTsgaGVpZ2h0OiAxMDAuMCU7Ij5Tb3V0aCBTdGVlbGVzLCBTaWx2ZXJzdG9uZSwgSHVtYmVyZ2F0ZSwgSmFtZXN0b3duLCBNb3VudCBPbGl2ZSwgQmVhdW1vbmQgSGVpZ2h0cywgVGhpc3RsZXRvd24sIEFsYmlvbiBHYXJkZW5zLCBFdG9iaWNva2U8L2Rpdj5gKVswXTsKICAgICAgICAgICAgcG9wdXBfZTgyMTgzODY5ODA3NDRmMWE2ZTM4NmFjNjkwMzU3MzYuc2V0Q29udGVudChodG1sXzZjNjYzYWU1MzM2NjQ3ZGM4MWE5MzMwZmVlZDM0YTBkKTsKICAgICAgICAKCiAgICAgICAgY2lyY2xlX21hcmtlcl83ZDFmZWZiM2JhODk0ZmJhOWVhNzY3NGMyYzU3ODk2MS5iaW5kUG9wdXAocG9wdXBfZTgyMTgzODY5ODA3NDRmMWE2ZTM4NmFjNjkwMzU3MzYpCiAgICAgICAgOwoKICAgICAgICAKICAgIAogICAgCiAgICAgICAgICAgIHZhciBjaXJjbGVfbWFya2VyXzYxNWRkYTI4MGQ0MjQzYTdiMDdlZWFiZTA4YmNkYzU5ID0gTC5jaXJjbGVNYXJrZXIoCiAgICAgICAgICAgICAgICBbNDMuNzA2NzQ4Mjk5OTk5OTk0LCAtNzkuNTk0MDU0NF0sCiAgICAgICAgICAgICAgICB7ImJ1YmJsaW5nTW91c2VFdmVudHMiOiB0cnVlLCAiY29sb3IiOiAiYmx1ZSIsICJkYXNoQXJyYXkiOiBudWxsLCAiZGFzaE9mZnNldCI6IG51bGwsICJmaWxsIjogdHJ1ZSwgImZpbGxDb2xvciI6ICIjMzE4NmNjIiwgImZpbGxPcGFjaXR5IjogMC43LCAiZmlsbFJ1bGUiOiAiZXZlbm9kZCIsICJsaW5lQ2FwIjogInJvdW5kIiwgImxpbmVKb2luIjogInJvdW5kIiwgIm9wYWNpdHkiOiAxLjAsICJyYWRpdXMiOiA1LCAic3Ryb2tlIjogdHJ1ZSwgIndlaWdodCI6IDN9CiAgICAgICAgICAgICkuYWRkVG8obWFwXzQyMzQ4ZGI5N2Q0MTRlYThhNGY3N2QzMTVkZDQ1YzAwKTsKICAgICAgICAKICAgIAogICAgICAgIHZhciBwb3B1cF9mNDZjNWNiMzIxMjY0ZDg5YjBlNDUzNjdiNGVkMDQzYiA9IEwucG9wdXAoeyJtYXhXaWR0aCI6ICIxMDAlIn0pOwoKICAgICAgICAKICAgICAgICAgICAgdmFyIGh0bWxfMTQzNzlmZDNhYTgyNGY0ZDgzMjlmYzk5YmE3MTFkNDQgPSAkKGA8ZGl2IGlkPSJodG1sXzE0Mzc5ZmQzYWE4MjRmNGQ4MzI5ZmM5OWJhNzExZDQ0IiBzdHlsZT0id2lkdGg6IDEwMC4wJTsgaGVpZ2h0OiAxMDAuMCU7Ij5Ob3J0aHdlc3QsIFdlc3QgSHVtYmVyIC0gQ2xhaXJ2aWxsZSwgRXRvYmljb2tlPC9kaXY+YClbMF07CiAgICAgICAgICAgIHBvcHVwX2Y0NmM1Y2IzMjEyNjRkODliMGU0NTM2N2I0ZWQwNDNiLnNldENvbnRlbnQoaHRtbF8xNDM3OWZkM2FhODI0ZjRkODMyOWZjOTliYTcxMWQ0NCk7CiAgICAgICAgCgogICAgICAgIGNpcmNsZV9tYXJrZXJfNjE1ZGRhMjgwZDQyNDNhN2IwN2VlYWJlMDhiY2RjNTkuYmluZFBvcHVwKHBvcHVwX2Y0NmM1Y2IzMjEyNjRkODliMGU0NTM2N2I0ZWQwNDNiKQogICAgICAgIDsKCiAgICAgICAgCiAgICAKPC9zY3JpcHQ+ onload=\"this.contentDocument.open();this.contentDocument.write(atob(this.getAttribute('data-html')));this.contentDocument.close();\" allowfullscreen webkitallowfullscreen mozallowfullscreen></iframe></div></div>"
      ],
      "text/plain": [
       "<folium.folium.Map at 0x1ed133becc0>"
      ]
     },
     "execution_count": 85,
     "metadata": {},
     "output_type": "execute_result"
    }
   ],
   "source": [
    "# create map of Torronto using latitude and longitude values\n",
    "map_toronto = folium.Map(location=[latitude, longitude], zoom_start=10)\n",
    "# add markers to map\n",
    "for lat, lng, borough, neighborhood in zip(toronto_df2['Latitude'], toronto_df2['Longitude'], toronto_df2['Borough'], toronto_df2['Neighborhood']):\n",
    "    label = '{}, {}'.format(neighborhood, borough)\n",
    "    label = folium.Popup(label, parse_html=True)\n",
    "    folium.CircleMarker(\n",
    "        [lat, lng],\n",
    "        radius=5,\n",
    "        popup=label,\n",
    "        color='blue',\n",
    "        fill=True,\n",
    "        fill_color='#3186cc',\n",
    "        fill_opacity=0.7,\n",
    "        parse_html=False).add_to(map_toronto) \n",
    "map_toronto"
   ]
  },
  {
   "cell_type": "code",
   "execution_count": null,
   "metadata": {},
   "outputs": [],
   "source": []
  }
 ],
 "metadata": {
  "kernelspec": {
   "display_name": "Python 3",
   "language": "python",
   "name": "python3"
  },
  "language_info": {
   "codemirror_mode": {
    "name": "ipython",
    "version": 3
   },
   "file_extension": ".py",
   "mimetype": "text/x-python",
   "name": "python",
   "nbconvert_exporter": "python",
   "pygments_lexer": "ipython3",
   "version": "3.7.3"
  }
 },
 "nbformat": 4,
 "nbformat_minor": 2
}
